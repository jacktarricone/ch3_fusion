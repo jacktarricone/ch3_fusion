{
 "cells": [
  {
   "cell_type": "markdown",
   "id": "e12b7b6b-4648-4767-9598-219ab086c8f1",
   "metadata": {
    "tags": []
   },
   "source": [
    "### process uavsar multi segment sierra line\n",
    "jack tarricone\n",
    "nov 16th start"
   ]
  },
  {
   "cell_type": "code",
   "execution_count": 1,
   "id": "ccdc3589-4db7-416f-9c8e-cff3cd539a1d",
   "metadata": {},
   "outputs": [
    {
     "name": "stdout",
     "output_type": "stream",
     "text": [
      "2023-11-29 09:42:39,861 - rasterio.session - DEBUG - Could not import boto3, continuing with reduced functionality.\n"
     ]
    },
    {
     "name": "stderr",
     "output_type": "stream",
     "text": [
      "/Users/jtarrico/miniconda/envs/isce2_env/lib/python3.9/site-packages/tqdm/auto.py:21: TqdmWarning: IProgress not found. Please update jupyter and ipywidgets. See https://ipywidgets.readthedocs.io/en/stable/user_install.html\n",
      "  from .autonotebook import tqdm as notebook_tqdm\n",
      "/Users/jtarrico/miniconda/envs/isce2_env/lib/python3.9/site-packages/scipy/__init__.py:155: UserWarning: A NumPy version >=1.18.5 and <1.25.0 is required for this version of SciPy (detected version 1.26.0\n",
      "  warnings.warn(f\"A NumPy version >={np_minversion} and <{np_maxversion}\"\n"
     ]
    }
   ],
   "source": [
    "%matplotlib inline\n",
    "import isce\n",
    "import os\n",
    "import glob\n",
    "import numpy as np\n",
    "import shutil\n",
    "from osgeo import gdal\n",
    "import matplotlib.pyplot as plt\n",
    "import rasterio as rio\n",
    "from rasterio.plot import show # plotting raster data\n",
    "from rasterio.plot import show_hist #histograms of raster data\n",
    "from uavsar_pytools.georeference import geolocate_uavsar"
   ]
  },
  {
   "cell_type": "code",
   "execution_count": 2,
   "id": "9c8cdd5a-6abb-4d55-b4f5-72800e52a148",
   "metadata": {},
   "outputs": [
    {
     "data": {
      "text/plain": [
       "'/Users/jtarrico'"
      ]
     },
     "execution_count": 2,
     "metadata": {},
     "output_type": "execute_result"
    }
   ],
   "source": [
    "# get home dir\n",
    "home = '/Users/jtarrico/'\n",
    "os.chdir(home)\n",
    "os.getcwd()"
   ]
  },
  {
   "cell_type": "code",
   "execution_count": 3,
   "id": "04dc3e7a-2122-498f-b6a7-b45cc8a32255",
   "metadata": {},
   "outputs": [],
   "source": [
    "# working folder name\n",
    "isce_directory = 'sierra_isce_multi'\n",
    "    \n",
    "# path to folder\n",
    "working_dir = os.path.join(home,isce_directory)"
   ]
  },
  {
   "cell_type": "code",
   "execution_count": 4,
   "id": "7d9faa0b-55d8-497c-b185-bcc7a52e670e",
   "metadata": {},
   "outputs": [
    {
     "name": "stdout",
     "output_type": "stream",
     "text": [
      "Directory 'sierra_isce_multi' created\n"
     ]
    }
   ],
   "source": [
    "# make new folder\n",
    "# os.mkdir(working_dir)\n",
    "print(\"Directory '%s' created\" %isce_directory)"
   ]
  },
  {
   "cell_type": "code",
   "execution_count": 5,
   "id": "f9115134-7567-4195-9bef-55ceed84a8e5",
   "metadata": {},
   "outputs": [
    {
     "data": {
      "text/plain": [
       "'/Users/jtarrico/sierra_isce_multi'"
      ]
     },
     "execution_count": 5,
     "metadata": {},
     "output_type": "execute_result"
    }
   ],
   "source": [
    "# nativate to new folder\n",
    "os.chdir(working_dir)\n",
    "os.getcwd()"
   ]
  },
  {
   "cell_type": "code",
   "execution_count": null,
   "id": "046e1a12-93eb-4929-9281-74f119e1b304",
   "metadata": {},
   "outputs": [],
   "source": [
    "## create subdirectories\n",
    "\n",
    "# download\n",
    "dl = 'download'\n",
    "download_path = os.path.join(working_dir,dl)\n",
    "# os.mkdir(download_path)"
   ]
  },
  {
   "cell_type": "code",
   "execution_count": null,
   "id": "fbe98cc4-1e0f-403f-9926-b1cd44b5bf7c",
   "metadata": {},
   "outputs": [],
   "source": [
    "# check folders were created\n",
    "for file in os.listdir(working_dir):\n",
    "    d = os.path.join(working_dir, file)\n",
    "    if os.path.isdir(d):\n",
    "        print(d)"
   ]
  },
  {
   "cell_type": "markdown",
   "id": "26072a5e-8837-47de-b139-4294cc0d0f90",
   "metadata": {},
   "source": [
    "# nativate to download folder\n",
    "os.chdir(download_path)\n",
    "os.getcwd()"
   ]
  },
  {
   "cell_type": "markdown",
   "id": "b584e055-3b22-4ea0-ae53-9a96b3367319",
   "metadata": {},
   "source": [
    "## download"
   ]
  },
  {
   "cell_type": "code",
   "execution_count": null,
   "id": "ec56f499-006d-46d1-964d-6e82e4e54db9",
   "metadata": {},
   "outputs": [],
   "source": [
    "# create .sh file from links\n",
    "\n",
    "links = ['wget https://downloaduav2.jpl.nasa.gov/Release30/sierra_17305_01/sierra_17305_01_BC.dop',\n",
    "'wget https://downloaduav2.jpl.nasa.gov/Release30/sierra_17305_01/sierra_17305_01_BC_s1_1x1.llh',\n",
    "'wget https://downloaduav2.jpl.nasa.gov/Release30/sierra_17305_01/sierra_17305_01_BC_s1_1x1.lkv',\n",
    "'wget https://downloaduav2.jpl.nasa.gov/Release30/sierra_17305_01/sierra_17305_01_BC_s2_1x1.llh',\n",
    "'wget https://downloaduav2.jpl.nasa.gov/Release30/sierra_17305_01/sierra_17305_01_BC_s2_1x1.lkv',\n",
    "'wget https://downloaduav2.jpl.nasa.gov/Release30/sierra_17305_01/sierra_17305_20002_001_200131_L090VV_01_BC.ann',\n",
    "'wget https://downloaduav2.jpl.nasa.gov/Release30/sierra_17305_01/sierra_17305_20006_002_200212_L090VV_01_BC.ann',\n",
    "'wget https://downloaduav2.jpl.nasa.gov/Release30/sierra_17305_01/sierra_17305_20009_023_200219_L090VV_01_BC.ann',\n",
    "'wget https://downloaduav2.jpl.nasa.gov/Release30/sierra_17305_01/sierra_17305_20016_005_200311_L090VV_01_BC.ann',\n",
    "'wget https://downloaduav2.jpl.nasa.gov/Release30/sierra_17305_01/sierra_17305_20014_000_200226_L090VV_01_BC.ann',\n",
    "'wget https://downloaduav2.jpl.nasa.gov/Release30/sierra_17305_01/sierra_17305_20002_001_200131_L090VV_01_BC_s1_1x1.slc',\n",
    "'wget https://downloaduav2.jpl.nasa.gov/Release30/sierra_17305_01/sierra_17305_20006_002_200212_L090VV_01_BC_s1_1x1.slc',\n",
    "'wget https://downloaduav2.jpl.nasa.gov/Release30/sierra_17305_01/sierra_17305_20009_023_200219_L090VV_01_BC_s1_1x1.slc',\n",
    "'wget https://downloaduav2.jpl.nasa.gov/Release30/sierra_17305_01/sierra_17305_20014_000_200226_L090VV_01_BC_s1_1x1.slc',\n",
    "'wget https://downloaduav2.jpl.nasa.gov/Release30/sierra_17305_01/sierra_17305_20016_005_200311_L090VV_01_BC_s1_1x1.slc',\n",
    "'wget https://downloaduav2.jpl.nasa.gov/Release30/sierra_17305_01/sierra_17305_20002_001_200131_L090VV_01_BC_s2_1x1.slc',\n",
    "'wget https://downloaduav2.jpl.nasa.gov/Release30/sierra_17305_01/sierra_17305_20006_002_200212_L090VV_01_BC_s2_1x1.slc',\n",
    "'wget https://downloaduav2.jpl.nasa.gov/Release30/sierra_17305_01/sierra_17305_20009_023_200219_L090VV_01_BC_s2_1x1.slc',\n",
    "'wget https://downloaduav2.jpl.nasa.gov/Release30/sierra_17305_01/sierra_17305_20014_000_200226_L090VV_01_BC_s2_1x1.slc',\n",
    "'wget https://downloaduav2.jpl.nasa.gov/Release30/sierra_17305_01/sierra_17305_20016_005_200311_L090VV_01_BC_s2_1x1.slc']\n",
    "\n",
    "with open('downloads.sh', 'w') as f:\n",
    "    for links in links:\n",
    "        f.write(links)\n",
    "        f.write('\\n')"
   ]
  },
  {
   "cell_type": "code",
   "execution_count": 9,
   "id": "44960d62-5339-4964-baf4-52813b667dd8",
   "metadata": {},
   "outputs": [
    {
     "ename": "NameError",
     "evalue": "name 'download_path' is not defined",
     "output_type": "error",
     "traceback": [
      "\u001b[0;31m---------------------------------------------------------------------------\u001b[0m",
      "\u001b[0;31mNameError\u001b[0m                                 Traceback (most recent call last)",
      "Cell \u001b[0;32mIn[9], line 2\u001b[0m\n\u001b[1;32m      1\u001b[0m \u001b[38;5;66;03m# list files downloaded\u001b[39;00m\n\u001b[0;32m----> 2\u001b[0m \u001b[38;5;28;01mfor\u001b[39;00m i \u001b[38;5;129;01min\u001b[39;00m os\u001b[38;5;241m.\u001b[39mlistdir(\u001b[43mdownload_path\u001b[49m):\n\u001b[1;32m      3\u001b[0m     file \u001b[38;5;241m=\u001b[39m os\u001b[38;5;241m.\u001b[39mpath\u001b[38;5;241m.\u001b[39mjoin(download_path, i)\n\u001b[1;32m      4\u001b[0m     \u001b[38;5;28mprint\u001b[39m(file)\n",
      "\u001b[0;31mNameError\u001b[0m: name 'download_path' is not defined"
     ]
    }
   ],
   "source": [
    "# list files downloaded\n",
    "for i in os.listdir(download_path):\n",
    "    file = os.path.join(download_path, i)\n",
    "    print(file)"
   ]
  },
  {
   "cell_type": "markdown",
   "id": "18e755e2-5876-41e8-be02-de69e641ff8a",
   "metadata": {},
   "source": [
    "## merge segments"
   ]
  },
  {
   "cell_type": "markdown",
   "id": "14ccf4b7-c260-4071-ba0b-32a726192343",
   "metadata": {},
   "source": [
    "add these scripts to the stripmapp folder\n",
    "\n",
    "```pair.py``` \\\n",
    "```group_segments_dayhrmin_4isce.py``` \\\n",
    "```make_ifg_vrt_xml_isce.py``` \\\n",
    "```insar.py``` \\\n",
    "```make_slc_vrt_xml_isce.py``` \\\n",
    "```cat_and_interfere_py3.py``` \\\n",
    "```unpackFrame_UAVSAR_JPLcode.py``` "
   ]
  },
  {
   "cell_type": "code",
   "execution_count": 25,
   "id": "bf121879-d91b-45ef-9adc-7aa1fcf61867",
   "metadata": {},
   "outputs": [
    {
     "data": {
      "text/plain": [
       "'/Users/jtarrico/sierra_isce_multi/download'"
      ]
     },
     "execution_count": 25,
     "metadata": {},
     "output_type": "execute_result"
    }
   ],
   "source": [
    "# nativate to new folder\n",
    "os.chdir('./download')\n",
    "os.getcwd()"
   ]
  },
  {
   "cell_type": "code",
   "execution_count": 26,
   "id": "f5585eef-7eb2-43ae-a2c9-eb4d71a2e6a2",
   "metadata": {},
   "outputs": [],
   "source": [
    "# read segments\n",
    "! group_segments_dayhrmin_4isce.py . > images.json"
   ]
  },
  {
   "cell_type": "code",
   "execution_count": 27,
   "id": "02c21481-b754-4ef4-9122-1fee8c4a045a",
   "metadata": {},
   "outputs": [
    {
     "name": "stdout",
     "output_type": "stream",
     "text": [
      "8874 66664\n",
      "8874 63032\n",
      "unpackFrame_UAVSAR_JPLcode.py -i sierra_17305_20002_001_200131_L090VV_01_BC.ann -d ./sierra_17305_01_BC.dop -l 129696 -o ./20200131T1903\n",
      "UnknownUnitWarning: (1.0) \n",
      "UnknownUnitWarning: (1.0) \n",
      "UnknownUnitWarning: (1.0) \n",
      "UnknownUnitWarning: (1.0) \n",
      "UnknownUnitWarning: (1.0) \n",
      "UnknownUnitWarning: (1.0) \n",
      "2023-11-28 16:31:23,612 - isce.Sensor.UAVSAR_Stack - INFO - extractDoppler: rho0, drho, prf = 11558.5978, 1.66551366, 445.46146464548985\n",
      "2023-11-28 16:31:23,634 - isce.Sensor.UAVSAR_Stack - INFO - coeffs = [-1.18618649e+00  7.59851272e-04 -2.52651503e-07  5.67221397e-11\n",
      " -7.83341009e-15  5.86456631e-19 -1.80564378e-23]\n",
      "2023-11-28 16:31:23,635 - isce.Sensor.UAVSAR_Stack - INFO - rms residual = [0.00114148]\n",
      "2023-11-28 16:31:23,702 - isce.Sensor.UAVSAR_Stack - INFO - UAVSAR_Stack.extractDoppler: self.dopplerVals = {'Near': -1.1861864913881197}\n",
      "2023-11-28 16:31:23,703 - isce.Sensor.UAVSAR_Stack - INFO - UAVSAR_Stack.extractDoppler: prf = 445.46146464548985\n",
      "2023-11-28 16:31:23,705 - isce.Sensor.UAVSAR_Stack - INFO - UAVSAR_Stack: peg radius of curvature = 6361990.437831623\n",
      "2023-11-28 16:31:23,706 - isce.Sensor.UAVSAR_Stack - INFO - UAVSAR_Stack: terrain height = 2621.92557\n",
      "2023-11-28 16:31:23,706 - isce.Sensor.UAVSAR_Stack - INFO - key = Segment 1 Data Approximate Corner 1\n",
      "2023-11-28 16:31:23,706 - isce.Sensor.UAVSAR_Stack - INFO - metadata[key] = 37.762348175, -119.128829956\n",
      "2023-11-28 16:31:23,706 - isce.Sensor.UAVSAR_Stack - INFO - key = Segment 1 Data Approximate Corner 2\n",
      "2023-11-28 16:31:23,707 - isce.Sensor.UAVSAR_Stack - INFO - metadata[key] = 37.778522491, -118.926597595\n",
      "2023-11-28 16:31:23,707 - isce.Sensor.UAVSAR_Stack - INFO - key = Segment 1 Data Approximate Corner 3\n",
      "2023-11-28 16:31:23,707 - isce.Sensor.UAVSAR_Stack - INFO - metadata[key] = 37.403701782, -119.081878662\n",
      "2023-11-28 16:31:23,707 - isce.Sensor.UAVSAR_Stack - INFO - key = Segment 1 Data Approximate Corner 4\n",
      "2023-11-28 16:31:23,707 - isce.Sensor.UAVSAR_Stack - INFO - metadata[key] = 37.420864105, -118.871475220\n",
      "8874 66664\n",
      "8874 63032\n",
      "unpackFrame_UAVSAR_JPLcode.py -i sierra_17305_20006_002_200212_L090VV_01_BC.ann -d ./sierra_17305_01_BC.dop -l 129696 -o ./20200212T2211\n",
      "UnknownUnitWarning: (1.0) \n",
      "UnknownUnitWarning: (1.0) \n",
      "UnknownUnitWarning: (1.0) \n",
      "UnknownUnitWarning: (1.0) \n",
      "UnknownUnitWarning: (1.0) \n",
      "UnknownUnitWarning: (1.0) \n",
      "2023-11-28 16:31:24,410 - isce.Sensor.UAVSAR_Stack - INFO - extractDoppler: rho0, drho, prf = 11558.5978, 1.66551366, 445.46146464548985\n",
      "2023-11-28 16:31:24,431 - isce.Sensor.UAVSAR_Stack - INFO - coeffs = [-1.18618649e+00  7.59851272e-04 -2.52651503e-07  5.67221397e-11\n",
      " -7.83341009e-15  5.86456631e-19 -1.80564378e-23]\n",
      "2023-11-28 16:31:24,431 - isce.Sensor.UAVSAR_Stack - INFO - rms residual = [0.00114148]\n",
      "2023-11-28 16:31:24,491 - isce.Sensor.UAVSAR_Stack - INFO - UAVSAR_Stack.extractDoppler: self.dopplerVals = {'Near': -1.1861864913881197}\n",
      "2023-11-28 16:31:24,492 - isce.Sensor.UAVSAR_Stack - INFO - UAVSAR_Stack.extractDoppler: prf = 445.46146464548985\n",
      "2023-11-28 16:31:24,494 - isce.Sensor.UAVSAR_Stack - INFO - UAVSAR_Stack: peg radius of curvature = 6361990.437831623\n",
      "2023-11-28 16:31:24,494 - isce.Sensor.UAVSAR_Stack - INFO - UAVSAR_Stack: terrain height = 2621.92557\n",
      "2023-11-28 16:31:24,495 - isce.Sensor.UAVSAR_Stack - INFO - key = Segment 1 Data Approximate Corner 1\n",
      "2023-11-28 16:31:24,495 - isce.Sensor.UAVSAR_Stack - INFO - metadata[key] = 37.762348175, -119.128829956\n",
      "2023-11-28 16:31:24,495 - isce.Sensor.UAVSAR_Stack - INFO - key = Segment 1 Data Approximate Corner 2\n",
      "2023-11-28 16:31:24,495 - isce.Sensor.UAVSAR_Stack - INFO - metadata[key] = 37.778522491, -118.926597595\n",
      "2023-11-28 16:31:24,496 - isce.Sensor.UAVSAR_Stack - INFO - key = Segment 1 Data Approximate Corner 3\n",
      "2023-11-28 16:31:24,496 - isce.Sensor.UAVSAR_Stack - INFO - metadata[key] = 37.403701782, -119.081878662\n",
      "2023-11-28 16:31:24,496 - isce.Sensor.UAVSAR_Stack - INFO - key = Segment 1 Data Approximate Corner 4\n",
      "2023-11-28 16:31:24,496 - isce.Sensor.UAVSAR_Stack - INFO - metadata[key] = 37.420864105, -118.871475220\n",
      "8874 66664\n",
      "8874 63032\n",
      "unpackFrame_UAVSAR_JPLcode.py -i sierra_17305_20009_023_200219_L090VV_01_BC.ann -d ./sierra_17305_01_BC.dop -l 129696 -o ./20200219T2208\n",
      "UnknownUnitWarning: (1.0) \n",
      "UnknownUnitWarning: (1.0) \n",
      "UnknownUnitWarning: (1.0) \n",
      "UnknownUnitWarning: (1.0) \n",
      "UnknownUnitWarning: (1.0) \n",
      "UnknownUnitWarning: (1.0) \n",
      "2023-11-28 16:31:25,198 - isce.Sensor.UAVSAR_Stack - INFO - extractDoppler: rho0, drho, prf = 11558.5978, 1.66551366, 445.46146464548985\n",
      "2023-11-28 16:31:25,218 - isce.Sensor.UAVSAR_Stack - INFO - coeffs = [-1.18618649e+00  7.59851272e-04 -2.52651503e-07  5.67221397e-11\n",
      " -7.83341009e-15  5.86456631e-19 -1.80564378e-23]\n",
      "2023-11-28 16:31:25,218 - isce.Sensor.UAVSAR_Stack - INFO - rms residual = [0.00114148]\n",
      "2023-11-28 16:31:25,278 - isce.Sensor.UAVSAR_Stack - INFO - UAVSAR_Stack.extractDoppler: self.dopplerVals = {'Near': -1.1861864913881197}\n",
      "2023-11-28 16:31:25,278 - isce.Sensor.UAVSAR_Stack - INFO - UAVSAR_Stack.extractDoppler: prf = 445.46146464548985\n",
      "2023-11-28 16:31:25,281 - isce.Sensor.UAVSAR_Stack - INFO - UAVSAR_Stack: peg radius of curvature = 6361990.437831623\n",
      "2023-11-28 16:31:25,281 - isce.Sensor.UAVSAR_Stack - INFO - UAVSAR_Stack: terrain height = 2621.92557\n",
      "2023-11-28 16:31:25,282 - isce.Sensor.UAVSAR_Stack - INFO - key = Segment 1 Data Approximate Corner 1\n",
      "2023-11-28 16:31:25,282 - isce.Sensor.UAVSAR_Stack - INFO - metadata[key] = 37.762348175, -119.128829956\n",
      "2023-11-28 16:31:25,282 - isce.Sensor.UAVSAR_Stack - INFO - key = Segment 1 Data Approximate Corner 2\n",
      "2023-11-28 16:31:25,282 - isce.Sensor.UAVSAR_Stack - INFO - metadata[key] = 37.778522491, -118.926597595\n",
      "2023-11-28 16:31:25,283 - isce.Sensor.UAVSAR_Stack - INFO - key = Segment 1 Data Approximate Corner 3\n",
      "2023-11-28 16:31:25,283 - isce.Sensor.UAVSAR_Stack - INFO - metadata[key] = 37.403701782, -119.081878662\n",
      "2023-11-28 16:31:25,283 - isce.Sensor.UAVSAR_Stack - INFO - key = Segment 1 Data Approximate Corner 4\n",
      "2023-11-28 16:31:25,283 - isce.Sensor.UAVSAR_Stack - INFO - metadata[key] = 37.420864105, -118.871475220\n",
      "8874 66664\n",
      "8874 63032\n",
      "unpackFrame_UAVSAR_JPLcode.py -i sierra_17305_20014_000_200226_L090VV_01_BC.ann -d ./sierra_17305_01_BC.dop -l 129696 -o ./20200226T2253\n",
      "UnknownUnitWarning: (1.0) \n",
      "UnknownUnitWarning: (1.0) \n",
      "UnknownUnitWarning: (1.0) \n",
      "UnknownUnitWarning: (1.0) \n",
      "UnknownUnitWarning: (1.0) \n",
      "UnknownUnitWarning: (1.0) \n",
      "2023-11-28 16:31:26,006 - isce.Sensor.UAVSAR_Stack - INFO - extractDoppler: rho0, drho, prf = 11558.5978, 1.66551366, 445.46146464548985\n",
      "2023-11-28 16:31:26,026 - isce.Sensor.UAVSAR_Stack - INFO - coeffs = [-1.18618649e+00  7.59851272e-04 -2.52651503e-07  5.67221397e-11\n",
      " -7.83341009e-15  5.86456631e-19 -1.80564378e-23]\n",
      "2023-11-28 16:31:26,026 - isce.Sensor.UAVSAR_Stack - INFO - rms residual = [0.00114148]\n",
      "2023-11-28 16:31:26,084 - isce.Sensor.UAVSAR_Stack - INFO - UAVSAR_Stack.extractDoppler: self.dopplerVals = {'Near': -1.1861864913881197}\n",
      "2023-11-28 16:31:26,084 - isce.Sensor.UAVSAR_Stack - INFO - UAVSAR_Stack.extractDoppler: prf = 445.46146464548985\n",
      "2023-11-28 16:31:26,087 - isce.Sensor.UAVSAR_Stack - INFO - UAVSAR_Stack: peg radius of curvature = 6361990.437471623\n",
      "2023-11-28 16:31:26,087 - isce.Sensor.UAVSAR_Stack - INFO - UAVSAR_Stack: terrain height = 2621.92521\n",
      "2023-11-28 16:31:26,088 - isce.Sensor.UAVSAR_Stack - INFO - key = Segment 1 Data Approximate Corner 1\n",
      "2023-11-28 16:31:26,088 - isce.Sensor.UAVSAR_Stack - INFO - metadata[key] = 37.762348175, -119.128829956\n",
      "2023-11-28 16:31:26,088 - isce.Sensor.UAVSAR_Stack - INFO - key = Segment 1 Data Approximate Corner 2\n",
      "2023-11-28 16:31:26,088 - isce.Sensor.UAVSAR_Stack - INFO - metadata[key] = 37.778522491, -118.926597595\n",
      "2023-11-28 16:31:26,088 - isce.Sensor.UAVSAR_Stack - INFO - key = Segment 1 Data Approximate Corner 3\n",
      "2023-11-28 16:31:26,088 - isce.Sensor.UAVSAR_Stack - INFO - metadata[key] = 37.403701782, -119.081878662\n",
      "2023-11-28 16:31:26,089 - isce.Sensor.UAVSAR_Stack - INFO - key = Segment 1 Data Approximate Corner 4\n",
      "2023-11-28 16:31:26,089 - isce.Sensor.UAVSAR_Stack - INFO - metadata[key] = 37.420864105, -118.871475220\n",
      "8874 66664\n",
      "8874 63032\n",
      "unpackFrame_UAVSAR_JPLcode.py -i sierra_17305_20016_005_200311_L090VV_01_BC.ann -d ./sierra_17305_01_BC.dop -l 129696 -o ./20200311T1852\n",
      "UnknownUnitWarning: (1.0) \n",
      "UnknownUnitWarning: (1.0) \n",
      "UnknownUnitWarning: (1.0) \n",
      "UnknownUnitWarning: (1.0) \n",
      "UnknownUnitWarning: (1.0) \n",
      "UnknownUnitWarning: (1.0) \n",
      "2023-11-28 16:31:26,787 - isce.Sensor.UAVSAR_Stack - INFO - extractDoppler: rho0, drho, prf = 11558.5978, 1.66551366, 445.46146464548985\n",
      "2023-11-28 16:31:26,807 - isce.Sensor.UAVSAR_Stack - INFO - coeffs = [-1.18618649e+00  7.59851272e-04 -2.52651503e-07  5.67221397e-11\n",
      " -7.83341009e-15  5.86456631e-19 -1.80564378e-23]\n",
      "2023-11-28 16:31:26,808 - isce.Sensor.UAVSAR_Stack - INFO - rms residual = [0.00114148]\n",
      "2023-11-28 16:31:26,866 - isce.Sensor.UAVSAR_Stack - INFO - UAVSAR_Stack.extractDoppler: self.dopplerVals = {'Near': -1.1861864913881197}\n",
      "2023-11-28 16:31:26,866 - isce.Sensor.UAVSAR_Stack - INFO - UAVSAR_Stack.extractDoppler: prf = 445.46146464548985\n",
      "2023-11-28 16:31:26,869 - isce.Sensor.UAVSAR_Stack - INFO - UAVSAR_Stack: peg radius of curvature = 6361990.437471623\n",
      "2023-11-28 16:31:26,869 - isce.Sensor.UAVSAR_Stack - INFO - UAVSAR_Stack: terrain height = 2621.92521\n",
      "2023-11-28 16:31:26,870 - isce.Sensor.UAVSAR_Stack - INFO - key = Segment 1 Data Approximate Corner 1\n",
      "2023-11-28 16:31:26,870 - isce.Sensor.UAVSAR_Stack - INFO - metadata[key] = 37.762348175, -119.128829956\n",
      "2023-11-28 16:31:26,871 - isce.Sensor.UAVSAR_Stack - INFO - key = Segment 1 Data Approximate Corner 2\n",
      "2023-11-28 16:31:26,871 - isce.Sensor.UAVSAR_Stack - INFO - metadata[key] = 37.778522491, -118.926597595\n",
      "2023-11-28 16:31:26,871 - isce.Sensor.UAVSAR_Stack - INFO - key = Segment 1 Data Approximate Corner 3\n",
      "2023-11-28 16:31:26,871 - isce.Sensor.UAVSAR_Stack - INFO - metadata[key] = 37.403701782, -119.081878662\n",
      "2023-11-28 16:31:26,871 - isce.Sensor.UAVSAR_Stack - INFO - key = Segment 1 Data Approximate Corner 4\n",
      "2023-11-28 16:31:26,871 - isce.Sensor.UAVSAR_Stack - INFO - metadata[key] = 37.420864105, -118.871475220\n"
     ]
    }
   ],
   "source": [
    "# generate ancillary files\n",
    "! make_slc_vrt_xml_isce.py ./"
   ]
  },
  {
   "cell_type": "code",
   "execution_count": 28,
   "id": "acefe1be-e90d-45cd-ac8e-288ad2c8455a",
   "metadata": {},
   "outputs": [],
   "source": [
    "# create pairs .txt\n",
    "! pair.py -n 1 < images.json > pairs.txt"
   ]
  },
  {
   "cell_type": "code",
   "execution_count": 29,
   "id": "8c8ce4e2-d430-4826-b89e-d9d68374b1ee",
   "metadata": {},
   "outputs": [
    {
     "name": "stdout",
     "output_type": "stream",
     "text": [
      "Skipping 20200131T1903_20200212T2211 because it already exists.\n",
      "Skipping 20200212T2211_20200219T2208 because it already exists.\n",
      "Skipping 20200219T2208_20200226T2253 because it already exists.\n",
      "Skipping 20200226T2253_20200311T1852 because it already exists.\n"
     ]
    }
   ],
   "source": [
    "# form insar pairs at 8x2\n",
    "! cat_and_interfere_py3.py -d int -r 2 -a 8 images.json pairs.txt"
   ]
  },
  {
   "cell_type": "code",
   "execution_count": 30,
   "id": "53f05232-1710-4e7a-acff-01c08f599b28",
   "metadata": {},
   "outputs": [
    {
     "name": "stdout",
     "output_type": "stream",
     "text": [
      "API open (R): int/20200212T2211_20200219T2208/20200212T2211_20200219T2208.int\n",
      "API close:  int/20200212T2211_20200219T2208/20200212T2211_20200219T2208.int\n",
      "API open (R): int/20200212T2211_20200219T2208/20200212T2211_20200219T2208.amp\n",
      "API close:  int/20200212T2211_20200219T2208/20200212T2211_20200219T2208.amp\n",
      "API open (R): int/20200212T2211_20200219T2208/20200212T2211_20200219T2208.cor\n",
      "API close:  int/20200212T2211_20200219T2208/20200212T2211_20200219T2208.cor\n",
      "API open (R): int/20200219T2208_20200226T2253/20200219T2208_20200226T2253.int\n",
      "API close:  int/20200219T2208_20200226T2253/20200219T2208_20200226T2253.int\n",
      "API open (R): int/20200219T2208_20200226T2253/20200219T2208_20200226T2253.amp\n",
      "API close:  int/20200219T2208_20200226T2253/20200219T2208_20200226T2253.amp\n",
      "API open (R): int/20200219T2208_20200226T2253/20200219T2208_20200226T2253.cor\n",
      "API close:  int/20200219T2208_20200226T2253/20200219T2208_20200226T2253.cor\n",
      "API open (R): int/20200131T1903_20200212T2211/20200131T1903_20200212T2211.int\n",
      "API close:  int/20200131T1903_20200212T2211/20200131T1903_20200212T2211.int\n",
      "API open (R): int/20200131T1903_20200212T2211/20200131T1903_20200212T2211.amp\n",
      "API close:  int/20200131T1903_20200212T2211/20200131T1903_20200212T2211.amp\n",
      "API open (R): int/20200131T1903_20200212T2211/20200131T1903_20200212T2211.cor\n",
      "API close:  int/20200131T1903_20200212T2211/20200131T1903_20200212T2211.cor\n",
      "API open (R): int/20200226T2253_20200311T1852/20200226T2253_20200311T1852.int\n",
      "API close:  int/20200226T2253_20200311T1852/20200226T2253_20200311T1852.int\n",
      "API open (R): int/20200226T2253_20200311T1852/20200226T2253_20200311T1852.amp\n",
      "API close:  int/20200226T2253_20200311T1852/20200226T2253_20200311T1852.amp\n",
      "API open (R): int/20200226T2253_20200311T1852/20200226T2253_20200311T1852.cor\n",
      "API close:  int/20200226T2253_20200311T1852/20200226T2253_20200311T1852.cor\n"
     ]
    }
   ],
   "source": [
    "# gen more anc files\n",
    "! make_ifg_vrt_xml_isce.py -i int/"
   ]
  },
  {
   "cell_type": "markdown",
   "id": "76f8b436-0bc3-40fe-8d8a-5b420bb620de",
   "metadata": {},
   "source": [
    "## test plot"
   ]
  },
  {
   "cell_type": "code",
   "execution_count": null,
   "id": "61bd9725-a72c-44ed-a2d0-8b44ac65dfff",
   "metadata": {},
   "outputs": [],
   "source": [
    "w_int = './int/20200131T1903_20200212T2211/20200131T1903_20200212T2211.int.vrt'\n",
    "coh_path = './int/20200131T1903_20200212T2211/20200131T1903_20200212T2211.cor.vrt'\n",
    "\n",
    "# read int\n",
    "ds = gdal.Open(w_int, gdal.GA_ReadOnly)\n",
    "igram = ds.GetRasterBand(1).ReadAsArray()\n",
    "ds = None\n",
    "\n",
    "# read\n",
    "coh_ds = gdal.Open(coh_path, gdal.GA_ReadOnly)\n",
    "coh = coh_ds.GetRasterBand(1).ReadAsArray()\n",
    "coh_ds = None\n",
    "\n",
    "fig = plt.figure(figsize=(18, 14))\n",
    "\n",
    "ax = fig.add_subplot(1,3,1)\n",
    "ax.imshow(np.abs(igram), vmin = 0, vmax = .3, cmap = 'gray')\n",
    "ax.set_title(\"Magnitude\")\n",
    "ax.set_axis_off()\n",
    "\n",
    "ax = fig.add_subplot(1,3,2)\n",
    "ax.imshow(np.angle(igram), cmap = 'jet', vmax = 3.14, vmin = -3.14)\n",
    "ax.set_title(\"Phase\")\n",
    "ax.set_axis_off()\n",
    "\n",
    "ax = fig.add_subplot(1,3,3)\n",
    "ax.imshow(coh, vmin = 0 , vmax = 1, cmap = 'gray')\n",
    "ax.set_title(\"Coherence\")\n",
    "ax.set_axis_off()"
   ]
  },
  {
   "cell_type": "markdown",
   "id": "97a6d340-2b08-452b-9b0b-52213b06ae13",
   "metadata": {},
   "source": [
    "# Phase Unwrapping"
   ]
  },
  {
   "cell_type": "code",
   "execution_count": 36,
   "id": "6689e1a8-fa81-4ebe-b9e9-394b728966b9",
   "metadata": {},
   "outputs": [],
   "source": [
    "# start in downloads directory\n",
    "os.chdir('/Users/jtarrico/sierra_isce_multi')"
   ]
  },
  {
   "cell_type": "code",
   "execution_count": 31,
   "id": "f21a6be6-5559-40f5-a0dd-da9875d91adf",
   "metadata": {},
   "outputs": [],
   "source": [
    "# create text file of date list\n",
    "! ls --color=never int/ >> datelist.txt"
   ]
  },
  {
   "cell_type": "code",
   "execution_count": 37,
   "id": "f48e59e8-3fb1-4763-a71d-659e43529991",
   "metadata": {},
   "outputs": [
    {
     "name": "stdout",
     "output_type": "stream",
     "text": [
      "['20200212T2211_20200219T2208\\n', '20200219T2208_20200226T2253\\n', '20200226T2253_20200311T1852\\n']\n"
     ]
    }
   ],
   "source": [
    "# print contents of that file\n",
    "with open('datelist.txt') as f:\n",
    "    lines = f.readlines()\n",
    "    print(lines)"
   ]
  },
  {
   "cell_type": "code",
   "execution_count": 38,
   "id": "c1a0fb0d-0a24-4062-a2bf-2b44016e1c0f",
   "metadata": {},
   "outputs": [
    {
     "name": "stdout",
     "output_type": "stream",
     "text": [
      "usage: unwrap.py [-h] -i INTFILE -u UNWPREFIX -c COHFILE [--nomcf]\n",
      "                 [-a AZLOOKS] [-r RGLOOKS] [-d DEFOMAX] [-s REFERENCE]\n",
      "                 [-m METHOD]\n",
      "\n",
      "Unwrap interferogram using snaphu\n",
      "\n",
      "optional arguments:\n",
      "  -h, --help            show this help message and exit\n",
      "  -i INTFILE, --ifg INTFILE\n",
      "                        Input interferogram\n",
      "  -u UNWPREFIX, --unwprefix UNWPREFIX\n",
      "                        Output unwrapped file prefix\n",
      "  -c COHFILE, --coh COHFILE\n",
      "                        Coherence file\n",
      "  --nomcf               Run full snaphu and not in MCF mode\n",
      "  -a AZLOOKS, --alks AZLOOKS\n",
      "                        Number of azimuth looks\n",
      "  -r RGLOOKS, --rlks RGLOOKS\n",
      "                        Number of range looks\n",
      "  -d DEFOMAX, --defomax DEFOMAX\n",
      "                        Max cycles of deformation\n",
      "  -s REFERENCE, --reference REFERENCE\n",
      "                        Reference directory\n",
      "  -m METHOD, --method METHOD\n",
      "                        unwrapping method\n"
     ]
    }
   ],
   "source": [
    "! unwrap.py -h"
   ]
  },
  {
   "cell_type": "code",
   "execution_count": 40,
   "id": "95b3a077-5c64-4942-be2e-8845dab13cc0",
   "metadata": {},
   "outputs": [],
   "source": [
    "# make shell file to run unwrap\n",
    "! awk -F \"_\" '{print \"unwrap.py -i int/\"$1\"_\"$2\"/\"$1\"_\"$2\".int -u int/\"$1\"_\"$2\"/\"$1\"_\"$2\".unw -c int/\"$1\"_\"$2\"/\"$1\"_\"$2\".coh -a 8 -r 2 -s download/\"$1\"/ -m snaphu\"}' datelist.txt >> unwall.sh"
   ]
  },
  {
   "cell_type": "code",
   "execution_count": 42,
   "id": "751c5a8a-1782-47ff-ae35-6a35e5b09317",
   "metadata": {},
   "outputs": [
    {
     "name": "stdout",
     "output_type": "stream",
     "text": [
      "snaphu\n",
      "int/20200212T2211_20200219T2208/referenceShelve/data\n",
      "unwrapping method :  snaphu\n",
      "\n",
      "snaphu v1.4.2\n",
      "Reading wrapped phase from file int/20200212T2211_20200219T2208/20200212T2211_20200219T2208.int\n",
      "No weight file specified.  Assuming uniform weights\n",
      "Reading correlation data from file int/20200212T2211_20200219T2208/20200212T2211_20200219T2208.coh\n",
      "Calculating smooth-solution cost parameters\n",
      "Initializing flows with MCF algorithm\n",
      "Integrating phase\n",
      "Writing output to file int/20200212T2211_20200219T2208/20200212T2211_20200219T2208.unw_snaphu.unw\n",
      "Growing connected components on second pass\n",
      "\n",
      "snaphu v1.4.2\n",
      "Reading unwrapped phase from file int/20200212T2211_20200219T2208/20200212T2211_20200219T2208.unw_snaphu.unw\n",
      "No weight file specified.  Assuming uniform weights\n",
      "Reading correlation data from file int/20200212T2211_20200219T2208/20200212T2211_20200219T2208.coh\n",
      "Calculating smooth-solution cost parameters\n",
      "Growing connected component mask\n",
      "Writing connected components to file int/20200212T2211_20200219T2208/20200212T2211_20200219T2208.unw_snaphu.unw.conncomp\n",
      "time used: 74 mins 5.1 secs.\n",
      "snaphu\n",
      "int/20200219T2208_20200226T2253/referenceShelve/data\n",
      "unwrapping method :  snaphu\n",
      "\n",
      "snaphu v1.4.2\n",
      "Reading wrapped phase from file int/20200219T2208_20200226T2253/20200219T2208_20200226T2253.int\n",
      "No weight file specified.  Assuming uniform weights\n",
      "Reading correlation data from file int/20200219T2208_20200226T2253/20200219T2208_20200226T2253.coh\n",
      "Calculating smooth-solution cost parameters\n",
      "Initializing flows with MCF algorithm\n",
      "Integrating phase\n",
      "Writing output to file int/20200219T2208_20200226T2253/20200219T2208_20200226T2253.unw_snaphu.unw\n",
      "Growing connected components on second pass\n",
      "\n",
      "snaphu v1.4.2\n",
      "Reading unwrapped phase from file int/20200219T2208_20200226T2253/20200219T2208_20200226T2253.unw_snaphu.unw\n",
      "No weight file specified.  Assuming uniform weights\n",
      "Reading correlation data from file int/20200219T2208_20200226T2253/20200219T2208_20200226T2253.coh\n",
      "Calculating smooth-solution cost parameters\n",
      "Growing connected component mask\n",
      "Writing connected components to file int/20200219T2208_20200226T2253/20200219T2208_20200226T2253.unw_snaphu.unw.conncomp\n",
      "time used: 68 mins 41.7 secs.\n",
      "snaphu\n",
      "int/20200226T2253_20200311T1852/referenceShelve/data\n",
      "unwrapping method :  snaphu\n",
      "\n",
      "snaphu v1.4.2\n",
      "Reading wrapped phase from file int/20200226T2253_20200311T1852/20200226T2253_20200311T1852.int\n",
      "No weight file specified.  Assuming uniform weights\n",
      "Reading correlation data from file int/20200226T2253_20200311T1852/20200226T2253_20200311T1852.coh\n",
      "Calculating smooth-solution cost parameters\n",
      "Initializing flows with MCF algorithm\n",
      "Integrating phase\n",
      "Writing output to file int/20200226T2253_20200311T1852/20200226T2253_20200311T1852.unw_snaphu.unw\n",
      "Growing connected components on second pass\n",
      "\n",
      "snaphu v1.4.2\n",
      "Reading unwrapped phase from file int/20200226T2253_20200311T1852/20200226T2253_20200311T1852.unw_snaphu.unw\n",
      "No weight file specified.  Assuming uniform weights\n",
      "Reading correlation data from file int/20200226T2253_20200311T1852/20200226T2253_20200311T1852.coh\n",
      "Calculating smooth-solution cost parameters\n",
      "Growing connected component mask\n",
      "Writing connected components to file int/20200226T2253_20200311T1852/20200226T2253_20200311T1852.unw_snaphu.unw.conncomp\n",
      "time used: 79 mins 35.1 secs.\n"
     ]
    }
   ],
   "source": [
    "! sh unwall.sh"
   ]
  },
  {
   "cell_type": "code",
   "execution_count": 2,
   "id": "b224ef4c-b04e-4cd0-80ea-ec2cef1e208b",
   "metadata": {},
   "outputs": [],
   "source": [
    "# start in downloads directory\n",
    "os.chdir('/Users/jtarrico/sierra_isce_multi/')"
   ]
  },
  {
   "cell_type": "code",
   "execution_count": 3,
   "id": "258c639f-1d22-4253-a22a-9a92fef83459",
   "metadata": {
    "scrolled": true
   },
   "outputs": [
    {
     "name": "stdout",
     "output_type": "stream",
     "text": [
      "int/20200131T1903_20200212T2211/20200131T1903_20200212T2211.amp\n",
      "int/20200131T1903_20200212T2211/20200131T1903_20200212T2211.amp.vrt\n",
      "int/20200131T1903_20200212T2211/20200131T1903_20200212T2211.amp.xml\n",
      "int/20200131T1903_20200212T2211/20200131T1903_20200212T2211.coh\n",
      "int/20200131T1903_20200212T2211/20200131T1903_20200212T2211.coh.vrt\n",
      "int/20200131T1903_20200212T2211/20200131T1903_20200212T2211.coh.xml\n",
      "int/20200131T1903_20200212T2211/20200131T1903_20200212T2211.int\n",
      "int/20200131T1903_20200212T2211/20200131T1903_20200212T2211.int.vrt\n",
      "int/20200131T1903_20200212T2211/20200131T1903_20200212T2211.int.xml\n",
      "int/20200131T1903_20200212T2211/20200131T1903_20200212T2211.unw_snaphu.unw\n",
      "int/20200131T1903_20200212T2211/20200131T1903_20200212T2211.unw_snaphu.unw.conncomp\n",
      "int/20200131T1903_20200212T2211/20200131T1903_20200212T2211.unw_snaphu.unw.conncomp.vrt\n",
      "int/20200131T1903_20200212T2211/20200131T1903_20200212T2211.unw_snaphu.unw.conncomp.xml\n",
      "int/20200131T1903_20200212T2211/20200131T1903_20200212T2211.unw_snaphu.unw.vrt\n",
      "int/20200131T1903_20200212T2211/20200131T1903_20200212T2211.unw_snaphu.unw.xml\n",
      "int/20200212T2211_20200219T2208/20200212T2211_20200219T2208.amp\n",
      "int/20200212T2211_20200219T2208/20200212T2211_20200219T2208.amp.vrt\n",
      "int/20200212T2211_20200219T2208/20200212T2211_20200219T2208.amp.xml\n",
      "int/20200212T2211_20200219T2208/20200212T2211_20200219T2208.coh\n",
      "int/20200212T2211_20200219T2208/20200212T2211_20200219T2208.coh.vrt\n",
      "int/20200212T2211_20200219T2208/20200212T2211_20200219T2208.coh.xml\n",
      "int/20200212T2211_20200219T2208/20200212T2211_20200219T2208.int\n",
      "int/20200212T2211_20200219T2208/20200212T2211_20200219T2208.int.vrt\n",
      "int/20200212T2211_20200219T2208/20200212T2211_20200219T2208.int.xml\n",
      "int/20200212T2211_20200219T2208/20200212T2211_20200219T2208.unw_snaphu.unw\n",
      "int/20200212T2211_20200219T2208/20200212T2211_20200219T2208.unw_snaphu.unw.conncomp\n",
      "int/20200212T2211_20200219T2208/20200212T2211_20200219T2208.unw_snaphu.unw.conncomp.vrt\n",
      "int/20200212T2211_20200219T2208/20200212T2211_20200219T2208.unw_snaphu.unw.conncomp.xml\n",
      "int/20200212T2211_20200219T2208/20200212T2211_20200219T2208.unw_snaphu.unw.vrt\n",
      "int/20200212T2211_20200219T2208/20200212T2211_20200219T2208.unw_snaphu.unw.xml\n",
      "int/20200219T2208_20200226T2253/20200219T2208_20200226T2253.amp\n",
      "int/20200219T2208_20200226T2253/20200219T2208_20200226T2253.amp.vrt\n",
      "int/20200219T2208_20200226T2253/20200219T2208_20200226T2253.amp.xml\n",
      "int/20200219T2208_20200226T2253/20200219T2208_20200226T2253.coh\n",
      "int/20200219T2208_20200226T2253/20200219T2208_20200226T2253.coh.vrt\n",
      "int/20200219T2208_20200226T2253/20200219T2208_20200226T2253.coh.xml\n",
      "int/20200219T2208_20200226T2253/20200219T2208_20200226T2253.int\n",
      "int/20200219T2208_20200226T2253/20200219T2208_20200226T2253.int.vrt\n",
      "int/20200219T2208_20200226T2253/20200219T2208_20200226T2253.int.xml\n",
      "int/20200219T2208_20200226T2253/20200219T2208_20200226T2253.unw_snaphu.unw\n",
      "int/20200219T2208_20200226T2253/20200219T2208_20200226T2253.unw_snaphu.unw.conncomp\n",
      "int/20200219T2208_20200226T2253/20200219T2208_20200226T2253.unw_snaphu.unw.conncomp.vrt\n",
      "int/20200219T2208_20200226T2253/20200219T2208_20200226T2253.unw_snaphu.unw.conncomp.xml\n",
      "int/20200219T2208_20200226T2253/20200219T2208_20200226T2253.unw_snaphu.unw.vrt\n",
      "int/20200219T2208_20200226T2253/20200219T2208_20200226T2253.unw_snaphu.unw.xml\n",
      "int/20200226T2253_20200311T1852/20200226T2253_20200311T1852.amp\n",
      "int/20200226T2253_20200311T1852/20200226T2253_20200311T1852.amp.vrt\n",
      "int/20200226T2253_20200311T1852/20200226T2253_20200311T1852.amp.xml\n",
      "int/20200226T2253_20200311T1852/20200226T2253_20200311T1852.coh\n",
      "int/20200226T2253_20200311T1852/20200226T2253_20200311T1852.coh.vrt\n",
      "int/20200226T2253_20200311T1852/20200226T2253_20200311T1852.coh.xml\n",
      "int/20200226T2253_20200311T1852/20200226T2253_20200311T1852.int\n",
      "int/20200226T2253_20200311T1852/20200226T2253_20200311T1852.int.vrt\n",
      "int/20200226T2253_20200311T1852/20200226T2253_20200311T1852.int.xml\n",
      "int/20200226T2253_20200311T1852/20200226T2253_20200311T1852.unw_snaphu.unw\n",
      "int/20200226T2253_20200311T1852/20200226T2253_20200311T1852.unw_snaphu.unw.conncomp\n",
      "int/20200226T2253_20200311T1852/20200226T2253_20200311T1852.unw_snaphu.unw.conncomp.vrt\n",
      "int/20200226T2253_20200311T1852/20200226T2253_20200311T1852.unw_snaphu.unw.conncomp.xml\n",
      "int/20200226T2253_20200311T1852/20200226T2253_20200311T1852.unw_snaphu.unw.vrt\n",
      "int/20200226T2253_20200311T1852/20200226T2253_20200311T1852.unw_snaphu.unw.xml\n",
      "\n",
      "int/20200131T1903_20200212T2211/referenceShelve:\n",
      "data.db\n",
      "\n",
      "int/20200212T2211_20200219T2208/referenceShelve:\n",
      "data.db\n",
      "\n",
      "int/20200219T2208_20200226T2253/referenceShelve:\n",
      "data.db\n",
      "\n",
      "int/20200226T2253_20200311T1852/referenceShelve:\n",
      "data.db\n"
     ]
    }
   ],
   "source": [
    "# list files generated in unwrapping process\n",
    "!ls int/*/*"
   ]
  },
  {
   "cell_type": "code",
   "execution_count": null,
   "id": "5dc46674-5b62-4175-9d87-b3cf4667c89c",
   "metadata": {},
   "outputs": [],
   "source": [
    "# plot\n",
    "\n",
    "# reading the multi-looked wrapped interferogram\n",
    "ds = gdal.Open(\"int/20200212T2211_20200219T2208/20200212T2211_20200219T2208.int\", gdal.GA_ReadOnly)\n",
    "igram = ds.GetRasterBand(1).ReadAsArray()\n",
    "ds = None\n",
    "\n",
    "# reading the multi-looked unwrapped interferogram\n",
    "ds = gdal.Open(\"int/20200212T2211_20200219T2208/20200212T2211_20200219T2208.unw_snaphu.unw\", gdal.GA_ReadOnly)\n",
    "igram_unw = ds.GetRasterBand(2).ReadAsArray()\n",
    "ds = None\n",
    "\n",
    "# reading the connected component file\n",
    "ds = gdal.Open(\"int/20200212T2211_20200219T2208/20200212T2211_20200219T2208.unw_snaphu.unw.conncomp\", gdal.GA_ReadOnly)\n",
    "connected_components = ds.GetRasterBand(1).ReadAsArray()\n",
    "ds = None\n",
    "\n",
    "fig = plt.figure(figsize=(18, 16))\n",
    "\n",
    "ax = fig.add_subplot(1,3,1)\n",
    "cax=ax.imshow(np.angle(igram), cmap='jet')\n",
    "ax.set_title(\"wrapped\")\n",
    "#ax.set_axis_off()\n",
    "cbar = fig.colorbar(cax, ticks=[-3.14,0,3.14],orientation='horizontal')\n",
    "cbar.ax.set_xticklabels([\"$-\\pi$\",0,\"$\\pi$\"])\n",
    "\n",
    "ax = fig.add_subplot(1,3,2)\n",
    "cax = ax.imshow(igram_unw, vmin = 2, vmax = 11, cmap = 'jet')\n",
    "ax.set_title(\"unwrapped\")\n",
    "ax.set_axis_off()\n",
    "cbar = fig.colorbar(cax, ticks=[2,0,11], orientation='horizontal')\n",
    "\n",
    "\n",
    "ax = fig.add_subplot(1,3,3)\n",
    "cax = ax.imshow(connected_components, cmap = 'jet')\n",
    "ax.set_title(\"components\")\n",
    "ax.set_axis_off()\n",
    "cbar = fig.colorbar(cax, ticks=[0,21] , orientation='horizontal')\n",
    "cbar.ax.set_xticklabels([0,21])\n",
    "\n",
    "\n",
    "connected_components = None"
   ]
  },
  {
   "cell_type": "code",
   "execution_count": null,
   "id": "04a954ff-48ca-4bdf-8ef9-3d2ffa2cb5c0",
   "metadata": {},
   "outputs": [],
   "source": [
    "! gdalinfo int_orginal/20200131T1903_20200212T2211/20200131T1903_20200212T2211.unw_snaphu.unw"
   ]
  },
  {
   "cell_type": "code",
   "execution_count": null,
   "id": "04361975-0536-427d-b805-a143cc456849",
   "metadata": {},
   "outputs": [],
   "source": []
  },
  {
   "cell_type": "markdown",
   "id": "2c0b723d-ea92-4b7e-821d-6faea5448302",
   "metadata": {},
   "source": [
    "## geocode"
   ]
  },
  {
   "cell_type": "code",
   "execution_count": null,
   "id": "cf919fbe-3ecd-4d7e-96df-5cc4d447da8f",
   "metadata": {
    "scrolled": true
   },
   "outputs": [],
   "source": [
    "from pathlib import Path\n",
    "from glob import glob\n",
    "import os\n",
    "from uavsar_pytools.convert.tiff_conversion import read_annotation, array_to_tiff\n",
    "from os.path import join, basename, dirname\n",
    "from rasterio.vrt import WarpedVRT\n",
    "\n",
    "# combine llh files\n",
    "def combo_llhs(data_dir: Path, ann_fp: Path):\n",
    "    \"\"\"\n",
    "    Combines segment .llh files into a single combined .llh file and saves as a binary with .vrt.\n",
    "    \"\"\"\n",
    "    assert data_dir.exists()\n",
    "\n",
    "    re_llhs = {'lat':[], 'lon': [], 'height':[]}\n",
    "    for llh in sorted(data_dir.glob('*.llh')):\n",
    "        segment = llh.stem.split('_')[-2].replace('s','')\n",
    "\n",
    "        data = np.fromfile(llh, np.dtype('<f'))\n",
    "        lat, lon, height = data[::3], data[1::3], data[2::3]\n",
    "        for key, da in zip(re_llhs.keys(), [lat, lon, height]):\n",
    "            re_llhs[key].extend(da)\n",
    "                               \n",
    "    full = np.empty(len(re_llhs['lat'])*3, dtype='>f')\n",
    "    full[0::3] = re_llhs['lat']\n",
    "    full[1::3] = re_llhs['lon']\n",
    "    full[2::3] = re_llhs['height']\n",
    "\n",
    "    # read ann file\n",
    "    desc = read_annotation(ann_fp)\n",
    "    print('reading .ann file')\n",
    "\n",
    "    # read in number of rows from each llh file\n",
    "    nrows1 = desc[f'llh_1_2x8.set_rows']['value']\n",
    "    nrows2 = desc[f'llh_2_2x8.set_rows']['value']\n",
    "\n",
    "    # add rows for new reshaping number\n",
    "    nrows_new = nrows1 + nrows2\n",
    "    print('new number of rows = ',nrows_new)\n",
    "    \n",
    "    # read in cols, same fo rboth\n",
    "    ncols = desc[f'llh_1_2x8.set_cols']['value']\n",
    "    dt = np.dtype('<f')\n",
    "\n",
    "    # create empty arrays for lat and lon\n",
    "    lat_array = np.empty((nrows_new, ncols))\n",
    "    lon_array = np.empty((nrows_new, ncols))\n",
    "    \n",
    "    # fill each layer\n",
    "    lat_array = full[::3].reshape(nrows_new, ncols)\n",
    "    lon_array = full[1::3].reshape(nrows_new, ncols)\n",
    "\n",
    "    # define path to bin file\n",
    "    lat_output_file = data_dir / \"multi_seg.lat\"\n",
    "    lon_output_file = data_dir / \"multi_seg.lon\"\n",
    "\n",
    "    #### Save the array to bin file\n",
    "    # lat\n",
    "    lat_array.tofile(lat_output_file)\n",
    "    print('.lat saved')\n",
    "    # lon\n",
    "    lon_array.tofile(lon_output_file)\n",
    "    print('.lon saved')\n",
    "\n",
    "    profile = {\n",
    "    'driver': 'GTiff',\n",
    "    'interleave': 'band',\n",
    "    'tiled': False,\n",
    "    'nodata': 0,\n",
    "    'width': ncols,\n",
    "    'height':nrows_new,\n",
    "    'count':1,\n",
    "    'dtype':'float32'\n",
    "    }\n",
    "    \n",
    "    ### Save out tifs to be converted to vrt\n",
    "    # lat\n",
    "    with rio.open(join(str(lat_output_file) + '.tif'), 'w', **profile) as dst:\n",
    "                dst.write(lat_array.astype(lat_array.dtype), 1)\n",
    "\n",
    "    with rio.open(join(str(lon_output_file) + '.tif'), 'w', **profile) as dst:\n",
    "                dst.write(lon_array.astype(lon_array.dtype), 1)\n",
    "\n",
    "    # Add VRT file for each tif\n",
    "    tifs = glob(join(data_dir, '*.tif')) # list all .llh files\n",
    "    for tiff in tifs: # loop to open and translate .llh to .vrt, and save .vrt using gdal\n",
    "        raster_dataset = gdal.Open(tiff, gdal.GA_ReadOnly) # read in rasters\n",
    "        raster = gdal.Translate(join(data_dir, basename(tiff).replace('.tif','.vrt')), raster_dataset, format = 'VRT', outputType = gdal.GDT_Float32)\n",
    "    raster_dataset = None\n",
    "\n",
    "    print('new .lat and .lon with .vrt have saved')\n"
   ]
  },
  {
   "cell_type": "code",
   "execution_count": null,
   "id": "507e588d-a16a-46c1-8c1c-41b316f66907",
   "metadata": {},
   "outputs": [],
   "source": [
    "dir = Path('./sierra_multi_seg_llh_zach')\n",
    "ann = Path('./sierra_multi_seg_llh_zach/sierra_17305_20002_001_200131_L090VV_01_BC.ann')"
   ]
  },
  {
   "cell_type": "code",
   "execution_count": null,
   "id": "0ed484d9-7c0c-4b62-84a0-cd1aa066e34e",
   "metadata": {},
   "outputs": [],
   "source": [
    "full = combo_llhs(data_dir = dir, ann_fp = ann)"
   ]
  },
  {
   "cell_type": "code",
   "execution_count": null,
   "id": "b6f8a27f-f23b-4244-af5a-6fffcb2d35c2",
   "metadata": {},
   "outputs": [],
   "source": [
    "# path to your unw.vrt\n",
    "in_fp = 'int_orginal/20200131T1903_20200212T2211/20200131T1903_20200212T2211.unw_snaphu.unw'\n",
    "\n",
    "# path to annotation file\n",
    "lat_fp = '/Users/jtarrico/sierra_isce_multi/sierra_multi_seg_llh_zach/multi_seg.lat.vrt'\n",
    "\n",
    "# path to annotation file\n",
    "lon_fp = '/Users/jtarrico/sierra_isce_multi/sierra_multi_seg_llh_zach/multi_seg.lon.vrt'\n",
    "\n",
    "# where the .tif is being save\n",
    "out_fp = '/Users/jtarrico/sierra_isce_multi/sierra_multi_seg_llh_zach/0200131T1903_20200212T2211.unw_snaphu.unw.tif'"
   ]
  },
  {
   "cell_type": "code",
   "execution_count": null,
   "id": "279ff38e-f583-40d1-9bd8-9cfec6750747",
   "metadata": {},
   "outputs": [],
   "source": [
    "from osgeo import gdal, osr\n",
    "\n",
    "def geocodeUsingGdalWarp_multi(infile, latfile, lonfile, outfile,\n",
    "                         insrs=4326, outsrs=None,\n",
    "                         spacing=None, fmt='GTiff', bounds=None,\n",
    "                         method='near'):\n",
    "    '''\n",
    "    From: Dr. Gareth Funning, UC Riverside, UNAVCO InSAR Short Course\n",
    "    Geocode a swath file using corresponding lat, lon files\n",
    "    '''\n",
    "    sourcexmltmpl = '''    <SimpleSource>\n",
    "      <SourceFilename>{0}</SourceFilename>\n",
    "      <SourceBand>{1}</SourceBand>\n",
    "    </SimpleSource>'''\n",
    "    \n",
    "    driver = gdal.GetDriverByName('VRT')\n",
    "    tempvrtname = 'temp_ele.vrt'\n",
    "    ds = gdal.OpenShared(infile, gdal.GA_ReadOnly)\n",
    "    inds1 = ds.GetRasterBand(1).ReadAsArray()\n",
    "    tempds = driver.Create(tempvrtname, inds1.shape[1], inds1.shape[0], 0)\n",
    "    \n",
    "    #for ii in range(inds.RasterCount):\n",
    "    band = ds.GetRasterBand(1)\n",
    "    tempds.AddBand(band.DataType)\n",
    "    tempds.GetRasterBand(1).SetMetadata({'source_0': sourcexmltmpl.format(infile, 1)}, 'vrt_sources')\n",
    "  \n",
    "    sref = osr.SpatialReference()\n",
    "    sref.ImportFromEPSG(insrs)\n",
    "    srswkt = sref.ExportToWkt()\n",
    "    tempds.SetMetadata({'SRS' : srswkt,\n",
    "                        'X_DATASET': lonfile,\n",
    "                        'X_BAND' : '1',\n",
    "                        'Y_DATASET': latfile,\n",
    "                        'Y_BAND' : '1',\n",
    "                        'PIXEL_OFFSET' : '0',\n",
    "                        'LINE_OFFSET' : '0',\n",
    "                        'PIXEL_STEP' : '1',\n",
    "                        'LINE_STEP' : '1'}, \n",
    "                        'GEOLOCATION')\n",
    "    \n",
    "    band = None\n",
    "    tempds = None \n",
    "    inds = None\n",
    "    \n",
    "    if spacing is None:\n",
    "        spacing = [None, None]\n",
    "    warpOptions = gdal.WarpOptions(format=fmt,\n",
    "                                xRes=spacing[0], yRes=spacing[0],\n",
    "                                dstSRS=outsrs, outputBounds = bounds, dstNodata = -9999,\n",
    "                                resampleAlg=method, geoloc=True)\n",
    "    gdal.Warp(outfile, tempvrtname, options=warpOptions)\n",
    "    os.remove('temp_ele.vrt')"
   ]
  },
  {
   "cell_type": "code",
   "execution_count": null,
   "id": "84939f96-d907-40ff-9101-3c552fcfd354",
   "metadata": {},
   "outputs": [],
   "source": [
    "geocodeUsingGdalWarp(infile = in_fp,\n",
    "                     latfile = lat_fp, \n",
    "                     lonfile = lon_fp, \n",
    "                     outfile = out_fp,\n",
    "                     insrs=4326, outsrs=None,spacing=[.00005556,.00005556], fmt='GTiff', bounds=None,method='near')"
   ]
  },
  {
   "cell_type": "code",
   "execution_count": null,
   "id": "adbbb3a5-9608-4423-b274-c92ba58399e6",
   "metadata": {},
   "outputs": [],
   "source": [
    "# path to your unw.vrt\n",
    "in_fp = 'int_orginal/20200131T1903_20200212T2211/20200131T1903_20200212T2211.unw_snaphu.unw.conncomp'\n",
    "\n",
    "# path to annotation file\n",
    "lat_fp = '/Users/jtarrico/sierra_isce_multi/sierra_multi_seg_llh_zach/multi_seg.lat.vrt'\n",
    "\n",
    "# path to annotation file\n",
    "lon_fp = '/Users/jtarrico/sierra_isce_multi/sierra_multi_seg_llh_zach/multi_seg.lon.vrt'\n",
    "\n",
    "# where the .tif is being save\n",
    "out_fp = '/Users/jtarrico/sierra_isce_multi/sierra_multi_seg_llh_zach/0200131T1903_20200212T2211.unw_snaphu.unw.conncomp.tif'"
   ]
  },
  {
   "cell_type": "code",
   "execution_count": null,
   "id": "1fa44e03-0d69-416d-942e-4e59a69c2190",
   "metadata": {},
   "outputs": [],
   "source": [
    "geocodeUsingGdalWarp(infile = in_fp,\n",
    "                     latfile = lat_fp, \n",
    "                     lonfile = lon_fp, \n",
    "                     outfile = out_fp,\n",
    "                     insrs=4326, outsrs=None,spacing=[.00005556,.00005556], fmt='GTiff', bounds=None,method='near')"
   ]
  },
  {
   "cell_type": "code",
   "execution_count": null,
   "id": "9c5b8c3a-97ec-458d-9024-c4e970339acd",
   "metadata": {},
   "outputs": [],
   "source": []
  }
 ],
 "metadata": {
  "kernelspec": {
   "display_name": "Python 3 (ipykernel)",
   "language": "python",
   "name": "python3"
  },
  "language_info": {
   "codemirror_mode": {
    "name": "ipython",
    "version": 3
   },
   "file_extension": ".py",
   "mimetype": "text/x-python",
   "name": "python",
   "nbconvert_exporter": "python",
   "pygments_lexer": "ipython3",
   "version": "3.9.18"
  }
 },
 "nbformat": 4,
 "nbformat_minor": 5
}
