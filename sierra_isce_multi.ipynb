{
 "cells": [
  {
   "cell_type": "markdown",
   "id": "e12b7b6b-4648-4767-9598-219ab086c8f1",
   "metadata": {
    "tags": []
   },
   "source": [
    "### process uavsar multi segment sierra line\n",
    "jack tarricone\n",
    "nov 16th start"
   ]
  },
  {
   "cell_type": "code",
   "execution_count": 1,
   "id": "ccdc3589-4db7-416f-9c8e-cff3cd539a1d",
   "metadata": {},
   "outputs": [
    {
     "name": "stdout",
     "output_type": "stream",
     "text": [
      "2023-11-22 09:57:03,636 - rasterio.session - DEBUG - Could not import boto3, continuing with reduced functionality.\n"
     ]
    },
    {
     "name": "stderr",
     "output_type": "stream",
     "text": [
      "/Users/jtarrico/miniconda/envs/isce2_env/lib/python3.9/site-packages/tqdm/auto.py:21: TqdmWarning: IProgress not found. Please update jupyter and ipywidgets. See https://ipywidgets.readthedocs.io/en/stable/user_install.html\n",
      "  from .autonotebook import tqdm as notebook_tqdm\n",
      "/Users/jtarrico/miniconda/envs/isce2_env/lib/python3.9/site-packages/scipy/__init__.py:155: UserWarning: A NumPy version >=1.18.5 and <1.25.0 is required for this version of SciPy (detected version 1.26.0\n",
      "  warnings.warn(f\"A NumPy version >={np_minversion} and <{np_maxversion}\"\n"
     ]
    }
   ],
   "source": [
    "%matplotlib inline\n",
    "import isce\n",
    "import os\n",
    "import glob\n",
    "import numpy as np\n",
    "import shutil\n",
    "from osgeo import gdal\n",
    "import matplotlib.pyplot as plt\n",
    "import rasterio as rio\n",
    "from rasterio.plot import show # plotting raster data\n",
    "from rasterio.plot import show_hist #histograms of raster data\n",
    "from uavsar_pytools.georeference import geolocate_uavsar"
   ]
  },
  {
   "cell_type": "code",
   "execution_count": null,
   "id": "9c8cdd5a-6abb-4d55-b4f5-72800e52a148",
   "metadata": {},
   "outputs": [],
   "source": [
    "# get home dir\n",
    "home = '/Users/jtarrico/'\n",
    "os.chdir(home)\n",
    "os.getcwd()"
   ]
  },
  {
   "cell_type": "code",
   "execution_count": null,
   "id": "04dc3e7a-2122-498f-b6a7-b45cc8a32255",
   "metadata": {},
   "outputs": [],
   "source": [
    "# working folder name\n",
    "isce_directory = 'sierra_isce_multi'\n",
    "    \n",
    "# path to folder\n",
    "working_dir = os.path.join(home,isce_directory)"
   ]
  },
  {
   "cell_type": "code",
   "execution_count": null,
   "id": "7d9faa0b-55d8-497c-b185-bcc7a52e670e",
   "metadata": {},
   "outputs": [],
   "source": [
    "# make new folder\n",
    "# os.mkdir(working_dir)\n",
    "print(\"Directory '%s' created\" %isce_directory)"
   ]
  },
  {
   "cell_type": "code",
   "execution_count": null,
   "id": "f9115134-7567-4195-9bef-55ceed84a8e5",
   "metadata": {},
   "outputs": [],
   "source": [
    "# nativate to new folder\n",
    "os.chdir(working_dir)\n",
    "os.getcwd()"
   ]
  },
  {
   "cell_type": "code",
   "execution_count": null,
   "id": "046e1a12-93eb-4929-9281-74f119e1b304",
   "metadata": {},
   "outputs": [],
   "source": [
    "## create subdirectories\n",
    "\n",
    "# download\n",
    "dl = 'download'\n",
    "download_path = os.path.join(working_dir,dl)\n",
    "# os.mkdir(download_path)"
   ]
  },
  {
   "cell_type": "code",
   "execution_count": null,
   "id": "fbe98cc4-1e0f-403f-9926-b1cd44b5bf7c",
   "metadata": {},
   "outputs": [],
   "source": [
    "# check folders were created\n",
    "for file in os.listdir(working_dir):\n",
    "    d = os.path.join(working_dir, file)\n",
    "    if os.path.isdir(d):\n",
    "        print(d)"
   ]
  },
  {
   "cell_type": "markdown",
   "id": "26072a5e-8837-47de-b139-4294cc0d0f90",
   "metadata": {},
   "source": [
    "# nativate to download folder\n",
    "os.chdir(download_path)\n",
    "os.getcwd()"
   ]
  },
  {
   "cell_type": "markdown",
   "id": "b584e055-3b22-4ea0-ae53-9a96b3367319",
   "metadata": {},
   "source": [
    "## download"
   ]
  },
  {
   "cell_type": "code",
   "execution_count": null,
   "id": "ec56f499-006d-46d1-964d-6e82e4e54db9",
   "metadata": {},
   "outputs": [],
   "source": [
    "# create .sh file from links\n",
    "\n",
    "links = ['wget https://downloaduav2.jpl.nasa.gov/Release30/sierra_17305_01/sierra_17305_01_BC.dop',\n",
    "'wget https://downloaduav2.jpl.nasa.gov/Release30/sierra_17305_01/sierra_17305_01_BC_s1_1x1.llh',\n",
    "'wget https://downloaduav2.jpl.nasa.gov/Release30/sierra_17305_01/sierra_17305_01_BC_s1_1x1.lkv',\n",
    "'wget https://downloaduav2.jpl.nasa.gov/Release30/sierra_17305_01/sierra_17305_01_BC_s2_1x1.llh',\n",
    "'wget https://downloaduav2.jpl.nasa.gov/Release30/sierra_17305_01/sierra_17305_01_BC_s2_1x1.lkv',\n",
    "'wget https://downloaduav2.jpl.nasa.gov/Release30/sierra_17305_01/sierra_17305_20002_001_200131_L090VV_01_BC.ann',\n",
    "'wget https://downloaduav2.jpl.nasa.gov/Release30/sierra_17305_01/sierra_17305_20006_002_200212_L090VV_01_BC.ann',\n",
    "'wget https://downloaduav2.jpl.nasa.gov/Release30/sierra_17305_01/sierra_17305_20009_023_200219_L090VV_01_BC.ann',\n",
    "'wget https://downloaduav2.jpl.nasa.gov/Release30/sierra_17305_01/sierra_17305_20016_005_200311_L090VV_01_BC.ann',\n",
    "'wget https://downloaduav2.jpl.nasa.gov/Release30/sierra_17305_01/sierra_17305_20014_000_200226_L090VV_01_BC.ann',\n",
    "'wget https://downloaduav2.jpl.nasa.gov/Release30/sierra_17305_01/sierra_17305_20002_001_200131_L090VV_01_BC_s1_1x1.slc',\n",
    "'wget https://downloaduav2.jpl.nasa.gov/Release30/sierra_17305_01/sierra_17305_20006_002_200212_L090VV_01_BC_s1_1x1.slc',\n",
    "'wget https://downloaduav2.jpl.nasa.gov/Release30/sierra_17305_01/sierra_17305_20009_023_200219_L090VV_01_BC_s1_1x1.slc',\n",
    "'wget https://downloaduav2.jpl.nasa.gov/Release30/sierra_17305_01/sierra_17305_20014_000_200226_L090VV_01_BC_s1_1x1.slc',\n",
    "'wget https://downloaduav2.jpl.nasa.gov/Release30/sierra_17305_01/sierra_17305_20016_005_200311_L090VV_01_BC_s1_1x1.slc',\n",
    "'wget https://downloaduav2.jpl.nasa.gov/Release30/sierra_17305_01/sierra_17305_20002_001_200131_L090VV_01_BC_s2_1x1.slc',\n",
    "'wget https://downloaduav2.jpl.nasa.gov/Release30/sierra_17305_01/sierra_17305_20006_002_200212_L090VV_01_BC_s2_1x1.slc',\n",
    "'wget https://downloaduav2.jpl.nasa.gov/Release30/sierra_17305_01/sierra_17305_20009_023_200219_L090VV_01_BC_s2_1x1.slc',\n",
    "'wget https://downloaduav2.jpl.nasa.gov/Release30/sierra_17305_01/sierra_17305_20014_000_200226_L090VV_01_BC_s2_1x1.slc',\n",
    "'wget https://downloaduav2.jpl.nasa.gov/Release30/sierra_17305_01/sierra_17305_20016_005_200311_L090VV_01_BC_s2_1x1.slc']\n",
    "\n",
    "with open('downloads.sh', 'w') as f:\n",
    "    for links in links:\n",
    "        f.write(links)\n",
    "        f.write('\\n')"
   ]
  },
  {
   "cell_type": "code",
   "execution_count": null,
   "id": "44960d62-5339-4964-baf4-52813b667dd8",
   "metadata": {},
   "outputs": [],
   "source": [
    "# list files downloaded\n",
    "for i in os.listdir(download_path):\n",
    "    file = os.path.join(download_path, i)\n",
    "    print(file)"
   ]
  },
  {
   "cell_type": "markdown",
   "id": "18e755e2-5876-41e8-be02-de69e641ff8a",
   "metadata": {},
   "source": [
    "## merge segments"
   ]
  },
  {
   "cell_type": "markdown",
   "id": "14ccf4b7-c260-4071-ba0b-32a726192343",
   "metadata": {},
   "source": [
    "add these scripts to the stripmapp folder\n",
    "\n",
    "```pair.py``` \\\n",
    "```group_segments_dayhrmin_4isce.py``` \\\n",
    "```make_ifg_vrt_xml_isce.py``` \\\n",
    "```insar.py``` \\\n",
    "```make_slc_vrt_xml_isce.py``` \\\n",
    "```cat_and_interfere_py3.py``` \\\n",
    "```unpackFrame_UAVSAR_JPLcode.py``` "
   ]
  },
  {
   "cell_type": "code",
   "execution_count": null,
   "id": "bf121879-d91b-45ef-9adc-7aa1fcf61867",
   "metadata": {},
   "outputs": [],
   "source": [
    "# nativate to new folder\n",
    "os.chdir('./download')\n",
    "os.getcwd()"
   ]
  },
  {
   "cell_type": "code",
   "execution_count": null,
   "id": "f5585eef-7eb2-43ae-a2c9-eb4d71a2e6a2",
   "metadata": {},
   "outputs": [],
   "source": [
    "# read segments\n",
    "! group_segments_dayhrmin_4isce.py . > images.json"
   ]
  },
  {
   "cell_type": "code",
   "execution_count": null,
   "id": "02c21481-b754-4ef4-9122-1fee8c4a045a",
   "metadata": {},
   "outputs": [],
   "source": [
    "# generate ancillary files\n",
    "! make_slc_vrt_xml_isce.py ./"
   ]
  },
  {
   "cell_type": "code",
   "execution_count": null,
   "id": "acefe1be-e90d-45cd-ac8e-288ad2c8455a",
   "metadata": {},
   "outputs": [],
   "source": [
    "# create pairs .txt\n",
    "! pair.py -n 1 < images.json > pairs.txt"
   ]
  },
  {
   "cell_type": "code",
   "execution_count": null,
   "id": "8c8ce4e2-d430-4826-b89e-d9d68374b1ee",
   "metadata": {},
   "outputs": [],
   "source": [
    "# form insar pairs at 8x2\n",
    "! cat_and_interfere_py3.py -d int -r 2 -a 8 images.json pairs.txt"
   ]
  },
  {
   "cell_type": "code",
   "execution_count": null,
   "id": "53f05232-1710-4e7a-acff-01c08f599b28",
   "metadata": {},
   "outputs": [],
   "source": [
    "# gen more anc files\n",
    "! make_ifg_vrt_xml_isce.py -i int/"
   ]
  },
  {
   "cell_type": "markdown",
   "id": "76f8b436-0bc3-40fe-8d8a-5b420bb620de",
   "metadata": {},
   "source": [
    "## test plot"
   ]
  },
  {
   "cell_type": "code",
   "execution_count": null,
   "id": "61bd9725-a72c-44ed-a2d0-8b44ac65dfff",
   "metadata": {},
   "outputs": [],
   "source": [
    "w_int = './int/20200131T1903_20200212T2211/20200131T1903_20200212T2211.int.vrt'\n",
    "coh_path = './int/20200131T1903_20200212T2211/20200131T1903_20200212T2211.cor.vrt'\n",
    "\n",
    "# read int\n",
    "ds = gdal.Open(w_int, gdal.GA_ReadOnly)\n",
    "igram = ds.GetRasterBand(1).ReadAsArray()\n",
    "ds = None\n",
    "\n",
    "# read\n",
    "coh_ds = gdal.Open(coh_path, gdal.GA_ReadOnly)\n",
    "coh = coh_ds.GetRasterBand(1).ReadAsArray()\n",
    "coh_ds = None\n",
    "\n",
    "fig = plt.figure(figsize=(18, 14))\n",
    "\n",
    "ax = fig.add_subplot(1,3,1)\n",
    "ax.imshow(np.abs(igram), vmin = 0, vmax = .3, cmap = 'gray')\n",
    "ax.set_title(\"Magnitude\")\n",
    "ax.set_axis_off()\n",
    "\n",
    "ax = fig.add_subplot(1,3,2)\n",
    "ax.imshow(np.angle(igram), cmap = 'jet', vmax = 3.14, vmin = -3.14)\n",
    "ax.set_title(\"Phase\")\n",
    "ax.set_axis_off()\n",
    "\n",
    "ax = fig.add_subplot(1,3,3)\n",
    "ax.imshow(coh, vmin = 0 , vmax = 1, cmap = 'gray')\n",
    "ax.set_title(\"Coherence\")\n",
    "ax.set_axis_off()"
   ]
  },
  {
   "cell_type": "markdown",
   "id": "97a6d340-2b08-452b-9b0b-52213b06ae13",
   "metadata": {},
   "source": [
    "# Phase Unwrapping"
   ]
  },
  {
   "cell_type": "code",
   "execution_count": null,
   "id": "6689e1a8-fa81-4ebe-b9e9-394b728966b9",
   "metadata": {},
   "outputs": [],
   "source": [
    "# start in downloads directory\n",
    "os.chdir('/Users/jtarrico/sierra_isce_multi/')"
   ]
  },
  {
   "cell_type": "code",
   "execution_count": null,
   "id": "f21a6be6-5559-40f5-a0dd-da9875d91adf",
   "metadata": {},
   "outputs": [],
   "source": [
    "# create text file of date list\n",
    "! ls --color=never int/ >> datelist.txt"
   ]
  },
  {
   "cell_type": "code",
   "execution_count": null,
   "id": "f48e59e8-3fb1-4763-a71d-659e43529991",
   "metadata": {},
   "outputs": [],
   "source": [
    "# print contents of that file\n",
    "with open('datelist.txt') as f:\n",
    "    lines = f.readlines()\n",
    "    print(lines)"
   ]
  },
  {
   "cell_type": "code",
   "execution_count": null,
   "id": "c1a0fb0d-0a24-4062-a2bf-2b44016e1c0f",
   "metadata": {},
   "outputs": [],
   "source": [
    "! unwrap.py -h"
   ]
  },
  {
   "cell_type": "code",
   "execution_count": null,
   "id": "95b3a077-5c64-4942-be2e-8845dab13cc0",
   "metadata": {},
   "outputs": [],
   "source": [
    "# run snaphu, this will take a while\n",
    "! awk -F \"_\" '{print \"unwrap.py -i int/\"$1\"_\"$2\"/\"$1\"_\"$2\".int -u int/\"$1\"_\"$2\"/\"$1\"_\"$2\".unw -c int/\"$1\"_\"$2\"/\"$1\"_\"$2\".coh -a 8 -r 2 -s download/\"$1\"/ -m snaphu\"}' datelist.txt >> unwall.sh"
   ]
  },
  {
   "cell_type": "code",
   "execution_count": null,
   "id": "751c5a8a-1782-47ff-ae35-6a35e5b09317",
   "metadata": {},
   "outputs": [],
   "source": [
    "! sh unwall.sh"
   ]
  },
  {
   "cell_type": "code",
   "execution_count": 2,
   "id": "b224ef4c-b04e-4cd0-80ea-ec2cef1e208b",
   "metadata": {},
   "outputs": [],
   "source": [
    "# start in downloads directory\n",
    "os.chdir('/Users/jtarrico/sierra_isce_multi/')"
   ]
  },
  {
   "cell_type": "code",
   "execution_count": null,
   "id": "258c639f-1d22-4253-a22a-9a92fef83459",
   "metadata": {
    "scrolled": true
   },
   "outputs": [],
   "source": [
    "# list files generated in unwrapping process\n",
    "!ls int_orginal/*/*"
   ]
  },
  {
   "cell_type": "code",
   "execution_count": null,
   "id": "5dc46674-5b62-4175-9d87-b3cf4667c89c",
   "metadata": {},
   "outputs": [],
   "source": [
    "# plot\n",
    "\n",
    "# reading the multi-looked wrapped interferogram\n",
    "ds = gdal.Open(\"int_orginal/20200131T1903_20200212T2211/20200131T1903_20200212T2211.int\", gdal.GA_ReadOnly)\n",
    "igram = ds.GetRasterBand(1).ReadAsArray()\n",
    "ds = None\n",
    "\n",
    "# reading the multi-looked unwrapped interferogram\n",
    "ds = gdal.Open(\"int_orginal/20200131T1903_20200212T2211/20200131T1903_20200212T2211.unw_snaphu.unw\", gdal.GA_ReadOnly)\n",
    "igram_unw = ds.GetRasterBand(2).ReadAsArray()\n",
    "ds = None\n",
    "\n",
    "# reading the connected component file\n",
    "ds = gdal.Open(\"int_orginal/20200131T1903_20200212T2211/20200131T1903_20200212T2211.unw_snaphu.unw.conncomp\", gdal.GA_ReadOnly)\n",
    "connected_components = ds.GetRasterBand(1).ReadAsArray()\n",
    "ds = None\n",
    "\n",
    "fig = plt.figure(figsize=(18, 16))\n",
    "\n",
    "ax = fig.add_subplot(1,3,1)\n",
    "cax=ax.imshow(np.angle(igram), cmap='jet')\n",
    "ax.set_title(\"wrapped\")\n",
    "#ax.set_axis_off()\n",
    "cbar = fig.colorbar(cax, ticks=[-3.14,0,3.14],orientation='horizontal')\n",
    "cbar.ax.set_xticklabels([\"$-\\pi$\",0,\"$\\pi$\"])\n",
    "\n",
    "ax = fig.add_subplot(1,3,2)\n",
    "cax = ax.imshow(igram_unw, vmin = 2, vmax = 11, cmap = 'jet')\n",
    "ax.set_title(\"unwrapped\")\n",
    "ax.set_axis_off()\n",
    "cbar = fig.colorbar(cax, ticks=[2,0,11], orientation='horizontal')\n",
    "\n",
    "\n",
    "ax = fig.add_subplot(1,3,3)\n",
    "cax = ax.imshow(connected_components, cmap = 'jet')\n",
    "ax.set_title(\"components\")\n",
    "ax.set_axis_off()\n",
    "cbar = fig.colorbar(cax, ticks=[0,21] , orientation='horizontal')\n",
    "cbar.ax.set_xticklabels([0,21])\n",
    "\n",
    "\n",
    "connected_components = None"
   ]
  },
  {
   "cell_type": "code",
   "execution_count": null,
   "id": "04a954ff-48ca-4bdf-8ef9-3d2ffa2cb5c0",
   "metadata": {},
   "outputs": [],
   "source": [
    "! gdalinfo int_orginal/20200131T1903_20200212T2211/20200131T1903_20200212T2211.unw_snaphu.unw"
   ]
  },
  {
   "cell_type": "code",
   "execution_count": null,
   "id": "04361975-0536-427d-b805-a143cc456849",
   "metadata": {},
   "outputs": [],
   "source": []
  },
  {
   "cell_type": "markdown",
   "id": "2c0b723d-ea92-4b7e-821d-6faea5448302",
   "metadata": {},
   "source": [
    "## geocode"
   ]
  },
  {
   "cell_type": "code",
   "execution_count": 32,
   "id": "cf919fbe-3ecd-4d7e-96df-5cc4d447da8f",
   "metadata": {
    "scrolled": true
   },
   "outputs": [],
   "source": [
    "from pathlib import Path\n",
    "from glob import glob\n",
    "import os\n",
    "from uavsar_pytools.convert.tiff_conversion import read_annotation, array_to_tiff\n",
    "from os.path import join, basename, dirname\n",
    "from rasterio.vrt import WarpedVRT\n",
    "\n",
    "# combine llh files\n",
    "def combo_llhs(data_dir: Path, ann_fp: Path):\n",
    "    \"\"\"\n",
    "    Combines segment .llh files into a single combined .llh file and saves as a binary with .vrt.\n",
    "    \"\"\"\n",
    "    assert data_dir.exists()\n",
    "\n",
    "    re_llhs = {'lat':[], 'lon': [], 'height':[]}\n",
    "    for llh in sorted(data_dir.glob('*.llh')):\n",
    "        segment = llh.stem.split('_')[-2].replace('s','')\n",
    "\n",
    "        data = np.fromfile(llh, np.dtype('<f'))\n",
    "        lat, lon, height = data[::3], data[1::3], data[2::3]\n",
    "        for key, da in zip(re_llhs.keys(), [lat, lon, height]):\n",
    "            re_llhs[key].extend(da)\n",
    "                               \n",
    "    full = np.empty(len(re_llhs['lat'])*3, dtype='>f')\n",
    "    full[0::3] = re_llhs['lat']\n",
    "    full[1::3] = re_llhs['lon']\n",
    "    full[2::3] = re_llhs['height']\n",
    "\n",
    "    # read ann file\n",
    "    desc = read_annotation(ann_fp)\n",
    "    print('reading .ann file')\n",
    "\n",
    "    # read in number of rows from each llh file\n",
    "    nrows1 = desc[f'llh_1_2x8.set_rows']['value']\n",
    "    nrows2 = desc[f'llh_2_2x8.set_rows']['value']\n",
    "\n",
    "    # add rows for new reshaping number\n",
    "    nrows_new = nrows1 + nrows2\n",
    "    print('new number of rows = ',nrows_new)\n",
    "    \n",
    "    # read in cols, same fo rboth\n",
    "    ncols = desc[f'llh_1_2x8.set_cols']['value']\n",
    "    dt = np.dtype('<f')\n",
    "\n",
    "    # create empty arrays for lat and lon\n",
    "    lat_array = np.empty((nrows_new, ncols))\n",
    "    lon_array = np.empty((nrows_new, ncols))\n",
    "    \n",
    "    # fill each layer\n",
    "    lat_array = full[::3].reshape(nrows_new, ncols)\n",
    "    lon_array = full[1::3].reshape(nrows_new, ncols)\n",
    "\n",
    "    # define path to bin file\n",
    "    lat_output_file = data_dir / \"multi_seg.lat\"\n",
    "    lon_output_file = data_dir / \"multi_seg.lon\"\n",
    "\n",
    "    #### Save the array to bin file\n",
    "    # lat\n",
    "    lat_array.tofile(lat_output_file)\n",
    "    print('.lat saved')\n",
    "    # lon\n",
    "    lon_array.tofile(lon_output_file)\n",
    "    print('.lon saved')\n",
    "    \n",
    "\n",
    "    profile = {\n",
    "    'driver': 'GTiff',\n",
    "    'interleave': 'band',\n",
    "    'tiled': False,\n",
    "    'nodata': 0,\n",
    "    'width': ncols,\n",
    "    'height':nrows_new,\n",
    "    'count':1,\n",
    "    'dtype':'float32'\n",
    "    }\n",
    "    \n",
    "    # Save out tifs\n",
    "    with rio.open(join(lat_output_file + '.tif'), 'w', **profile) as dst:\n",
    "                dst.write(arr.astype(arr.dtype), 1)\n",
    "\n",
    "    with rio.open(join(lon_output_file + '.tif'), 'w', **profile) as dst:\n",
    "                dst.write(arr.astype(arr.dtype), 1)\n",
    "\n",
    "    # Add VRT file for each tif\n",
    "    tifs = glob(join(tmp_dir, '*.tif')) # list all .llh files\n",
    "    for tiff in tifs: # loop to open and translate .llh to .vrt, and save .vrt using gdal\n",
    "        raster_dataset = gdal.Open(tiff, gdal.GA_ReadOnly) # read in rasters\n",
    "        raster = gdal.Translate(join(tmp_dir, basename(tiff).replace('.tif','.vrt')), raster_dataset, format = 'VRT', outputType = gdal.GDT_Float32)\n",
    "    raster_dataset = None\n",
    "\n",
    "    #### save vrts\n",
    "    # lat\n",
    "    lat_vrt = data_dir / \"multi_seg.lat.vrt\"\n",
    "    with rio.open(lat_vrt, 'w', driver='VRT', height=nrows_new, width=ncols, count=1, dtype=dtype) as dst:\n",
    "    # Add a virtual raster band to the VRT file\n",
    "        dst.write(1, \n",
    "                  source_filename = lat_output_file, \n",
    "                  byte_order = \"LSB\", \n",
    "                  image_offset = 0, \n",
    "                  pixel_offset = 8, \n",
    "                  line_offset = ncols*8)\n",
    "\n",
    "    # Validate the VRT file\n",
    "    with rio.open(lat_vrt) as src:\n",
    "        print(src.profile)\n",
    "\n",
    "    # lon\n",
    "    lon_vrt = data_dir / \"multi_seg.lon.vrt\"\n",
    "    with rio.open(lon_vrt, 'w', driver='VRT', height=nrows_new, width=ncols, count=1, dtype=dtype) as dst:\n",
    "    # Add a virtual raster band to the VRT file\n",
    "        dst.write(1, \n",
    "                  source_filename = lat_output_file, \n",
    "                  byte_order = \"LSB\", \n",
    "                  image_offset = 0, \n",
    "                  pixel_offset = 8, \n",
    "                  line_offset = ncols*8)\n",
    "\n",
    "    print('new .lat and .lon with .vrt have saved')\n"
   ]
  },
  {
   "cell_type": "code",
   "execution_count": 33,
   "id": "507e588d-a16a-46c1-8c1c-41b316f66907",
   "metadata": {},
   "outputs": [],
   "source": [
    "dir = Path('./sierra_multi_seg_llh_zach')\n",
    "ann = Path('./sierra_multi_seg_llh_zach/sierra_17305_20002_001_200131_L090VV_01_BC.ann')"
   ]
  },
  {
   "cell_type": "code",
   "execution_count": 34,
   "id": "0ed484d9-7c0c-4b62-84a0-cd1aa066e34e",
   "metadata": {},
   "outputs": [
    {
     "name": "stdout",
     "output_type": "stream",
     "text": [
      "reading .ann file\n",
      "new number of rows =  16212\n",
      ".lat saved\n",
      ".lon saved\n",
      "2023-11-22 10:23:09,449 - rasterio.env - DEBUG - Entering env context: <rasterio.env.Env object at 0x34f4c4d90>\n",
      "2023-11-22 10:23:09,451 - rasterio.env - DEBUG - Starting outermost env\n",
      "2023-11-22 10:23:09,452 - rasterio.env - DEBUG - No GDAL environment exists\n",
      "2023-11-22 10:23:09,453 - rasterio.env - DEBUG - New GDAL environment <rasterio._env.GDALEnv object at 0x34f4c4550> created\n",
      "2023-11-22 10:23:09,455 - rasterio._env - DEBUG - GDAL_DATA found in environment.\n",
      "2023-11-22 10:23:09,456 - rasterio._env - DEBUG - PROJ_DATA found in environment.\n",
      "2023-11-22 10:23:09,457 - rasterio._env - DEBUG - Started GDALEnv: self=<rasterio._env.GDALEnv object at 0x34f4c4550>.\n",
      "2023-11-22 10:23:09,458 - rasterio.env - DEBUG - Entered env context: <rasterio.env.Env object at 0x34f4c4d90>\n",
      "2023-11-22 10:23:09,459 - rasterio._io - DEBUG - Path: _UnparsedPath(path='sierra_multi_seg_llh_zach/multi_seg.lat.vrt'), mode: w, driver: VRT\n",
      "2023-11-22 10:23:09,462 - rasterio._base - DEBUG - Nodata success: 0, Nodata value: -10000.000000\n",
      "2023-11-22 10:23:09,464 - rasterio.env - DEBUG - Exiting env context: <rasterio.env.Env object at 0x34f4c4d90>\n",
      "2023-11-22 10:23:09,465 - rasterio.env - DEBUG - Cleared existing <rasterio._env.GDALEnv object at 0x34f4c4550> options\n",
      "2023-11-22 10:23:09,466 - rasterio._env - DEBUG - Stopped GDALEnv <rasterio._env.GDALEnv object at 0x34f4c4550>.\n",
      "2023-11-22 10:23:09,468 - rasterio.env - DEBUG - Exiting outermost env\n",
      "2023-11-22 10:23:09,469 - rasterio.env - DEBUG - Exited env context: <rasterio.env.Env object at 0x34f4c4d90>\n",
      "2023-11-22 10:23:09,471 - rasterio.env - DEBUG - Entering env context: <rasterio.env.Env object at 0x34f3848b0>\n",
      "2023-11-22 10:23:09,472 - rasterio.env - DEBUG - Starting outermost env\n",
      "2023-11-22 10:23:09,473 - rasterio.env - DEBUG - No GDAL environment exists\n",
      "2023-11-22 10:23:09,474 - rasterio.env - DEBUG - New GDAL environment <rasterio._env.GDALEnv object at 0x34f4c4550> created\n",
      "2023-11-22 10:23:09,476 - rasterio._env - DEBUG - GDAL_DATA found in environment.\n",
      "2023-11-22 10:23:09,477 - rasterio._env - DEBUG - PROJ_DATA found in environment.\n",
      "2023-11-22 10:23:09,478 - rasterio._env - DEBUG - Started GDALEnv: self=<rasterio._env.GDALEnv object at 0x34f4c4550>.\n",
      "2023-11-22 10:23:09,480 - rasterio.env - DEBUG - Entered env context: <rasterio.env.Env object at 0x34f3848b0>\n",
      "2023-11-22 10:23:09,482 - rasterio.env - DEBUG - Exiting env context: <rasterio.env.Env object at 0x34f3848b0>\n",
      "2023-11-22 10:23:09,483 - rasterio.env - DEBUG - Cleared existing <rasterio._env.GDALEnv object at 0x34f4c4550> options\n",
      "2023-11-22 10:23:09,485 - rasterio._env - DEBUG - Stopped GDALEnv <rasterio._env.GDALEnv object at 0x34f4c4550>.\n",
      "2023-11-22 10:23:09,486 - rasterio.env - DEBUG - Exiting outermost env\n",
      "2023-11-22 10:23:09,487 - rasterio.env - DEBUG - Exited env context: <rasterio.env.Env object at 0x34f3848b0>\n"
     ]
    },
    {
     "name": "stderr",
     "output_type": "stream",
     "text": [
      "/Users/jtarrico/miniconda/envs/isce2_env/lib/python3.9/site-packages/rasterio/__init__.py:314: NotGeoreferencedWarning: Dataset has no geotransform, gcps, or rpcs. The identity matrix will be returned.\n",
      "  dataset = writer(\n"
     ]
    },
    {
     "ename": "TypeError",
     "evalue": "write() got an unexpected keyword argument 'source_filename'",
     "output_type": "error",
     "traceback": [
      "\u001b[0;31m---------------------------------------------------------------------------\u001b[0m",
      "\u001b[0;31mTypeError\u001b[0m                                 Traceback (most recent call last)",
      "Cell \u001b[0;32mIn[34], line 1\u001b[0m\n\u001b[0;32m----> 1\u001b[0m full \u001b[38;5;241m=\u001b[39m \u001b[43mcombo_llhs\u001b[49m\u001b[43m(\u001b[49m\u001b[43mdata_dir\u001b[49m\u001b[43m \u001b[49m\u001b[38;5;241;43m=\u001b[39;49m\u001b[43m \u001b[49m\u001b[38;5;28;43mdir\u001b[39;49m\u001b[43m,\u001b[49m\u001b[43m \u001b[49m\u001b[43mann_fp\u001b[49m\u001b[43m \u001b[49m\u001b[38;5;241;43m=\u001b[39;49m\u001b[43m \u001b[49m\u001b[43mann\u001b[49m\u001b[43m)\u001b[49m\n",
      "Cell \u001b[0;32mIn[32], line 74\u001b[0m, in \u001b[0;36mcombo_llhs\u001b[0;34m(data_dir, ann_fp)\u001b[0m\n\u001b[1;32m     71\u001b[0m lat_vrt \u001b[38;5;241m=\u001b[39m data_dir \u001b[38;5;241m/\u001b[39m \u001b[38;5;124m\"\u001b[39m\u001b[38;5;124mmulti_seg.lat.vrt\u001b[39m\u001b[38;5;124m\"\u001b[39m\n\u001b[1;32m     72\u001b[0m \u001b[38;5;28;01mwith\u001b[39;00m rio\u001b[38;5;241m.\u001b[39mopen(lat_vrt, \u001b[38;5;124m'\u001b[39m\u001b[38;5;124mw\u001b[39m\u001b[38;5;124m'\u001b[39m, driver\u001b[38;5;241m=\u001b[39m\u001b[38;5;124m'\u001b[39m\u001b[38;5;124mVRT\u001b[39m\u001b[38;5;124m'\u001b[39m, height\u001b[38;5;241m=\u001b[39mnrows_new, width\u001b[38;5;241m=\u001b[39mncols, count\u001b[38;5;241m=\u001b[39m\u001b[38;5;241m1\u001b[39m, dtype\u001b[38;5;241m=\u001b[39mdtype) \u001b[38;5;28;01mas\u001b[39;00m dst:\n\u001b[1;32m     73\u001b[0m \u001b[38;5;66;03m# Add a virtual raster band to the VRT file\u001b[39;00m\n\u001b[0;32m---> 74\u001b[0m     \u001b[43mdst\u001b[49m\u001b[38;5;241;43m.\u001b[39;49m\u001b[43mwrite\u001b[49m\u001b[43m(\u001b[49m\u001b[38;5;241;43m1\u001b[39;49m\u001b[43m,\u001b[49m\u001b[43m \u001b[49m\n\u001b[1;32m     75\u001b[0m \u001b[43m              \u001b[49m\u001b[43msource_filename\u001b[49m\u001b[43m \u001b[49m\u001b[38;5;241;43m=\u001b[39;49m\u001b[43m \u001b[49m\u001b[43mlat_output_file\u001b[49m\u001b[43m,\u001b[49m\u001b[43m \u001b[49m\n\u001b[1;32m     76\u001b[0m \u001b[43m              \u001b[49m\u001b[43mbyte_order\u001b[49m\u001b[43m \u001b[49m\u001b[38;5;241;43m=\u001b[39;49m\u001b[43m \u001b[49m\u001b[38;5;124;43m\"\u001b[39;49m\u001b[38;5;124;43mLSB\u001b[39;49m\u001b[38;5;124;43m\"\u001b[39;49m\u001b[43m,\u001b[49m\u001b[43m \u001b[49m\n\u001b[1;32m     77\u001b[0m \u001b[43m              \u001b[49m\u001b[43mimage_offset\u001b[49m\u001b[43m \u001b[49m\u001b[38;5;241;43m=\u001b[39;49m\u001b[43m \u001b[49m\u001b[38;5;241;43m0\u001b[39;49m\u001b[43m,\u001b[49m\u001b[43m \u001b[49m\n\u001b[1;32m     78\u001b[0m \u001b[43m              \u001b[49m\u001b[43mpixel_offset\u001b[49m\u001b[43m \u001b[49m\u001b[38;5;241;43m=\u001b[39;49m\u001b[43m \u001b[49m\u001b[38;5;241;43m8\u001b[39;49m\u001b[43m,\u001b[49m\u001b[43m \u001b[49m\n\u001b[1;32m     79\u001b[0m \u001b[43m              \u001b[49m\u001b[43mline_offset\u001b[49m\u001b[43m \u001b[49m\u001b[38;5;241;43m=\u001b[39;49m\u001b[43m \u001b[49m\u001b[43mncols\u001b[49m\u001b[38;5;241;43m*\u001b[39;49m\u001b[38;5;241;43m8\u001b[39;49m\u001b[43m)\u001b[49m\n\u001b[1;32m     81\u001b[0m \u001b[38;5;66;03m# Validate the VRT file\u001b[39;00m\n\u001b[1;32m     82\u001b[0m \u001b[38;5;28;01mwith\u001b[39;00m rio\u001b[38;5;241m.\u001b[39mopen(lat_vrt) \u001b[38;5;28;01mas\u001b[39;00m src:\n",
      "File \u001b[0;32mrasterio/_io.pyx:1638\u001b[0m, in \u001b[0;36mrasterio._io.DatasetWriterBase.write\u001b[0;34m()\u001b[0m\n",
      "\u001b[0;31mTypeError\u001b[0m: write() got an unexpected keyword argument 'source_filename'"
     ]
    }
   ],
   "source": [
    "full = combo_llhs(data_dir = dir, ann_fp = ann)"
   ]
  },
  {
   "cell_type": "code",
   "execution_count": null,
   "id": "84939f96-d907-40ff-9101-3c552fcfd354",
   "metadata": {},
   "outputs": [],
   "source": []
  },
  {
   "cell_type": "code",
   "execution_count": null,
   "id": "576ec0f4-85b8-46c6-a49d-9cd8e05cb0f3",
   "metadata": {},
   "outputs": [],
   "source": []
  },
  {
   "cell_type": "code",
   "execution_count": null,
   "id": "a3d4b243-5456-45f2-b3e3-b6a616367df9",
   "metadata": {},
   "outputs": [],
   "source": []
  },
  {
   "cell_type": "code",
   "execution_count": null,
   "id": "d2fbdcc2-3dd4-41a6-a422-61ec51a1cfc2",
   "metadata": {},
   "outputs": [],
   "source": []
  },
  {
   "cell_type": "code",
   "execution_count": null,
   "id": "09ee4c2a-95fa-4866-bc90-843105ef3a32",
   "metadata": {},
   "outputs": [],
   "source": [
    "\n",
    "To create a VRT file using rasterio with the specified structure, you can use the following code:\n",
    "\n",
    "python\n",
    "Copy code\n",
    "import rasterio\n",
    "from rasterio.vrt import VirtualRasterWarmer, WarpedVRT\n",
    "\n",
    "# Specify the parameters\n",
    "rasterXSize = 4895\n",
    "rasterYSize = 8636\n",
    "dataType = rasterio.float64\n",
    "band = 1\n",
    "sourceFilename = \"lon\"\n",
    "byteOrder = \"LSB\"\n",
    "imageOffset = 0\n",
    "pixelOffset = 8\n",
    "lineOffset = 39160\n",
    "\n",
    "# Create a new VRT file\n",
    "vrt_path = \"output.vrt\"\n",
    "with rasterio.open(vrt_path, 'w', driver='VRT', height=rasterYSize, width=rasterXSize, count=1, dtype=dataType) as dst:\n",
    "    # Add a virtual raster band to the VRT file\n",
    "    dst.write_virtual_band(band, source_filename=sourceFilename, byte_order=byteOrder, image_offset=imageOffset, pixel_offset=pixelOffset, line_offset=lineOffset)\n",
    "\n",
    "# Validate the VRT file\n",
    "with rasterio.open(vrt_path) as src:\n",
    "    print(src.profile)"
   ]
  },
  {
   "cell_type": "code",
   "execution_count": null,
   "id": "632ff738-5016-4091-8464-9d55b8cf3c45",
   "metadata": {},
   "outputs": [],
   "source": []
  },
  {
   "cell_type": "code",
   "execution_count": null,
   "id": "03d7e385-13ca-44f9-8558-9aeb8a1594d8",
   "metadata": {},
   "outputs": [],
   "source": [
    "#### vrt?"
   ]
  },
  {
   "cell_type": "code",
   "execution_count": null,
   "id": "344dec3a-7783-480c-a35a-d59a99ba7af7",
   "metadata": {},
   "outputs": [],
   "source": [
    "# Define the metadata for the virtual raster (VRT)\n",
    "width, height = llh_array.shape[1], llh_array.shape[0]\n",
    "count = llh_array.shape[2]  # assuming your array has multiple bands (3 in this case)\n",
    "dtype = llh_array.dtype"
   ]
  },
  {
   "cell_type": "code",
   "execution_count": null,
   "id": "0f19b575-1775-4d4a-8180-874c6e8ca772",
   "metadata": {},
   "outputs": [],
   "source": [
    "width, height, count, dtype"
   ]
  },
  {
   "cell_type": "code",
   "execution_count": null,
   "id": "893b8d78-0c57-44ab-9c1c-4e0611c799cd",
   "metadata": {},
   "outputs": [],
   "source": [
    "# Define the output file path with a .vrt extension\n",
    "output_file = \"./sierra_multi_seg_llh_zach/multi_seg.llh.vrt\""
   ]
  },
  {
   "cell_type": "code",
   "execution_count": null,
   "id": "eff1c471-8c07-4d32-9516-89efedc79106",
   "metadata": {},
   "outputs": [],
   "source": [
    "# Create a rasterio Dataset object\n",
    "with rio.open(output_file, 'w', driver='VRT', height=height, width=width, count=3, dtype=dtype) as dst:\n",
    "    # Write the array to the virtual raster\n",
    "    dst.write(llh_array)"
   ]
  },
  {
   "cell_type": "code",
   "execution_count": null,
   "id": "b7d654f9-d483-46ce-ba9c-db44b708fc42",
   "metadata": {},
   "outputs": [],
   "source": [
    "# path to your unw.vrt\n",
    "in_fp = '/Users/jtarrico/sierra_isce_multi/sierra_multi_seg_llh_zach/20200131T1903_20200212T2211.unw_snaphu.unw'\n",
    "\n",
    "# path to annotation file\n",
    "ann_fp = '/Users/jtarrico/sierra_isce_multi/sierra_multi_seg_llh_zach/sierra_17305_20002_001_200131_L090VV_01_BC.ann'\n",
    "\n",
    "# where the .tif is being save\n",
    "out_dir = '/Users/jtarrico/sierra_isce_multi/sierra_isce_multi/'\n",
    "\n",
    "# path to lat/lon/height file\n",
    "llh_fp = '/Users/jtarrico/sierra_isce_multi/sierra_multi_seg_llh_zach/multi_seg.llh'"
   ]
  },
  {
   "cell_type": "code",
   "execution_count": null,
   "id": "e3d587df-0d50-4783-8b50-3be4372b337c",
   "metadata": {},
   "outputs": [],
   "source": [
    "vrt_path = '/Users/jtarrico/sierra_isce_multi/sierra_multi_seg_llh_zach/multi_seg.llh.vrt'\n",
    "\n",
    "# Open the VRT file using rasterio\n",
    "with rio.open(vrt_path) as dataset:\n",
    "    # Read the raster data as a NumPy array\n",
    "    vrt_array = dataset.read(1)  # Replace 1 with the band index you want to read\n",
    "\n",
    "# Now, vrt_array contains the raster data from the VRT file\n",
    "vrt_array.shape"
   ]
  },
  {
   "cell_type": "code",
   "execution_count": null,
   "id": "ebc4e000-5b52-4976-bfe7-7240075d9b5e",
   "metadata": {},
   "outputs": [],
   "source": [
    "def multiseg_geolocate_uavsar(in_fp, ann_fp, out_dir, llh_fp):\n",
    "    \"\"\"\n",
    "    Geolocates a UAVSAR SLC image with multiple segments using an array of latitudes and longitudes.\n",
    "    Can be either an SLC or Look Vector. If SLC will save as a tif of real\n",
    "    and a tif of complex values.\n",
    "    in_fp: file path of file to geolocate\n",
    "    ann_fp: file path to annotation file\n",
    "    out_dir: directory to save geolocated files\n",
    "    llh_fp: file path to UAVSAR lat, long, elev files for georeferencing\n",
    "\n",
    "    returns:\n",
    "    List: files that have been created\n",
    "    \"\"\"\n",
    "\n",
    "    desc = read_annotation(ann_fp)\n",
    "    ext = basename(in_fp).split('.')[-1]\n",
    "\n",
    "    tmp_dir = join(out_dir, 'tmp')\n",
    "    os.makedirs(tmp_dir, exist_ok=True)\n",
    "        \n",
    "    nrows = desc[f'llh_1_2x8.set_rows']['value']\n",
    "    ncols = desc[f'llh_1_2x8.set_cols']['value']\n",
    "    dt = np.dtype('<f')\n",
    "\n",
    "    arr = np.fromfile(llh_fp, dtype = dt)\n",
    "    res = {}\n",
    "    res[f'llh.lat'] = arr[::3].reshape(nrows, ncols)\n",
    "    res[f'llh.long'] = arr[1::3].reshape(nrows, ncols)\n",
    "    res[f'llh.dem'] = arr[2::3].reshape(nrows, ncols)\n",
    "\n",
    "    profile = {\n",
    "    'driver': 'GTiff',\n",
    "    'interleave': 'band',\n",
    "    'tiled': False,\n",
    "    'nodata': 0,\n",
    "    'width': ncols,\n",
    "    'height':nrows,\n",
    "    'count':1,\n",
    "    'dtype':'float32'\n",
    "    }\n",
    "    \n",
    "    # Save out tifs\n",
    "    with warnings.catch_warnings():\n",
    "        warnings.filterwarnings(\"ignore\", message=\"Dataset has no geotransform, gcps, or rpcs. The identity matrix be returned.\")\n",
    "        for name, arr in res.items():\n",
    "            with rio.open(join(tmp_dir, name + '.tif'), 'w', **profile) as dst:\n",
    "                dst.write(arr.astype(arr.dtype), 1)\n",
    "\n",
    "    # Add VRT file for each tif\n",
    "    tifs = glob(join(tmp_dir, '*.tif')) # list all .llh files\n",
    "    for tiff in tifs: # loop to open and translate .llh to .vrt, and save .vrt using gdal\n",
    "        raster_dataset = gdal.Open(tiff, gdal.GA_ReadOnly) # read in rasters\n",
    "        raster = gdal.Translate(join(tmp_dir, basename(tiff).replace('.tif','.vrt')), raster_dataset, format = 'VRT', outputType = gdal.GDT_Float32)\n",
    "    raster_dataset = None\n",
    "\n",
    "    vrts = glob(join(tmp_dir, '*.vrt'))\n",
    "    latf = [f for f in vrts if basename(f) == 'llh.lat.vrt'][0]\n",
    "    longf = [f for f in vrts if basename(f) == 'llh.long.vrt'][0]\n",
    "\n",
    "    profile = {\n",
    "        'driver': 'GTiff',\n",
    "        'interleave': 'band',\n",
    "        'tiled': False,\n",
    "        'nodata': 0,\n",
    "        'width': ncols,\n",
    "        'height':nrows,\n",
    "        'count':1,\n",
    "        'dtype':'float32'\n",
    "        }\n",
    "\n",
    "    if ext == 'slc':\n",
    "        spacing = in_fp.replace(f'.{ext}','')[-3:]\n",
    "        nrows = desc[f'{ext}_1_{spacing} rows']['value']\n",
    "        ncols = desc[f'{ext}_1_{spacing} columns']['value']\n",
    "        dtype = np.complex64\n",
    "        arr = np.fromfile(in_fp, dtype = dtype).reshape(nrows, ncols)\n",
    "        d_arrs = {}\n",
    "        d_arrs['real'] = arr.real\n",
    "        d_arrs['imag'] = arr.imag\n",
    "\n",
    "    elif ext == 'lkv':\n",
    "        spacing = in_fp.replace(f'.{ext}','')[-3:]\n",
    "        nrows = desc[f'{ext}_1_{spacing} rows']['value']\n",
    "        ncols = desc[f'{ext}_1_{spacing} columns']['value']\n",
    "        dtype = np.dtype('<f')\n",
    "        arr = np.fromfile(in_fp, dtype = dtype)\n",
    "        d_arrs = {}\n",
    "        d_arrs[f'y'] = arr[::3].reshape(nrows, ncols)\n",
    "        d_arrs[f'x'] = arr[1::3].reshape(nrows, ncols)\n",
    "        d_arrs[f'z'] = arr[2::3].reshape(nrows, ncols)\n",
    "\n",
    "    elif ext == 'vrt':\n",
    "        with warnings.catch_warnings():\n",
    "            warnings.filterwarnings(\"ignore\", message=\"Dataset has no geotransform, gcps, or rpcs. The identity matrix be returned.\")\n",
    "            second_ext = basename(in_fp).split('.')[-2]\n",
    "            if second_ext == 'unw':\n",
    "                with rio.open(in_fp) as src:\n",
    "                    # 1st band is amplitude, 2nd band is unwrapped phase\n",
    "                    arr = src.read(2)\n",
    "            else:\n",
    "                with rio.open(in_fp) as src:\n",
    "                    arr = src.read(1)\n",
    "            d_arrs = {}\n",
    "            ext = second_ext\n",
    "            d_arrs[second_ext] = arr\n",
    "\n",
    "    # Save out tifs\n",
    "    with warnings.catch_warnings():\n",
    "        warnings.filterwarnings(\"ignore\", message=\"Dataset has no geotransform, gcps, or rpcs. The identity matrix be returned.\")\n",
    "        for name, arr in d_arrs.items():\n",
    "            with rio.open(join(tmp_dir, basename(in_fp) + f'.{name}.tif'), 'w', **profile) as dst:\n",
    "                dst.write(arr.astype(arr.dtype), 1)\n",
    "\n",
    "        tifs = glob(join(tmp_dir, f'*{ext}*.tif')) # list all .ext files\n",
    "        for tiff in tifs: # loop to open and translate .ext to .vrt, and save .vrt using gdal\n",
    "            raster_dataset = gdal.Open(tiff, gdal.GA_ReadOnly) # read in rasters\n",
    "            raster = gdal.Translate(join(tmp_dir, basename(tiff).replace('.tif','.vrt')), raster_dataset, format = 'VRT', outputType = gdal.GDT_Float64)\n",
    "        raster_dataset = None\n",
    "\n",
    "        vrts = glob(join(tmp_dir, f'*{ext}*.vrt'))\n",
    "        res_f = []\n",
    "        for f in vrts:\n",
    "            out_f = join(out_dir, basename(f).replace('vrt','tif'))\n",
    "            geocodeUsingGdalWarp(infile = f,\n",
    "                                latfile = latf,\n",
    "                                lonfile = longf,\n",
    "                                outfile = out_f,\n",
    "                                spacing=[.00005556,.00005556])\n",
    "\n",
    "            res_f.append(out_f)\n",
    "\n",
    "        if ext == 'unw':\n",
    "            print('Ignore the error message: Unable to compute bounds. It is related\\n\\\n",
    "                to the pixels created by the conversion along the edge of topography.\\n\\\n",
    "                Error message is known and should not be an issue.')\n",
    "        \n",
    "    shutil.rmtree(tmp_dir)\n",
    "\n",
    "    return res_f"
   ]
  },
  {
   "cell_type": "code",
   "execution_count": null,
   "id": "8b23f6cf-b552-4614-978e-c1af33be3bc8",
   "metadata": {},
   "outputs": [],
   "source": [
    "# run geolocate function\n",
    "geolocated_data = geolocate_uavsar(in_fp = in_fp, ann_fp = ann_fp, out_dir = out_dir, llh_fp = llh_fp)\n",
    "print(geolocated_data[0])"
   ]
  },
  {
   "cell_type": "code",
   "execution_count": null,
   "id": "8fa1fc0d-6575-4b8b-b365-27572bb63594",
   "metadata": {},
   "outputs": [],
   "source": [
    "# path to your unw.vrt\n",
    "in_fp = 'igrams/20200226T2253_20200311T1852/20200226T2253_20200311T1852.coh.vrt'\n",
    "\n",
    "# path to annotation file\n",
    "ann_fp = '/Users/jtarrico/sierra_isce/SLC/20200226T2253/sierra_17305_20014_000_200226_L090VV_01_BC.ann'\n",
    "\n",
    "# where the .tif is being save\n",
    "out_dir = '/Users/jtarrico/sierra_isce/geocode_test'\n",
    "\n",
    "# path to lat/lon/height file\n",
    "llh_fp = '/Users/jtarrico/sierra_isce/download/sierra_17305_01_BC_s1_2x8.llh'\n",
    "\n",
    "# coh_geo = geolocate_uavsar(in_fp = in_fp, ann_fp = ann_fp, out_dir = out_dir, llh_fp = llh_fp)\n",
    "# print(coh_geo[0])"
   ]
  },
  {
   "cell_type": "code",
   "execution_count": null,
   "id": "1d2e1f44-b59f-405b-8e7d-3afa6f88958a",
   "metadata": {},
   "outputs": [],
   "source": [
    "# path to your unw.vrt\n",
    "in_fp = 'igrams/20200226T2253_20200311T1852/20200226T2253_20200311T1852.unw_snaphu.unw.conncomp.vrt'\n",
    "\n",
    "# path to annotation file\n",
    "ann_fp = '/Users/jtarrico/sierra_isce/SLC/20200226T2253/sierra_17305_20014_000_200226_L090VV_01_BC.ann'\n",
    "\n",
    "# where the .tif is being save\n",
    "out_dir = '/Users/jtarrico/sierra_isce/geocode_test'\n",
    "\n",
    "# path to lat/lon/height file\n",
    "llh_fp = '/Users/jtarrico/sierra_isce/download/sierra_17305_01_BC_s1_2x8.llh'\n",
    "\n",
    "concomp_geo = geolocate_uavsar(in_fp = in_fp, ann_fp = ann_fp, out_dir = out_dir, llh_fp = llh_fp)\n",
    "print(concomp_geo[0])"
   ]
  },
  {
   "cell_type": "code",
   "execution_count": null,
   "id": "effaf8f8-ba49-4fc4-9bde-bc95a07127d7",
   "metadata": {},
   "outputs": [],
   "source": [
    "# Plot geolocated unwrapped phase data!\n",
    "with rio.open(geolocated_data[0]) as src:\n",
    "    plt.subplots(1, figsize=(15, 15))\n",
    "    show(src, vmin = -3, vmax = 3) "
   ]
  },
  {
   "cell_type": "code",
   "execution_count": null,
   "id": "09e7410d-d268-475c-87aa-8e5b7b25f3e9",
   "metadata": {},
   "outputs": [],
   "source": []
  }
 ],
 "metadata": {
  "kernelspec": {
   "display_name": "Python 3 (ipykernel)",
   "language": "python",
   "name": "python3"
  },
  "language_info": {
   "codemirror_mode": {
    "name": "ipython",
    "version": 3
   },
   "file_extension": ".py",
   "mimetype": "text/x-python",
   "name": "python",
   "nbconvert_exporter": "python",
   "pygments_lexer": "ipython3",
   "version": "3.9.18"
  }
 },
 "nbformat": 4,
 "nbformat_minor": 5
}
