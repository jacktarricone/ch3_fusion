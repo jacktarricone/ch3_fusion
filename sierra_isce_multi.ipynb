{
 "cells": [
  {
   "cell_type": "code",
   "execution_count": 1,
   "id": "5d8f648b-3409-4ba6-a829-3766e6f5ef32",
   "metadata": {
    "tags": []
   },
   "outputs": [
    {
     "name": "stdout",
     "output_type": "stream",
     "text": [
      "2023-11-16 09:03:44,808 - rasterio.session - DEBUG - Could not import boto3, continuing with reduced functionality.\n"
     ]
    },
    {
     "name": "stderr",
     "output_type": "stream",
     "text": [
      "/Users/jtarrico/miniconda/envs/isce2_env/lib/python3.9/site-packages/tqdm/auto.py:21: TqdmWarning: IProgress not found. Please update jupyter and ipywidgets. See https://ipywidgets.readthedocs.io/en/stable/user_install.html\n",
      "  from .autonotebook import tqdm as notebook_tqdm\n",
      "/Users/jtarrico/miniconda/envs/isce2_env/lib/python3.9/site-packages/scipy/__init__.py:155: UserWarning: A NumPy version >=1.18.5 and <1.25.0 is required for this version of SciPy (detected version 1.26.0\n",
      "  warnings.warn(f\"A NumPy version >={np_minversion} and <{np_maxversion}\"\n"
     ]
    }
   ],
   "source": [
    "%matplotlib inline\n",
    "import isce\n",
    "import os\n",
    "import glob\n",
    "import numpy as np\n",
    "import shutil\n",
    "from osgeo import gdal\n",
    "import matplotlib.pyplot as plt\n",
    "import rasterio as rio\n",
    "from rasterio.plot import show # plotting raster data\n",
    "from rasterio.plot import show_hist #histograms of raster data\n",
    "from uavsar_pytools.georeference import geolocate_uavsar"
   ]
  },
  {
   "cell_type": "code",
   "execution_count": 5,
   "id": "9c8cdd5a-6abb-4d55-b4f5-72800e52a148",
   "metadata": {},
   "outputs": [
    {
     "data": {
      "text/plain": [
       "'/Users/jtarrico'"
      ]
     },
     "execution_count": 5,
     "metadata": {},
     "output_type": "execute_result"
    }
   ],
   "source": [
    "# get home dir\n",
    "home = '/Users/jtarrico/'\n",
    "os.chdir(home)\n",
    "os.getcwd()"
   ]
  },
  {
   "cell_type": "code",
   "execution_count": 6,
   "id": "04dc3e7a-2122-498f-b6a7-b45cc8a32255",
   "metadata": {},
   "outputs": [],
   "source": [
    "# working folder name\n",
    "isce_directory = 'sierra_isce_multi'\n",
    "    \n",
    "# path to folder\n",
    "working_dir = os.path.join(home,isce_directory)"
   ]
  },
  {
   "cell_type": "code",
   "execution_count": 9,
   "id": "7d9faa0b-55d8-497c-b185-bcc7a52e670e",
   "metadata": {},
   "outputs": [
    {
     "name": "stdout",
     "output_type": "stream",
     "text": [
      "Directory 'sierra_isce_multi' created\n"
     ]
    }
   ],
   "source": [
    "# make new folder\n",
    "os.mkdir(working_dir)\n",
    "print(\"Directory '%s' created\" %isce_directory)"
   ]
  },
  {
   "cell_type": "code",
   "execution_count": 10,
   "id": "f9115134-7567-4195-9bef-55ceed84a8e5",
   "metadata": {},
   "outputs": [
    {
     "data": {
      "text/plain": [
       "'/Users/jtarrico/sierra_isce_multi'"
      ]
     },
     "execution_count": 10,
     "metadata": {},
     "output_type": "execute_result"
    }
   ],
   "source": [
    "# nativate to new folder\n",
    "# os.chdir(working_dir)\n",
    "os.getcwd()"
   ]
  },
  {
   "cell_type": "code",
   "execution_count": 11,
   "id": "046e1a12-93eb-4929-9281-74f119e1b304",
   "metadata": {},
   "outputs": [],
   "source": [
    "## create subdirectories\n",
    "\n",
    "# download\n",
    "dl = 'download'\n",
    "download_path = os.path.join(working_dir,dl)\n",
    "# os.mkdir(download_path)\n",
    "\n",
    "# slc\n",
    "SLC = 'SLC'\n",
    "slc_path = os.path.join(working_dir,SLC)\n",
    "# os.mkdir(slc_path)\n",
    "\n",
    "# baselines\n",
    "bl = 'baselines'\n",
    "baselines_path = os.path.join(working_dir,bl)\n",
    "# os.mkdir(baselines_path)\n",
    "\n",
    "# referenceShelve\n",
    "rs = 'referenceShelve'\n",
    "referenceShelve_path = os.path.join(working_dir,rs)\n",
    "# os.mkdir(referenceShelve_path)\n",
    "\n",
    "# dem\n",
    "dem = 'DEM'\n",
    "dem_path = os.path.join(working_dir,dem)\n",
    "# os.mkdir(dem_path)\n",
    "\n",
    "# igrams\n",
    "igrams = 'igrams'\n",
    "igrams_path = os.path.join(working_dir,igrams)\n",
    "# os.mkdir(igrams_path)"
   ]
  },
  {
   "cell_type": "code",
   "execution_count": 12,
   "id": "fbe98cc4-1e0f-403f-9926-b1cd44b5bf7c",
   "metadata": {},
   "outputs": [
    {
     "name": "stdout",
     "output_type": "stream",
     "text": [
      "/Users/jtarrico/sierra_isce_multi/SLC\n",
      "/Users/jtarrico/sierra_isce_multi/referenceShelve\n",
      "/Users/jtarrico/sierra_isce_multi/igrams\n",
      "/Users/jtarrico/sierra_isce_multi/download\n",
      "/Users/jtarrico/sierra_isce_multi/DEM\n",
      "/Users/jtarrico/sierra_isce_multi/baselines\n"
     ]
    }
   ],
   "source": [
    "# check folders were created\n",
    "for file in os.listdir(working_dir):\n",
    "    d = os.path.join(working_dir, file)\n",
    "    if os.path.isdir(d):\n",
    "        print(d)"
   ]
  },
  {
   "cell_type": "markdown",
   "id": "26072a5e-8837-47de-b139-4294cc0d0f90",
   "metadata": {},
   "source": [
    "# nativate to download folder\n",
    "os.chdir(download_path)\n",
    "os.getcwd()"
   ]
  },
  {
   "cell_type": "markdown",
   "id": "b584e055-3b22-4ea0-ae53-9a96b3367319",
   "metadata": {},
   "source": [
    "## download"
   ]
  },
  {
   "cell_type": "code",
   "execution_count": 14,
   "id": "ec56f499-006d-46d1-964d-6e82e4e54db9",
   "metadata": {},
   "outputs": [],
   "source": [
    "# create .sh file from links\n",
    "\n",
    "links = ['wget https://downloaduav2.jpl.nasa.gov/Release30/sierra_17305_01/sierra_17305_01_BC.dop',\n",
    "'wget https://downloaduav2.jpl.nasa.gov/Release30/sierra_17305_01/sierra_17305_01_BC_s1_1x1.llh',\n",
    "'wget https://downloaduav2.jpl.nasa.gov/Release30/sierra_17305_01/sierra_17305_01_BC_s1_1x1.lkv',\n",
    "'wget https://downloaduav2.jpl.nasa.gov/Release30/sierra_17305_01/sierra_17305_01_BC_s2_1x1.llh',\n",
    "'wget https://downloaduav2.jpl.nasa.gov/Release30/sierra_17305_01/sierra_17305_01_BC_s2_1x1.lkv',\n",
    "'wget https://downloaduav2.jpl.nasa.gov/Release30/sierra_17305_01/sierra_17305_20002_001_200131_L090VV_01_BC.ann',\n",
    "'wget https://downloaduav2.jpl.nasa.gov/Release30/sierra_17305_01/sierra_17305_20006_002_200212_L090VV_01_BC.ann',\n",
    "'wget https://downloaduav2.jpl.nasa.gov/Release30/sierra_17305_01/sierra_17305_20009_023_200219_L090VV_01_BC.ann',\n",
    "'wget https://downloaduav2.jpl.nasa.gov/Release30/sierra_17305_01/sierra_17305_20016_005_200311_L090VV_01_BC.ann',\n",
    "'wget https://downloaduav2.jpl.nasa.gov/Release30/sierra_17305_01/sierra_17305_20014_000_200226_L090VV_01_BC.ann',\n",
    "'wget https://downloaduav2.jpl.nasa.gov/Release30/sierra_17305_01/sierra_17305_20002_001_200131_L090VV_01_BC_s1_1x1.slc',\n",
    "'wget https://downloaduav2.jpl.nasa.gov/Release30/sierra_17305_01/sierra_17305_20006_002_200212_L090VV_01_BC_s1_1x1.slc',\n",
    "'wget https://downloaduav2.jpl.nasa.gov/Release30/sierra_17305_01/sierra_17305_20009_023_200219_L090VV_01_BC_s1_1x1.slc',\n",
    "'wget https://downloaduav2.jpl.nasa.gov/Release30/sierra_17305_01/sierra_17305_20014_000_200226_L090VV_01_BC_s1_1x1.slc',\n",
    "'wget https://downloaduav2.jpl.nasa.gov/Release30/sierra_17305_01/sierra_17305_20016_005_200311_L090VV_01_BC_s1_1x1.slc',\n",
    "'wget https://downloaduav2.jpl.nasa.gov/Release30/sierra_17305_01/sierra_17305_20002_001_200131_L090VV_01_BC_s2_1x1.slc',\n",
    "'wget https://downloaduav2.jpl.nasa.gov/Release30/sierra_17305_01/sierra_17305_20006_002_200212_L090VV_01_BC_s2_1x1.slc',\n",
    "'wget https://downloaduav2.jpl.nasa.gov/Release30/sierra_17305_01/sierra_17305_20009_023_200219_L090VV_01_BC_s2_1x1.slc',\n",
    "'wget https://downloaduav2.jpl.nasa.gov/Release30/sierra_17305_01/sierra_17305_20014_000_200226_L090VV_01_BC_s2_1x1.slc',\n",
    "'wget https://downloaduav2.jpl.nasa.gov/Release30/sierra_17305_01/sierra_17305_20016_005_200311_L090VV_01_BC_s2_1x1.slc']\n",
    "\n",
    "with open('downloads.sh', 'w') as f:\n",
    "    for links in links:\n",
    "        f.write(links)\n",
    "        f.write('\\n')"
   ]
  },
  {
   "cell_type": "code",
   "execution_count": 21,
   "id": "44960d62-5339-4964-baf4-52813b667dd8",
   "metadata": {},
   "outputs": [
    {
     "name": "stdout",
     "output_type": "stream",
     "text": [
      "/Users/jtarrico/sierra_isce_multi/download/sierra_17305_20002_001_200131_L090VV_01_BC_s2_1x1.slc\n",
      "/Users/jtarrico/sierra_isce_multi/download/sierra_17305_20009_023_200219_L090VV_01_BC.ann\n",
      "/Users/jtarrico/sierra_isce_multi/download/sierra_17305_20009_023_200219_L090VV_01_BC_s2_1x1.slc\n",
      "/Users/jtarrico/sierra_isce_multi/download/sierra_17305_20006_002_200212_L090VV_01_BC_s1_1x1.slc\n",
      "/Users/jtarrico/sierra_isce_multi/download/sierra_17305_20014_000_200226_L090VV_01_BC_s1_1x1.slc\n",
      "/Users/jtarrico/sierra_isce_multi/download/.DS_Store\n",
      "/Users/jtarrico/sierra_isce_multi/download/sierra_17305_01_BC.dop\n",
      "/Users/jtarrico/sierra_isce_multi/download/sierra_17305_20016_005_200311_L090VV_01_BC_s2_1x1.slc\n",
      "/Users/jtarrico/sierra_isce_multi/download/sierra_17305_01_BC_s1_2x8.llh\n",
      "/Users/jtarrico/sierra_isce_multi/download/sierra_17305_20006_002_200212_L090VV_01_BC.ann\n",
      "/Users/jtarrico/sierra_isce_multi/download/sierra_17305_20009_023_200219_L090VV_01_BC_s1_1x1.slc\n",
      "/Users/jtarrico/sierra_isce_multi/download/sierra_17305_20002_001_200131_L090VV_01_BC_s1_1x1.slc\n",
      "/Users/jtarrico/sierra_isce_multi/download/downloads_2.sh\n",
      "/Users/jtarrico/sierra_isce_multi/download/sierra_17305_01_BC_s2_2x8.llh\n",
      "/Users/jtarrico/sierra_isce_multi/download/sierra_17305_20016_005_200311_L090VV_01_BC_s1_1x1.slc\n",
      "/Users/jtarrico/sierra_isce_multi/download/sierra_17305_20014_000_200226_L090VV_01_BC_s2_1x1.slc\n",
      "/Users/jtarrico/sierra_isce_multi/download/sierra_17305_20006_002_200212_L090VV_01_BC_s2_1x1.slc\n",
      "/Users/jtarrico/sierra_isce_multi/download/sierra_17305_01_BC_s2_2x8.lkv\n",
      "/Users/jtarrico/sierra_isce_multi/download/sierra_17305_20014_000_200226_L090VV_01_BC.ann\n",
      "/Users/jtarrico/sierra_isce_multi/download/sierra_17305_01_BC_s1_2x8.lkv\n",
      "/Users/jtarrico/sierra_isce_multi/download/sierra_17305_20016_005_200311_L090VV_01_BC.ann\n",
      "/Users/jtarrico/sierra_isce_multi/download/sierra_17305_20002_001_200131_L090VV_01_BC.ann\n"
     ]
    }
   ],
   "source": [
    "# list files downloaded\n",
    "for i in os.listdir(download_path):\n",
    "    file = os.path.join(download_path, i)\n",
    "    print(file)"
   ]
  },
  {
   "cell_type": "markdown",
   "id": "18e755e2-5876-41e8-be02-de69e641ff8a",
   "metadata": {},
   "source": [
    "## merge segments"
   ]
  },
  {
   "cell_type": "markdown",
   "id": "14ccf4b7-c260-4071-ba0b-32a726192343",
   "metadata": {},
   "source": [
    "add these scripts to the stripmapp folder\n",
    "\n",
    "```pair.py``` \\\n",
    "```group_segments_dayhrmin_4isce.py``` \\\n",
    "```make_ifg_vrt_xml_isce.py``` \\\n",
    "```insar.py``` \\\n",
    "```make_slc_vrt_xml_isce.py``` \\\n",
    "```cat_and_interfere_py3.py``` \\\n",
    "```unpackFrame_UAVSAR_JPLcode.py``` "
   ]
  },
  {
   "cell_type": "code",
   "execution_count": 25,
   "id": "10cad5fb-a807-4151-aad9-3f56a7892539",
   "metadata": {},
   "outputs": [],
   "source": [
    "os.chdir('./download/')"
   ]
  },
  {
   "cell_type": "code",
   "execution_count": 26,
   "id": "f5585eef-7eb2-43ae-a2c9-eb4d71a2e6a2",
   "metadata": {},
   "outputs": [],
   "source": [
    "# read segments\n",
    "# ! group_segments_dayhrmin_4isce.py . > images.json"
   ]
  },
  {
   "cell_type": "code",
   "execution_count": null,
   "id": "02c21481-b754-4ef4-9122-1fee8c4a045a",
   "metadata": {},
   "outputs": [],
   "source": [
    "# generate ancillary files\n",
    "# ! make_slc_vrt_xml_isce.py ./"
   ]
  },
  {
   "cell_type": "code",
   "execution_count": null,
   "id": "8c8ce4e2-d430-4826-b89e-d9d68374b1ee",
   "metadata": {},
   "outputs": [],
   "source": [
    "# form insar pairs at 8x2\n",
    "# ! cat_and_interfere_py3.py -d int -r 2 -a 8 images.json pairs.txt"
   ]
  },
  {
   "cell_type": "code",
   "execution_count": null,
   "id": "53f05232-1710-4e7a-acff-01c08f599b28",
   "metadata": {},
   "outputs": [],
   "source": [
    "# make interferograms at 8x2\n"
   ]
  },
  {
   "cell_type": "markdown",
   "id": "76f8b436-0bc3-40fe-8d8a-5b420bb620de",
   "metadata": {},
   "source": [
    "## Prepare SLC Stack"
   ]
  },
  {
   "cell_type": "code",
   "execution_count": 23,
   "id": "97996001-e236-4041-b06d-0170ff359f97",
   "metadata": {},
   "outputs": [
    {
     "data": {
      "text/plain": [
       "'/Users/jtarrico/sierra_isce_multi'"
      ]
     },
     "execution_count": 23,
     "metadata": {},
     "output_type": "execute_result"
    }
   ],
   "source": [
    "# nativate to download folder\n",
    "os.chdir(working_dir)\n",
    "os.getcwd()"
   ]
  },
  {
   "cell_type": "code",
   "execution_count": null,
   "id": "4977e685-88f9-454e-8f5d-a467526f9f65",
   "metadata": {},
   "outputs": [],
   "source": [
    "# copy doppler file to working directory\n",
    "shutil.copy(\"/Users/jtarrico/sierra_isce/download/sierra_17305_01_BC.dop\", \n",
    "            \"/Users/jtarrico/sierra_isce/sierra_17305_01_BC.dop\")"
   ]
  },
  {
   "cell_type": "code",
   "execution_count": null,
   "id": "8f741aaa-d20a-43bc-98e8-810c418a13f6",
   "metadata": {},
   "outputs": [],
   "source": [
    "# check function inputs\n",
    "! prepareUAVSAR_coregStack_segmets.py -h"
   ]
  },
  {
   "cell_type": "markdown",
   "id": "fc840c61-78fd-4722-8644-49d1228a2389",
   "metadata": {},
   "source": [
    "In this case our -i flag will the the download folder, the -d flag will be the doppler file, -o will be the SLC directory."
   ]
  },
  {
   "cell_type": "code",
   "execution_count": null,
   "id": "5acc7c85-f62e-4073-a036-a8347cdc84e9",
   "metadata": {},
   "outputs": [],
   "source": [
    "! prepareUAVSAR_coregStack_segmets.py --input download/ --dop_file sierra_17305_01_BC.dop --output SLC --segment 1"
   ]
  },
  {
   "cell_type": "code",
   "execution_count": null,
   "id": "b7b03dec-293e-495a-92aa-23a80ccc61ce",
   "metadata": {},
   "outputs": [],
   "source": [
    "# segment 2\n",
    "! prepareUAVSAR_coregStack_segmets.py --input download/ --dop_file sierra_17305_01_BC.dop --output SLC --segment 2"
   ]
  },
  {
   "cell_type": "code",
   "execution_count": null,
   "id": "5da723c6-e6e7-4f1c-98c8-b613d1ede2f0",
   "metadata": {
    "scrolled": true
   },
   "outputs": [],
   "source": [
    "# list folders just created in slc path\n",
    "!ls SLC/*"
   ]
  },
  {
   "cell_type": "code",
   "execution_count": null,
   "id": "8d7e4715-1a41-4090-8c47-87eae957e11f",
   "metadata": {},
   "outputs": [],
   "source": [
    "os.getcwd()"
   ]
  },
  {
   "cell_type": "code",
   "execution_count": null,
   "id": "15698b72-4f90-49eb-8bd1-a8568b31412b",
   "metadata": {},
   "outputs": [],
   "source": [
    "# using gdal info the check everything worked\n",
    "! gdalinfo SLC/s1/20200131T1903/sierra_17305_20002_001_200131_L090VV_01_BC_s1_1x1.slc"
   ]
  },
  {
   "cell_type": "code",
   "execution_count": null,
   "id": "61bd9725-a72c-44ed-a2d0-8b44ac65dfff",
   "metadata": {},
   "outputs": [],
   "source": [
    "ds = gdal.Open(\"/Users/jtarrico/sierra_isce/SLC/20200226T2253/sierra_17305_20014_000_200226_L090VV_01_BC_s2_1x1.slc\", gdal.GA_ReadOnly)\n",
    "# extract a part of the SLC to display\n",
    "x0 = 0\n",
    "y0 = 0\n",
    "x_offset = 8874\n",
    "y_offset = 63032 \n",
    "slc = ds.GetRasterBand(1).ReadAsArray(x0, y0, x_offset, y_offset)\n",
    "ds = None\n",
    "\n",
    "fig = plt.figure(figsize=(14, 12))\n",
    "\n",
    "# display amplitude of the slc\n",
    "ax = fig.add_subplot(1,2,1)\n",
    "ax.imshow(np.abs(slc), vmin = 0, vmax=1, cmap='gray')\n",
    "ax.set_title(\"amplitude\")\n",
    "\n",
    "#display phase of the slc\n",
    "ax = fig.add_subplot(1,2,2)\n",
    "ax.imshow(np.angle(slc))\n",
    "ax.set_title(\"phase\")\n",
    "\n",
    "plt.show()\n",
    "\n",
    "slc = None"
   ]
  },
  {
   "cell_type": "markdown",
   "id": "18022e6d-3991-472e-90ec-42d3ce690b62",
   "metadata": {},
   "source": [
    "## Create Interferograms\n",
    "more info here....."
   ]
  },
  {
   "cell_type": "code",
   "execution_count": null,
   "id": "34f055ac-46e4-477e-a5e4-80585b3d0f2e",
   "metadata": {},
   "outputs": [],
   "source": [
    "! uavsar_crossmul.py -h "
   ]
  },
  {
   "cell_type": "code",
   "execution_count": null,
   "id": "890b11b8-2d67-454b-891a-ab9e3eb71a40",
   "metadata": {},
   "outputs": [],
   "source": [
    "os.chdir('/Users/jtarrico/sierra_isce/')"
   ]
  },
  {
   "cell_type": "code",
   "execution_count": null,
   "id": "92c95a53-d6e4-457a-a9c2-b058fea762d9",
   "metadata": {
    "scrolled": true
   },
   "outputs": [],
   "source": [
    "# 8x2 is NEEDED for geolocation\n",
    "# given we use .llh array that max size is 8x2\n",
    "! uavsar_crossmul.py --slc_dir SLC/ --alks 8 --rlks 2 --outdir igrams "
   ]
  },
  {
   "cell_type": "code",
   "execution_count": null,
   "id": "05340fe8-3d49-477a-8dac-d6d574908ccb",
   "metadata": {},
   "outputs": [],
   "source": [
    "# print current directories\n",
    "! ls igrams/*/*"
   ]
  },
  {
   "cell_type": "code",
   "execution_count": null,
   "id": "8b2a2980-d7b8-4e6b-b44e-0095bf516ccc",
   "metadata": {},
   "outputs": [],
   "source": [
    "# plot amplitude and wrapped interferogram\n",
    "\n",
    "w_int = 'igrams/20200212T2211_20200219T2208/20200212T2211_20200219T2208.int'\n",
    "ds = gdal.Open(w_int, gdal.GA_ReadOnly)\n",
    "igram = ds.GetRasterBand(1).ReadAsArray()\n",
    "ds = None\n",
    "\n",
    "fig = plt.figure(figsize=(10, 14))\n",
    "\n",
    "ax = fig.add_subplot(1,2,1)\n",
    "ax.imshow(np.abs(igram), vmin = 0 , vmax = 15.0, cmap = 'gray')\n",
    "ax.set_title(\"Magnitude\")\n",
    "ax.set_axis_off()\n",
    "\n",
    "ax = fig.add_subplot(1,2,2)\n",
    "ax.imshow(np.angle(igram), cmap = 'jet', vmax = 3.14, vmin = -3.14)\n",
    "ax.set_title(\"Phase\")\n",
    "ax.set_axis_off()"
   ]
  },
  {
   "cell_type": "code",
   "execution_count": null,
   "id": "649f5f82-723f-4ad1-ae96-744cc7990a2f",
   "metadata": {},
   "outputs": [],
   "source": [
    "# cor\n",
    "w_int = 'igrams/20200212T2211_20200219T2208/20200212T2211_20200219T2208.coh'\n",
    "ds = gdal.Open(w_int, gdal.GA_ReadOnly)\n",
    "coh = ds.GetRasterBand(1).ReadAsArray()\n",
    "ds = None\n",
    "\n",
    "fig = plt.figure(figsize=(10, 14))\n",
    "\n",
    "ax = fig.add_subplot(1,2,1)\n",
    "ax.imshow(coh, vmin = 0, vmax = 1, cmap = 'gray')\n",
    "ax.set_title(\"Coherence\")\n",
    "ax.set_axis_off()"
   ]
  },
  {
   "cell_type": "code",
   "execution_count": null,
   "id": "5f026ade-8673-4fc4-896f-6077c83fae8a",
   "metadata": {},
   "outputs": [],
   "source": [
    "show_hist(coh, bins = 100)"
   ]
  },
  {
   "cell_type": "markdown",
   "id": "97a6d340-2b08-452b-9b0b-52213b06ae13",
   "metadata": {},
   "source": [
    "# Phase Unwrapping"
   ]
  },
  {
   "cell_type": "code",
   "execution_count": null,
   "id": "71c8813c-ff29-432a-b469-35f522aa5c53",
   "metadata": {},
   "outputs": [],
   "source": [
    "# create text file of date list\n",
    "## this doesn't work, had to fix manually\n",
    "# ! ls igrams/ | awk -F \"/\" '{print $1}' >> datelist.txt"
   ]
  },
  {
   "cell_type": "code",
   "execution_count": null,
   "id": "f48e59e8-3fb1-4763-a71d-659e43529991",
   "metadata": {},
   "outputs": [],
   "source": [
    "# print contents of that file\n",
    "with open('datelist.txt') as f:\n",
    "    lines = f.readlines()\n",
    "    print(lines)"
   ]
  },
  {
   "cell_type": "code",
   "execution_count": null,
   "id": "c1a0fb0d-0a24-4062-a2bf-2b44016e1c0f",
   "metadata": {},
   "outputs": [],
   "source": [
    "! unwrap.py -h"
   ]
  },
  {
   "cell_type": "code",
   "execution_count": null,
   "id": "95b3a077-5c64-4942-be2e-8845dab13cc0",
   "metadata": {},
   "outputs": [],
   "source": [
    "# run snaphu, this will take a while\n",
    "# ! awk -F \"_\" '{print \"unwrap.py -i igrams/\"$1\"_\"$2\"/\"$1\"_\"$2\".int -u igrams/\"$1\"_\"$2\"/\"$1\"_\"$2\".unw -c igrams/\"$1\"_\"$2\"/\"$1\"_\"$2\".coh -a 12 -r 3 -s SLC/\"$1\"/ -m snaphu\"}' datelist.txt >> unwall.sh"
   ]
  },
  {
   "cell_type": "code",
   "execution_count": null,
   "id": "751c5a8a-1782-47ff-ae35-6a35e5b09317",
   "metadata": {},
   "outputs": [],
   "source": [
    "! sh unwall.sh"
   ]
  },
  {
   "cell_type": "code",
   "execution_count": null,
   "id": "258c639f-1d22-4253-a22a-9a92fef83459",
   "metadata": {
    "scrolled": true
   },
   "outputs": [],
   "source": [
    "# list files generated in unwrapping process\n",
    "!ls igrams/*/*"
   ]
  },
  {
   "cell_type": "code",
   "execution_count": null,
   "id": "5dc46674-5b62-4175-9d87-b3cf4667c89c",
   "metadata": {},
   "outputs": [],
   "source": [
    "# plot\n",
    "\n",
    "# reading the multi-looked wrapped interferogram\n",
    "ds = gdal.Open(\"igrams/20200226T2253_20200311T1852/20200226T2253_20200311T1852.int\", gdal.GA_ReadOnly)\n",
    "igram = ds.GetRasterBand(1).ReadAsArray()\n",
    "ds = None\n",
    "\n",
    "# reading the multi-looked unwrapped interferogram\n",
    "ds = gdal.Open(\"igrams/20200226T2253_20200311T1852/20200226T2253_20200311T1852.unw_snaphu.unw\", gdal.GA_ReadOnly)\n",
    "igram_unw = ds.GetRasterBand(2).ReadAsArray()\n",
    "ds = None\n",
    "\n",
    "# reading the connected component file\n",
    "ds = gdal.Open(\"igrams/20200226T2253_20200311T1852/20200226T2253_20200311T1852.unw_snaphu.unw.conncomp\", gdal.GA_ReadOnly)\n",
    "connected_components = ds.GetRasterBand(1).ReadAsArray()\n",
    "ds = None\n",
    "\n",
    "fig = plt.figure(figsize=(18, 16))\n",
    "\n",
    "ax = fig.add_subplot(1,3,1)\n",
    "cax=ax.imshow(np.angle(igram), cmap='jet')\n",
    "ax.set_title(\"wrapped\")\n",
    "#ax.set_axis_off()\n",
    "cbar = fig.colorbar(cax, ticks=[-3.14,0,3.14],orientation='horizontal')\n",
    "cbar.ax.set_xticklabels([\"$-\\pi$\",0,\"$\\pi$\"])\n",
    "\n",
    "ax = fig.add_subplot(1,3,2)\n",
    "cax = ax.imshow(igram_unw, vmin = -2, vmax = 7, cmap = 'jet')\n",
    "ax.set_title(\"unwrapped\")\n",
    "ax.set_axis_off()\n",
    "cbar = fig.colorbar(cax, ticks=[-2,0,7], orientation='horizontal')\n",
    "\n",
    "\n",
    "ax = fig.add_subplot(1,3,3)\n",
    "cax = ax.imshow(connected_components, cmap = 'jet')\n",
    "ax.set_title(\"components\")\n",
    "ax.set_axis_off()\n",
    "cbar = fig.colorbar(cax, ticks=[0,21] , orientation='horizontal')\n",
    "cbar.ax.set_xticklabels([0,21])\n",
    "\n",
    "\n",
    "connected_components = None"
   ]
  },
  {
   "cell_type": "code",
   "execution_count": null,
   "id": "04a954ff-48ca-4bdf-8ef9-3d2ffa2cb5c0",
   "metadata": {},
   "outputs": [],
   "source": [
    "!gdalinfo igrams/20200226T2253_20200311T1852/20200226T2253_20200311T1852.unw_snaphu.unw.vrt"
   ]
  },
  {
   "cell_type": "code",
   "execution_count": null,
   "id": "b7d654f9-d483-46ce-ba9c-db44b708fc42",
   "metadata": {},
   "outputs": [],
   "source": [
    "# path to your unw.vrt\n",
    "in_fp = 'igrams/20200226T2253_20200311T1852/20200226T2253_20200311T1852.unw_snaphu.unw.vrt'\n",
    "\n",
    "# path to annotation file\n",
    "ann_fp = '/Users/jtarrico/sierra_isce/SLC/20200226T2253/sierra_17305_20014_000_200226_L090VV_01_BC.ann'\n",
    "\n",
    "# where the .tif is being save\n",
    "out_dir = '/Users/jtarrico/sierra_isce/geocode_test'\n",
    "\n",
    "# path to lat/lon/height file\n",
    "llh_fp = '/Users/jtarrico/sierra_isce/download/sierra_17305_01_BC_s1_2x8.llh'"
   ]
  },
  {
   "cell_type": "code",
   "execution_count": null,
   "id": "8b23f6cf-b552-4614-978e-c1af33be3bc8",
   "metadata": {},
   "outputs": [],
   "source": [
    "# run geolocate function\n",
    "# geolocated_data = geolocate_uavsar(in_fp = in_fp, ann_fp = ann_fp, out_dir = out_dir, llh_fp = llh_fp)\n",
    "# print(geolocated_data[0])"
   ]
  },
  {
   "cell_type": "code",
   "execution_count": null,
   "id": "8fa1fc0d-6575-4b8b-b365-27572bb63594",
   "metadata": {},
   "outputs": [],
   "source": [
    "# path to your unw.vrt\n",
    "in_fp = 'igrams/20200226T2253_20200311T1852/20200226T2253_20200311T1852.coh.vrt'\n",
    "\n",
    "# path to annotation file\n",
    "ann_fp = '/Users/jtarrico/sierra_isce/SLC/20200226T2253/sierra_17305_20014_000_200226_L090VV_01_BC.ann'\n",
    "\n",
    "# where the .tif is being save\n",
    "out_dir = '/Users/jtarrico/sierra_isce/geocode_test'\n",
    "\n",
    "# path to lat/lon/height file\n",
    "llh_fp = '/Users/jtarrico/sierra_isce/download/sierra_17305_01_BC_s1_2x8.llh'\n",
    "\n",
    "# coh_geo = geolocate_uavsar(in_fp = in_fp, ann_fp = ann_fp, out_dir = out_dir, llh_fp = llh_fp)\n",
    "# print(coh_geo[0])"
   ]
  },
  {
   "cell_type": "code",
   "execution_count": null,
   "id": "1d2e1f44-b59f-405b-8e7d-3afa6f88958a",
   "metadata": {},
   "outputs": [],
   "source": [
    "# path to your unw.vrt\n",
    "in_fp = 'igrams/20200226T2253_20200311T1852/20200226T2253_20200311T1852.unw_snaphu.unw.conncomp.vrt'\n",
    "\n",
    "# path to annotation file\n",
    "ann_fp = '/Users/jtarrico/sierra_isce/SLC/20200226T2253/sierra_17305_20014_000_200226_L090VV_01_BC.ann'\n",
    "\n",
    "# where the .tif is being save\n",
    "out_dir = '/Users/jtarrico/sierra_isce/geocode_test'\n",
    "\n",
    "# path to lat/lon/height file\n",
    "llh_fp = '/Users/jtarrico/sierra_isce/download/sierra_17305_01_BC_s1_2x8.llh'\n",
    "\n",
    "concomp_geo = geolocate_uavsar(in_fp = in_fp, ann_fp = ann_fp, out_dir = out_dir, llh_fp = llh_fp)\n",
    "print(concomp_geo[0])"
   ]
  },
  {
   "cell_type": "code",
   "execution_count": null,
   "id": "effaf8f8-ba49-4fc4-9bde-bc95a07127d7",
   "metadata": {},
   "outputs": [],
   "source": [
    "# Plot geolocated unwrapped phase data!\n",
    "with rio.open(geolocated_data[0]) as src:\n",
    "    plt.subplots(1, figsize=(15, 15))\n",
    "    show(src, vmin = -3, vmax = 3) "
   ]
  },
  {
   "cell_type": "code",
   "execution_count": null,
   "id": "09e7410d-d268-475c-87aa-8e5b7b25f3e9",
   "metadata": {},
   "outputs": [],
   "source": []
  }
 ],
 "metadata": {
  "kernelspec": {
   "display_name": "Python 3 (ipykernel)",
   "language": "python",
   "name": "python3"
  },
  "language_info": {
   "codemirror_mode": {
    "name": "ipython",
    "version": 3
   },
   "file_extension": ".py",
   "mimetype": "text/x-python",
   "name": "python",
   "nbconvert_exporter": "python",
   "pygments_lexer": "ipython3",
   "version": "3.9.18"
  }
 },
 "nbformat": 4,
 "nbformat_minor": 5
}
