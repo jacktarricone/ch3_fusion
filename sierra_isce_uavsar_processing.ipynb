{
 "cells": [
  {
   "cell_type": "markdown",
   "id": "8f8708c0-1000-4ca8-a8d2-adf18061055a",
   "metadata": {},
   "source": [
    "# ISCE Processing of SnowEx UAVSAR data\n",
    "By: **Jack Tarricone** *(University of Nevada, Reno)*, **Sam Neitlich** *(Montana State/JPL)*, **Talib Oliver** *(JPL)* \\\n",
    "Guidance from: **Yunling Lou** *(JPL)*, **Karen An** *(JPL)*, **Zach Keskenin** *(Boise State)*, **Ross Palomaki** *(Montana State)*, **Naheem Adebisi** *(Boise State)*"
   ]
  },
  {
   "cell_type": "markdown",
   "id": "72fb5d59-616c-4f68-a221-cb753a7ec974",
   "metadata": {},
   "source": [
    "Create new conda environment to install ISCE in:\n",
    "```\n",
    "conda config --add channels conda-forge\n",
    "conda config --set channel_priority strict\n",
    "conda create -n isce2_env python=3.9 isce2=2.5.2 ** add numpy, glob, matplotlib\n",
    "conda activate isce2_env\n",
    "```\n",
    "\n",
    "In the terminal, navigate to the home directory and open your ```.zprofile``` or ```.bash_profile```. In this case I'm using the [Atom](https://atom.io/) text editor:\n",
    "```\n",
    "cd ~\n",
    "atom .zprofile\n",
    "```\n",
    "\n",
    "Add these lines or that path to where you ```conda``` enviroments are stored. Note that miniconda3 and be replace with anaconda3:\n",
    "```\n",
    "export ISCE_HOME=~/miniconda3/envs/isce2_env/lib/python3.9/site-packages/isce\n",
    "export ISCE_STACK=~/miniconda3/envs/isce2_env/share/isce2/stripmapStack\n",
    "export PATH=$PATH:$ISCE_HOME/bin:$ISCE_HOME/applications:$ISCE_STACK\n",
    "```\n",
    "\n",
    "Add link for copying extra pythons scripts here\n",
    "\n",
    "Back in the terminal:\n",
    "```\n",
    "source .zprofile\n",
    "```"
   ]
  },
  {
   "cell_type": "code",
   "execution_count": 1,
   "id": "5d8f648b-3409-4ba6-a829-3766e6f5ef32",
   "metadata": {
    "tags": []
   },
   "outputs": [
    {
     "name": "stdout",
     "output_type": "stream",
     "text": [
      "This is the Open Source version of ISCE.\n",
      "Some of the workflows depend on a separate licensed package.\n",
      "To obtain the licensed package, please make a request for ISCE\n",
      "through the website: https://download.jpl.nasa.gov/ops/request/index.cfm.\n",
      "Alternatively, if you are a member, or can become a member of WinSAR\n",
      "you may be able to obtain access to a version of the licensed sofware at\n",
      "https://winsar.unavco.org/software/isce\n"
     ]
    }
   ],
   "source": [
    "%matplotlib inline\n",
    "import isce\n",
    "import os\n",
    "import glob\n",
    "import numpy as np\n",
    "import shutil\n",
    "from osgeo import gdal\n",
    "import matplotlib.pyplot as plt\n",
    "#import rasterio as rio\n",
    "#import uavsar_pytools"
   ]
  },
  {
   "cell_type": "markdown",
   "id": "9f9c5462-5020-4543-99e1-d4a5a3c8fe2f",
   "metadata": {},
   "source": [
    "This tutorial is a recreation of the processing steps outlined [IsceUAVSARprocessing.ipynb](https://github.com/taliboliver/Isce_UAVSAR/blob/master/IsceUAVSARprocessing.ipynb), with addtional functionality added by the ```uavsar_pytools``` package. It is assumed that users have ISCE installed on thier local machines, which admittedly can be the most challenging step in this process.  For information on ISCE installation please see the [Isce_UAVSAR](https://github.com/taliboliver/Isce_UAVSAR) by **Talib Oliver** *(JPL)* or Eric fieldings (find link from Zach)\n",
    "\n",
    "In this notebook, we will interfermoterically process SLC stack from the Jemez Mountains, NM using the [Interferometric synthetic aperture radar Scientific Computing Environment (ISCE2)](https://github.com/isce-framework/isce2). We will then phase unwrap using [SNAPHU](https://web.stanford.edu/group/radar/softwareandlinks/sw/snaphu/), and geolocate the SLC data using ```geolocate_uavsar()```.\n",
    "\n",
    "Past tutorials have assumed that your Jupyter environment will natively run command line code. In this notebook will run ISCE using mostly Python functionality."
   ]
  },
  {
   "cell_type": "markdown",
   "id": "6d559c04-4b10-424f-970a-d44d5b3bb821",
   "metadata": {},
   "source": [
    "## Create folder to work out of\n",
    "First we'll create a new folder in our home directory to download files and run ISCE from"
   ]
  },
  {
   "cell_type": "code",
   "execution_count": 2,
   "id": "9c8cdd5a-6abb-4d55-b4f5-72800e52a148",
   "metadata": {},
   "outputs": [
    {
     "data": {
      "text/plain": [
       "'/Users/jtarrico'"
      ]
     },
     "execution_count": 2,
     "metadata": {},
     "output_type": "execute_result"
    }
   ],
   "source": [
    "# get home dir\n",
    "home = '/Users/jtarrico/'\n",
    "os.chdir(home)\n",
    "os.getcwd()"
   ]
  },
  {
   "cell_type": "code",
   "execution_count": 3,
   "id": "04dc3e7a-2122-498f-b6a7-b45cc8a32255",
   "metadata": {},
   "outputs": [],
   "source": [
    "# working folder name\n",
    "isce_directory = 'sierra_isce'\n",
    "    \n",
    "# path to folder\n",
    "working_dir = os.path.join(home,isce_directory)"
   ]
  },
  {
   "cell_type": "code",
   "execution_count": 4,
   "id": "7d9faa0b-55d8-497c-b185-bcc7a52e670e",
   "metadata": {},
   "outputs": [
    {
     "name": "stdout",
     "output_type": "stream",
     "text": [
      "Directory 'sierra_isce' created\n"
     ]
    }
   ],
   "source": [
    "# make new folder\n",
    "# os.mkdir(working_dir)\n",
    "print(\"Directory '%s' created\" %isce_directory)"
   ]
  },
  {
   "cell_type": "code",
   "execution_count": 5,
   "id": "f9115134-7567-4195-9bef-55ceed84a8e5",
   "metadata": {},
   "outputs": [
    {
     "data": {
      "text/plain": [
       "'/Users/jtarrico/sierra_isce'"
      ]
     },
     "execution_count": 5,
     "metadata": {},
     "output_type": "execute_result"
    }
   ],
   "source": [
    "# nativate to new folder\n",
    "os.chdir(working_dir)\n",
    "os.getcwd()"
   ]
  },
  {
   "cell_type": "code",
   "execution_count": 6,
   "id": "046e1a12-93eb-4929-9281-74f119e1b304",
   "metadata": {},
   "outputs": [],
   "source": [
    "## create subdirectories\n",
    "\n",
    "# download\n",
    "dl = 'download'\n",
    "download_path = os.path.join(working_dir,dl)\n",
    "# os.mkdir(download_path)\n",
    "\n",
    "# slc\n",
    "SLC = 'SLC'\n",
    "slc_path = os.path.join(working_dir,SLC)\n",
    "# os.mkdir(slc_path)\n",
    "\n",
    "# baselines\n",
    "bl = 'baselines'\n",
    "baselines_path = os.path.join(working_dir,bl)\n",
    "# os.mkdir(baselines_path)\n",
    "\n",
    "# referenceShelve\n",
    "rs = 'referenceShelve'\n",
    "referenceShelve_path = os.path.join(working_dir,rs)\n",
    "# os.mkdir(referenceShelve_path)\n",
    "\n",
    "# dem\n",
    "dem = 'DEM'\n",
    "dem_path = os.path.join(working_dir,dem)\n",
    "# os.mkdir(dem_path)\n",
    "\n",
    "# igrams\n",
    "igrams = 'igrams'\n",
    "igrams_path = os.path.join(working_dir,igrams)\n",
    "# os.mkdir(igrams_path)"
   ]
  },
  {
   "cell_type": "code",
   "execution_count": 7,
   "id": "fbe98cc4-1e0f-403f-9926-b1cd44b5bf7c",
   "metadata": {},
   "outputs": [
    {
     "name": "stdout",
     "output_type": "stream",
     "text": [
      "/Users/jtarrico/sierra_isce/download_orginal\n",
      "/Users/jtarrico/sierra_isce/SLC\n",
      "/Users/jtarrico/sierra_isce/referenceShelve\n",
      "/Users/jtarrico/sierra_isce/igrams\n",
      "/Users/jtarrico/sierra_isce/download\n",
      "/Users/jtarrico/sierra_isce/DEM\n",
      "/Users/jtarrico/sierra_isce/baselines\n"
     ]
    }
   ],
   "source": [
    "# check folders were created\n",
    "for file in os.listdir(working_dir):\n",
    "    d = os.path.join(working_dir, file)\n",
    "    if os.path.isdir(d):\n",
    "        print(d)"
   ]
  },
  {
   "cell_type": "markdown",
   "id": "462c5e94-fbae-485d-9b6f-f7d0006e5d98",
   "metadata": {},
   "source": [
    "## Data Download"
   ]
  },
  {
   "cell_type": "markdown",
   "id": "c4294960-8134-4461-8959-e57b84c85f44",
   "metadata": {},
   "source": [
    "Data links can be found on the UAVSAR site [here](https://uavsar.jpl.nasa.gov/cgi-bin/product.pl?jobName=alamos_35915_01#data\"). In this case we'll be using SLCs from Feb 12th and 26th, both the LLH and LKV files, 1x1 pixel spacing, and just the HH polarization. By selecting these options, the site generates the list of ```wget``` download commands below."
   ]
  },
  {
   "cell_type": "markdown",
   "id": "c6b72f4b-5e57-4fef-a01b-1f490e20afcf",
   "metadata": {},
   "source": [
    " <p align=\"center\">\n",
    "  <img width=\"600\" src=\"imgs/uavsar_data_portal.png\">\n",
    "</p>     \n",
    "<p style=\"text-align: center;\">\n",
    "    (Data download screen)\n",
    "</p>"
   ]
  },
  {
   "cell_type": "markdown",
   "id": "54ab0711-60df-4c81-8454-816af618bac4",
   "metadata": {},
   "source": [
    "Here the links are formatted as a string and saved as an exeutable shell file (.sh). This can also be down outside of this notebook by copying the links directly from the UAVSAR data portal and saving into your local text editor."
   ]
  },
  {
   "cell_type": "code",
   "execution_count": 8,
   "id": "b53d4cdb-c04a-4a73-9890-aa5ab75be95b",
   "metadata": {},
   "outputs": [
    {
     "data": {
      "text/plain": [
       "'/Users/jtarrico/sierra_isce/download'"
      ]
     },
     "execution_count": 8,
     "metadata": {},
     "output_type": "execute_result"
    }
   ],
   "source": [
    "# nativate to download folder\n",
    "os.chdir(download_path)\n",
    "os.getcwd()"
   ]
  },
  {
   "cell_type": "code",
   "execution_count": 9,
   "id": "ec56f499-006d-46d1-964d-6e82e4e54db9",
   "metadata": {},
   "outputs": [],
   "source": [
    "# create .sh file from links\n",
    "\n",
    "links = ['wget https://downloaduav2.jpl.nasa.gov/Release30/sierra_17305_01/sierra_17305_01_BC.dop',\n",
    "'wget https://downloaduav2.jpl.nasa.gov/Release30/sierra_17305_01/sierra_17305_01_BC_s1_1x1.llh',\n",
    "'wget https://downloaduav2.jpl.nasa.gov/Release30/sierra_17305_01/sierra_17305_01_BC_s1_1x1.lkv',\n",
    "'wget https://downloaduav2.jpl.nasa.gov/Release30/sierra_17305_01/sierra_17305_01_BC_s2_1x1.llh',\n",
    "'wget https://downloaduav2.jpl.nasa.gov/Release30/sierra_17305_01/sierra_17305_01_BC_s2_1x1.lkv',\n",
    "'wget https://downloaduav2.jpl.nasa.gov/Release30/sierra_17305_01/sierra_17305_20002_001_200131_L090VV_01_BC.ann',\n",
    "'wget https://downloaduav2.jpl.nasa.gov/Release30/sierra_17305_01/sierra_17305_20006_002_200212_L090VV_01_BC.ann',\n",
    "'wget https://downloaduav2.jpl.nasa.gov/Release30/sierra_17305_01/sierra_17305_20009_023_200219_L090VV_01_BC.ann',\n",
    "'wget https://downloaduav2.jpl.nasa.gov/Release30/sierra_17305_01/sierra_17305_20016_005_200311_L090VV_01_BC.ann',\n",
    "'wget https://downloaduav2.jpl.nasa.gov/Release30/sierra_17305_01/sierra_17305_20014_000_200226_L090VV_01_BC.ann',\n",
    "'wget https://downloaduav2.jpl.nasa.gov/Release30/sierra_17305_01/sierra_17305_20002_001_200131_L090VV_01_BC_s1_1x1.slc',\n",
    "'wget https://downloaduav2.jpl.nasa.gov/Release30/sierra_17305_01/sierra_17305_20006_002_200212_L090VV_01_BC_s1_1x1.slc',\n",
    "'wget https://downloaduav2.jpl.nasa.gov/Release30/sierra_17305_01/sierra_17305_20009_023_200219_L090VV_01_BC_s1_1x1.slc',\n",
    "'wget https://downloaduav2.jpl.nasa.gov/Release30/sierra_17305_01/sierra_17305_20014_000_200226_L090VV_01_BC_s1_1x1.slc',\n",
    "'wget https://downloaduav2.jpl.nasa.gov/Release30/sierra_17305_01/sierra_17305_20016_005_200311_L090VV_01_BC_s1_1x1.slc',\n",
    "'wget https://downloaduav2.jpl.nasa.gov/Release30/sierra_17305_01/sierra_17305_20002_001_200131_L090VV_01_BC_s2_1x1.slc',\n",
    "'wget https://downloaduav2.jpl.nasa.gov/Release30/sierra_17305_01/sierra_17305_20006_002_200212_L090VV_01_BC_s2_1x1.slc',\n",
    "'wget https://downloaduav2.jpl.nasa.gov/Release30/sierra_17305_01/sierra_17305_20009_023_200219_L090VV_01_BC_s2_1x1.slc',\n",
    "'wget https://downloaduav2.jpl.nasa.gov/Release30/sierra_17305_01/sierra_17305_20014_000_200226_L090VV_01_BC_s2_1x1.slc',\n",
    "'wget https://downloaduav2.jpl.nasa.gov/Release30/sierra_17305_01/sierra_17305_20016_005_200311_L090VV_01_BC_s2_1x1.slc']\n",
    "\n",
    "with open('downloads.sh', 'w') as f:\n",
    "    for links in links:\n",
    "        f.write(links)\n",
    "        f.write('\\n')"
   ]
  },
  {
   "cell_type": "code",
   "execution_count": 10,
   "id": "a0e091e0-d34a-48df-9472-cc63ae6d1a2b",
   "metadata": {},
   "outputs": [],
   "source": [
    "# ! sh downloads.sh"
   ]
  },
  {
   "cell_type": "code",
   "execution_count": 11,
   "id": "44960d62-5339-4964-baf4-52813b667dd8",
   "metadata": {},
   "outputs": [
    {
     "name": "stdout",
     "output_type": "stream",
     "text": [
      "/Users/jtarrico/sierra_isce/download/sierra_17305_20009_023_200219_L090VV_01_BC.ann\n",
      "/Users/jtarrico/sierra_isce/download/sierra_17305_01_BC_s2_1x1.lkv\n",
      "/Users/jtarrico/sierra_isce/download/.DS_Store\n",
      "/Users/jtarrico/sierra_isce/download/sierra_17305_01_BC.dop\n",
      "/Users/jtarrico/sierra_isce/download/sierra_17305_20006_002_200212_L090VV_01_BC.ann\n",
      "/Users/jtarrico/sierra_isce/download/sierra_17305_01_BC_s1_1x1.lkv\n",
      "/Users/jtarrico/sierra_isce/download/sierra_17305_20014_000_200226_L090VV_01_BC.ann\n",
      "/Users/jtarrico/sierra_isce/download/sierra_17305_01_BC_s1_1x1.llh\n",
      "/Users/jtarrico/sierra_isce/download/sierra_17305_20016_005_200311_L090VV_01_BC.ann\n",
      "/Users/jtarrico/sierra_isce/download/sierra_17305_20002_001_200131_L090VV_01_BC.ann\n",
      "/Users/jtarrico/sierra_isce/download/sierra_17305_01_BC_s2_1x1.llh\n",
      "/Users/jtarrico/sierra_isce/download/downloads.sh\n"
     ]
    }
   ],
   "source": [
    "# list files downloaded\n",
    "for i in os.listdir(download_path):\n",
    "    file = os.path.join(download_path, i)\n",
    "    print(file)"
   ]
  },
  {
   "cell_type": "markdown",
   "id": "76f8b436-0bc3-40fe-8d8a-5b420bb620de",
   "metadata": {},
   "source": [
    "## Prepare SLC Stack"
   ]
  },
  {
   "cell_type": "code",
   "execution_count": 13,
   "id": "97996001-e236-4041-b06d-0170ff359f97",
   "metadata": {},
   "outputs": [
    {
     "data": {
      "text/plain": [
       "'/Users/jtarrico/sierra_isce'"
      ]
     },
     "execution_count": 13,
     "metadata": {},
     "output_type": "execute_result"
    }
   ],
   "source": [
    "# nativate to download folder\n",
    "os.chdir(working_dir)\n",
    "os.getcwd()"
   ]
  },
  {
   "cell_type": "code",
   "execution_count": 14,
   "id": "4977e685-88f9-454e-8f5d-a467526f9f65",
   "metadata": {},
   "outputs": [
    {
     "data": {
      "text/plain": [
       "'/Users/jtarrico/sierra_isce/sierra_17305_01_BC.dop'"
      ]
     },
     "execution_count": 14,
     "metadata": {},
     "output_type": "execute_result"
    }
   ],
   "source": [
    "# copy doppler file to working directory\n",
    "shutil.copy(\"/Users/jtarrico/sierra_isce/download/sierra_17305_01_BC.dop\", \n",
    "            \"/Users/jtarrico/sierra_isce/sierra_17305_01_BC.dop\")"
   ]
  },
  {
   "cell_type": "code",
   "execution_count": null,
   "id": "8f741aaa-d20a-43bc-98e8-810c418a13f6",
   "metadata": {},
   "outputs": [],
   "source": [
    "# check function inputs\n",
    "! prepareUAVSAR_coregStack_segmets.py -h"
   ]
  },
  {
   "cell_type": "markdown",
   "id": "fc840c61-78fd-4722-8644-49d1228a2389",
   "metadata": {},
   "source": [
    "In this case our -i flag will the the download folder, the -d flag will be the doppler file, -o will be the SLC directory."
   ]
  },
  {
   "cell_type": "code",
   "execution_count": null,
   "id": "5acc7c85-f62e-4073-a036-a8347cdc84e9",
   "metadata": {},
   "outputs": [],
   "source": [
    "! prepareUAVSAR_coregStack_segmets.py --input download/ --dop_file sierra_17305_01_BC.dop --output SLC --segment 1"
   ]
  },
  {
   "cell_type": "code",
   "execution_count": null,
   "id": "b7b03dec-293e-495a-92aa-23a80ccc61ce",
   "metadata": {},
   "outputs": [],
   "source": [
    "# segment 2\n",
    "! prepareUAVSAR_coregStack_segmets.py --input download/ --dop_file sierra_17305_01_BC.dop --output SLC --segment 2"
   ]
  },
  {
   "cell_type": "code",
   "execution_count": 15,
   "id": "5da723c6-e6e7-4f1c-98c8-b613d1ede2f0",
   "metadata": {
    "scrolled": true
   },
   "outputs": [
    {
     "name": "stdout",
     "output_type": "stream",
     "text": [
      "SLC/20200131T1903:\n",
      "data.db\n",
      "sierra_17305_20002_001_200131_L090VV_01_BC.ann\n",
      "sierra_17305_20002_001_200131_L090VV_01_BC_s1_1x1.slc\n",
      "sierra_17305_20002_001_200131_L090VV_01_BC_s1_1x1.slc.vrt\n",
      "sierra_17305_20002_001_200131_L090VV_01_BC_s1_1x1.slc.xml\n",
      "sierra_17305_20002_001_200131_L090VV_01_BC_s2_1x1.slc\n",
      "sierra_17305_20002_001_200131_L090VV_01_BC_s2_1x1.slc.vrt\n",
      "sierra_17305_20002_001_200131_L090VV_01_BC_s2_1x1.slc.xml\n",
      "\n",
      "SLC/20200212T2211:\n",
      "data.db\n",
      "sierra_17305_20006_002_200212_L090VV_01_BC.ann\n",
      "sierra_17305_20006_002_200212_L090VV_01_BC_s1_1x1.slc\n",
      "sierra_17305_20006_002_200212_L090VV_01_BC_s1_1x1.slc.vrt\n",
      "sierra_17305_20006_002_200212_L090VV_01_BC_s1_1x1.slc.xml\n",
      "sierra_17305_20006_002_200212_L090VV_01_BC_s2_1x1.slc\n",
      "sierra_17305_20006_002_200212_L090VV_01_BC_s2_1x1.slc.vrt\n",
      "sierra_17305_20006_002_200212_L090VV_01_BC_s2_1x1.slc.xml\n",
      "\n",
      "SLC/20200219T2208:\n",
      "data.db\n",
      "sierra_17305_20009_023_200219_L090VV_01_BC.ann\n",
      "sierra_17305_20009_023_200219_L090VV_01_BC_s1_1x1.slc\n",
      "sierra_17305_20009_023_200219_L090VV_01_BC_s1_1x1.slc.vrt\n",
      "sierra_17305_20009_023_200219_L090VV_01_BC_s1_1x1.slc.xml\n",
      "sierra_17305_20009_023_200219_L090VV_01_BC_s2_1x1.slc\n",
      "sierra_17305_20009_023_200219_L090VV_01_BC_s2_1x1.slc.vrt\n",
      "sierra_17305_20009_023_200219_L090VV_01_BC_s2_1x1.slc.xml\n",
      "\n",
      "SLC/20200226T2253:\n",
      "data.db\n",
      "sierra_17305_20014_000_200226_L090VV_01_BC.ann\n",
      "sierra_17305_20014_000_200226_L090VV_01_BC_s1_1x1.slc\n",
      "sierra_17305_20014_000_200226_L090VV_01_BC_s1_1x1.slc.vrt\n",
      "sierra_17305_20014_000_200226_L090VV_01_BC_s1_1x1.slc.xml\n",
      "sierra_17305_20014_000_200226_L090VV_01_BC_s2_1x1.slc\n",
      "sierra_17305_20014_000_200226_L090VV_01_BC_s2_1x1.slc.vrt\n",
      "sierra_17305_20014_000_200226_L090VV_01_BC_s2_1x1.slc.xml\n",
      "\n",
      "SLC/20200311T1852:\n",
      "data.db\n",
      "sierra_17305_20016_005_200311_L090VV_01_BC.ann\n",
      "sierra_17305_20016_005_200311_L090VV_01_BC_s1_1x1.slc\n",
      "sierra_17305_20016_005_200311_L090VV_01_BC_s1_1x1.slc.vrt\n",
      "sierra_17305_20016_005_200311_L090VV_01_BC_s1_1x1.slc.xml\n",
      "sierra_17305_20016_005_200311_L090VV_01_BC_s2_1x1.slc\n",
      "sierra_17305_20016_005_200311_L090VV_01_BC_s2_1x1.slc.vrt\n",
      "sierra_17305_20016_005_200311_L090VV_01_BC_s2_1x1.slc.xml\n"
     ]
    }
   ],
   "source": [
    "# list folders just created in slc path\n",
    "!ls SLC/*"
   ]
  },
  {
   "cell_type": "code",
   "execution_count": 16,
   "id": "8d7e4715-1a41-4090-8c47-87eae957e11f",
   "metadata": {},
   "outputs": [
    {
     "data": {
      "text/plain": [
       "'/Users/jtarrico/sierra_isce'"
      ]
     },
     "execution_count": 16,
     "metadata": {},
     "output_type": "execute_result"
    }
   ],
   "source": [
    "os.getcwd()"
   ]
  },
  {
   "cell_type": "code",
   "execution_count": 21,
   "id": "15698b72-4f90-49eb-8bd1-a8568b31412b",
   "metadata": {},
   "outputs": [
    {
     "name": "stdout",
     "output_type": "stream",
     "text": [
      "Driver: ISCE/ISCE raster\n",
      "Files: SLC/20200226T2253/sierra_17305_20014_000_200226_L090VV_01_BC_s2_1x1.slc\n",
      "       SLC/20200226T2253/sierra_17305_20014_000_200226_L090VV_01_BC_s2_1x1.slc.xml\n",
      "Size is 8874, 63032\n",
      "Coordinate System is:\n",
      "GEOGCRS[\"WGS 84\",\n",
      "    DATUM[\"World Geodetic System 1984\",\n",
      "        ELLIPSOID[\"WGS 84\",6378137,298.257223563,\n",
      "            LENGTHUNIT[\"metre\",1]]],\n",
      "    PRIMEM[\"Greenwich\",0,\n",
      "        ANGLEUNIT[\"degree\",0.0174532925199433]],\n",
      "    CS[ellipsoidal,2],\n",
      "        AXIS[\"geodetic latitude (Lat)\",north,\n",
      "            ORDER[1],\n",
      "            ANGLEUNIT[\"degree\",0.0174532925199433]],\n",
      "        AXIS[\"geodetic longitude (Lon)\",east,\n",
      "            ORDER[2],\n",
      "            ANGLEUNIT[\"degree\",0.0174532925199433]],\n",
      "    ID[\"EPSG\",4326]]\n",
      "Data axis to CRS axis mapping: 2,1\n",
      "Origin = (0.000000000000000,0.000000000000000)\n",
      "Pixel Size = (1.000000000000000,1.000000000000000)\n",
      "Corner Coordinates:\n",
      "Upper Left  (   0.0000000,   0.0000000) (  0d 0' 0.01\"E,  0d 0' 0.01\"N)\n",
      "Lower Left  (       0.000,   63032.000) (  0d 0' 0.01\"E,Invalid angle)\n",
      "Upper Right (    8874.000,       0.000) (Invalid angle,  0d 0' 0.01\"N)\n",
      "Lower Right (    8874.000,   63032.000) (Invalid angle,Invalid angle)\n",
      "Center      (    4437.000,   31516.000) (Invalid angle,Invalid angle)\n",
      "Band 1 Block=8874x1 Type=CFloat32, ColorInterp=Undefined\n"
     ]
    }
   ],
   "source": [
    "# using gdal info the check everything worked\n",
    "! gdalinfo SLC/20200226T2253/sierra_17305_20014_000_200226_L090VV_01_BC_s2_1x1.slc"
   ]
  },
  {
   "cell_type": "code",
   "execution_count": null,
   "id": "61bd9725-a72c-44ed-a2d0-8b44ac65dfff",
   "metadata": {},
   "outputs": [],
   "source": [
    "ds = gdal.Open(\"/Users/jtarrico/sierra_isce/SLC/20200226T2253/sierra_17305_20014_000_200226_L090VV_01_BC_s2_1x1.slc\", gdal.GA_ReadOnly)\n",
    "# extract a part of the SLC to display\n",
    "x0 = 0\n",
    "y0 = 0\n",
    "x_offset = 8874\n",
    "y_offset = 63032 \n",
    "slc = ds.GetRasterBand(1).ReadAsArray(x0, y0, x_offset, y_offset)\n",
    "ds = None\n",
    "\n",
    "fig = plt.figure(figsize=(14, 12))\n",
    "\n",
    "# display amplitude of the slc\n",
    "ax = fig.add_subplot(1,2,1)\n",
    "ax.imshow(np.abs(slc), vmin = 0, vmax=1, cmap='gray')\n",
    "ax.set_title(\"amplitude\")\n",
    "\n",
    "#display phase of the slc\n",
    "ax = fig.add_subplot(1,2,2)\n",
    "ax.imshow(np.angle(slc))\n",
    "ax.set_title(\"phase\")\n",
    "\n",
    "plt.show()\n",
    "\n",
    "slc = None"
   ]
  },
  {
   "cell_type": "markdown",
   "id": "18022e6d-3991-472e-90ec-42d3ce690b62",
   "metadata": {},
   "source": [
    "## Create Interferograms\n",
    "more info here....."
   ]
  },
  {
   "cell_type": "code",
   "execution_count": null,
   "id": "34f055ac-46e4-477e-a5e4-80585b3d0f2e",
   "metadata": {},
   "outputs": [],
   "source": [
    "! uavsar_crossmul.py -h "
   ]
  },
  {
   "cell_type": "code",
   "execution_count": null,
   "id": "92c95a53-d6e4-457a-a9c2-b058fea762d9",
   "metadata": {
    "scrolled": true
   },
   "outputs": [],
   "source": [
    "! uavsar_crossmul.py --slc_dir SLC/ --alks 1 --rlks 1 --num_connections 1 --outdir igrams "
   ]
  },
  {
   "cell_type": "code",
   "execution_count": null,
   "id": "05340fe8-3d49-477a-8dac-d6d574908ccb",
   "metadata": {},
   "outputs": [],
   "source": [
    "# print current directories\n",
    "! ls igrams/*/*"
   ]
  },
  {
   "cell_type": "code",
   "execution_count": null,
   "id": "8b2a2980-d7b8-4e6b-b44e-0095bf516ccc",
   "metadata": {},
   "outputs": [],
   "source": [
    "# plot amplitude and wrapped interferogram\n",
    "\n",
    "w_int = 'igrams/20200226T2253_20200311T1852/20200226T2253_20200311T1852.int'\n",
    "ds = gdal.Open(w_int, gdal.GA_ReadOnly)\n",
    "igram = ds.GetRasterBand(1).ReadAsArray()\n",
    "ds = None\n",
    "\n",
    "fig = plt.figure(figsize=(10, 14))\n",
    "\n",
    "ax = fig.add_subplot(1,2,1)\n",
    "ax.imshow(np.abs(igram), vmin = 0 , vmax = 8.0, cmap = 'gray')\n",
    "ax.set_title(\"Magnitude\")\n",
    "ax.set_axis_off()\n",
    "\n",
    "ax = fig.add_subplot(1,2,2)\n",
    "ax.imshow(np.angle(igram), cmap = 'jet', vmax = 3.14, vmin = -3.14)\n",
    "ax.set_title(\"Phase\")\n",
    "ax.set_axis_off()"
   ]
  },
  {
   "cell_type": "markdown",
   "id": "97a6d340-2b08-452b-9b0b-52213b06ae13",
   "metadata": {},
   "source": [
    "# Phase Unwrapping"
   ]
  },
  {
   "cell_type": "code",
   "execution_count": null,
   "id": "71c8813c-ff29-432a-b469-35f522aa5c53",
   "metadata": {},
   "outputs": [],
   "source": [
    "# create text file of date list\n",
    "## this doesn't work, had to fix manually\n",
    "! ls igrams/ | awk -F \"/\" '{print $1}' >> datelist.txt"
   ]
  },
  {
   "cell_type": "code",
   "execution_count": null,
   "id": "f48e59e8-3fb1-4763-a71d-659e43529991",
   "metadata": {},
   "outputs": [],
   "source": [
    "# print contents of that file\n",
    "with open('datelist.txt') as f:\n",
    "    lines = f.readlines()\n",
    "    print(lines)"
   ]
  },
  {
   "cell_type": "code",
   "execution_count": null,
   "id": "c1a0fb0d-0a24-4062-a2bf-2b44016e1c0f",
   "metadata": {},
   "outputs": [],
   "source": [
    "! unwrap.py -h"
   ]
  },
  {
   "cell_type": "code",
   "execution_count": null,
   "id": "95b3a077-5c64-4942-be2e-8845dab13cc0",
   "metadata": {},
   "outputs": [],
   "source": [
    "# run snaphu, this will take a while\n",
    "! awk -F \"_\" '{print \"unwrap.py -i igrams/\"$1\"_\"$2\"/\"$1\"_\"$2\".int -u igrams/\"$1\"_\"$2\"/\"$1\"_\"$2\".unw -c igrams/\"$1\"_\"$2\"/\"$1\"_\"$2\".coh -a 12 -r 3 -s SLC/\"$1\"/ -m snaphu\"}' datelist.txt >> unwall.sh"
   ]
  },
  {
   "cell_type": "code",
   "execution_count": null,
   "id": "751c5a8a-1782-47ff-ae35-6a35e5b09317",
   "metadata": {},
   "outputs": [],
   "source": [
    "! sh unwall.sh"
   ]
  },
  {
   "cell_type": "code",
   "execution_count": null,
   "id": "258c639f-1d22-4253-a22a-9a92fef83459",
   "metadata": {
    "scrolled": true
   },
   "outputs": [],
   "source": [
    "# list files generated in unwrapping process\n",
    "!ls igrams/*/*"
   ]
  },
  {
   "cell_type": "code",
   "execution_count": null,
   "id": "5dc46674-5b62-4175-9d87-b3cf4667c89c",
   "metadata": {},
   "outputs": [],
   "source": [
    "# plot\n",
    "\n",
    "# reading the multi-looked wrapped interferogram\n",
    "ds = gdal.Open(\"igrams/20200226T2253_20200311T1852/20200226T2253_20200311T1852.int\", gdal.GA_ReadOnly)\n",
    "igram = ds.GetRasterBand(1).ReadAsArray()\n",
    "ds = None\n",
    "\n",
    "# reading the multi-looked unwrapped interferogram\n",
    "ds = gdal.Open(\"igrams/20200226T2253_20200311T1852/20200226T2253_20200311T1852.unw_snaphu.unw\", gdal.GA_ReadOnly)\n",
    "igram_unw = ds.GetRasterBand(2).ReadAsArray()\n",
    "ds = None\n",
    "\n",
    "# reading the connected component file\n",
    "ds = gdal.Open(\"igrams/20200226T2253_20200311T1852/20200226T2253_20200311T1852.unw_snaphu.unw.conncomp\", gdal.GA_ReadOnly)\n",
    "connected_components = ds.GetRasterBand(1).ReadAsArray()\n",
    "ds = None\n",
    "\n",
    "fig = plt.figure(figsize=(18, 16))\n",
    "\n",
    "ax = fig.add_subplot(1,3,1)\n",
    "cax=ax.imshow(np.angle(igram), cmap='jet')\n",
    "ax.set_title(\"wrapped\")\n",
    "#ax.set_axis_off()\n",
    "cbar = fig.colorbar(cax, ticks=[-3.14,0,3.14],orientation='horizontal')\n",
    "cbar.ax.set_xticklabels([\"$-\\pi$\",0,\"$\\pi$\"])\n",
    "\n",
    "ax = fig.add_subplot(1,3,2)\n",
    "cax = ax.imshow(igram_unw, vmin = 0, vmax = 7, cmap = 'jet')\n",
    "ax.set_title(\"unwrapped\")\n",
    "ax.set_axis_off()\n",
    "cbar = fig.colorbar(cax, ticks=[0,3.5,7], orientation='horizontal')\n",
    "\n",
    "\n",
    "ax = fig.add_subplot(1,3,3)\n",
    "cax = ax.imshow(connected_components, cmap = 'jet')\n",
    "ax.set_title(\"components\")\n",
    "ax.set_axis_off()\n",
    "cbar = fig.colorbar(cax, ticks=[0,21] , orientation='horizontal')\n",
    "cbar.ax.set_xticklabels([0,21])\n",
    "\n",
    "\n",
    "connected_components = None"
   ]
  },
  {
   "cell_type": "code",
   "execution_count": null,
   "id": "b7d654f9-d483-46ce-ba9c-db44b708fc42",
   "metadata": {},
   "outputs": [],
   "source": []
  }
 ],
 "metadata": {
  "kernelspec": {
   "display_name": "Python 3 (ipykernel)",
   "language": "python",
   "name": "python3"
  },
  "language_info": {
   "codemirror_mode": {
    "name": "ipython",
    "version": 3
   },
   "file_extension": ".py",
   "mimetype": "text/x-python",
   "name": "python",
   "nbconvert_exporter": "python",
   "pygments_lexer": "ipython3",
   "version": "3.9.18"
  }
 },
 "nbformat": 4,
 "nbformat_minor": 5
}
