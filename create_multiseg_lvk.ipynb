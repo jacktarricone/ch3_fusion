{
 "cells": [
  {
   "cell_type": "code",
   "execution_count": 1,
   "id": "c2a54c21-eea3-46f5-b0bb-191c5e14d103",
   "metadata": {},
   "outputs": [
    {
     "name": "stdout",
     "output_type": "stream",
     "text": [
      "2024-03-15 12:02:14,443 - rasterio.session - DEBUG - Could not import boto3, continuing with reduced functionality.\n"
     ]
    },
    {
     "name": "stderr",
     "output_type": "stream",
     "text": [
      "/Users/jtarrico/miniconda/envs/isce2_env/lib/python3.9/site-packages/tqdm/auto.py:21: TqdmWarning: IProgress not found. Please update jupyter and ipywidgets. See https://ipywidgets.readthedocs.io/en/stable/user_install.html\n",
      "  from .autonotebook import tqdm as notebook_tqdm\n",
      "/Users/jtarrico/miniconda/envs/isce2_env/lib/python3.9/site-packages/scipy/__init__.py:155: UserWarning: A NumPy version >=1.18.5 and <1.25.0 is required for this version of SciPy (detected version 1.26.0\n",
      "  warnings.warn(f\"A NumPy version >={np_minversion} and <{np_maxversion}\"\n"
     ]
    }
   ],
   "source": [
    "%matplotlib inline\n",
    "import isce\n",
    "import os\n",
    "import glob\n",
    "import numpy as np\n",
    "import shutil\n",
    "from osgeo import gdal\n",
    "import matplotlib.pyplot as plt\n",
    "import rasterio as rio\n",
    "from rasterio.plot import show # plotting raster data\n",
    "from rasterio.plot import show_hist #histograms of raster data\n",
    "from uavsar_pytools.georeference import geolocate_uavsar\n",
    "from pathlib import Path\n",
    "from glob import glob\n",
    "from uavsar_pytools.convert.tiff_conversion import read_annotation, array_to_tiff\n",
    "from os.path import join, basename, dirname\n",
    "from rasterio.vrt import WarpedVRT\n",
    "from osgeo import gdal, osr"
   ]
  },
  {
   "cell_type": "code",
   "execution_count": 9,
   "id": "e3b090bf-8350-4a2e-8fbb-b8c3473ee0e2",
   "metadata": {},
   "outputs": [],
   "source": [
    "### still need to hand format unw vrt files...."
   ]
  },
  {
   "cell_type": "code",
   "execution_count": 14,
   "id": "bbc7826f-1536-4749-a8a6-d99a7ec2d4e8",
   "metadata": {},
   "outputs": [],
   "source": [
    "# combine lkv files\n",
    "def combo_lkvs(data_dir: Path, ann_fp: Path):\n",
    "    \"\"\"\n",
    "    Combines segment .lkv files into a single combined .lkv file and saves as a binary with .vrt.\n",
    "    \"\"\"\n",
    "    assert data_dir.exists()\n",
    "\n",
    "    re_lkvs = {'east':[], 'north': [], 'up':[]}\n",
    "    for lkvs in sorted(data_dir.glob('*.lkv')):\n",
    "        segment = lkvs.stem.split('_')[-2].replace('s','')\n",
    "\n",
    "        data = np.fromfile(lkvs, np.dtype('<f'))\n",
    "        east, north, up = data[::3], data[1::3], data[2::3]\n",
    "        for key, da in zip(re_lkvs.keys(), [east, north, up]):\n",
    "            re_lkvs[key].extend(da)\n",
    "                               \n",
    "    full = np.empty(len(re_lkvs['east'])*3, dtype='>f')\n",
    "    full[0::3] = re_lkvs['east']\n",
    "    full[1::3] = re_lkvs['north']\n",
    "    full[2::3] = re_lkvs['up']\n",
    "\n",
    "    # read ann file\n",
    "    desc = read_annotation(ann_fp)\n",
    "    print('reading .ann file')\n",
    "\n",
    "    # read in number of rows from each lvk file\n",
    "    nrows1 = desc[f'lkv_1_2x8.set_rows']['value']\n",
    "    nrows2 = desc[f'lkv_2_2x8.set_rows']['value']\n",
    "\n",
    "    # add rows for new reshaping number\n",
    "    nrows_new = nrows1 + nrows2\n",
    "    print('new number of rows = ',nrows_new)\n",
    "    \n",
    "    # read in cols, same fo rboth\n",
    "    ncols = desc[f'lkv_1_2x8.set_cols']['value']\n",
    "    dt = np.dtype('<f')\n",
    "\n",
    "    # create empty arrays for lat and lon\n",
    "    east_array = np.empty((nrows_new, ncols))\n",
    "    north_array = np.empty((nrows_new, ncols))\n",
    "    up_array = np.empty((nrows_new, ncols))\n",
    "    \n",
    "    \n",
    "    # fill each layer\n",
    "    east_array = full[::3].reshape(nrows_new, ncols)\n",
    "    north_array = full[1::3].reshape(nrows_new, ncols)\n",
    "    up_array = full[2::3].reshape(nrows_new, ncols)\n",
    "\n",
    "    # define path to bin file\n",
    "    east_output_file = data_dir / \"multi_seg.east\"\n",
    "    north_output_file = data_dir / \"multi_seg.north\"\n",
    "    up_output_file = data_dir / \"multi_seg.up\"\n",
    "\n",
    "\n",
    "    #### Save the array to bin file\n",
    "    # east\n",
    "    east_array.tofile(east_output_file)\n",
    "    print('.east saved')\n",
    "    \n",
    "    # north\n",
    "    north_array.tofile(north_output_file)\n",
    "    print('.north saved')\n",
    "\n",
    "    # up\n",
    "    up_array.tofile(up_output_file)\n",
    "    print('.up saved')\n",
    "\n",
    "    profile = {\n",
    "    'driver': 'GTiff',\n",
    "    'interleave': 'band',\n",
    "    'tiled': False,\n",
    "    'nodata': 0,\n",
    "    'width': ncols,\n",
    "    'height':nrows_new,\n",
    "    'count':1,\n",
    "    'dtype':'float32'\n",
    "    }\n",
    "    \n",
    "    ### Save out tifs to be converted to vrt\n",
    "    # east\n",
    "    with rio.open(join(str(east_output_file) + '.tif'), 'w', **profile) as dst:\n",
    "                dst.write(east_array.astype(east_array.dtype), 1)\n",
    "        \n",
    "    # north\n",
    "    with rio.open(join(str(north_output_file) + '.tif'), 'w', **profile) as dst:\n",
    "                dst.write(north_array.astype(north_array.dtype), 1)\n",
    "    # north\n",
    "    with rio.open(join(str(up_output_file) + '.tif'), 'w', **profile) as dst:\n",
    "                dst.write(up_array.astype(up_array.dtype), 1)\n",
    "\n",
    "    # Add VRT file for each tif\n",
    "    tifs = glob(join(data_dir, '*.tif')) # list all .lvk files\n",
    "    for tiff in tifs: # loop to open and translate .lvk to .vrt, and save .vrt using gdal\n",
    "        raster_dataset = gdal.Open(tiff, gdal.GA_ReadOnly) # read in rasters\n",
    "        raster = gdal.Translate(join(data_dir, basename(tiff).replace('.tif','.vrt')), raster_dataset, format = 'VRT', outputType = gdal.GDT_Float32)\n",
    "    raster_dataset = None\n",
    "\n",
    "    print('new .east, .north, and .up with .vrt have saved')"
   ]
  },
  {
   "cell_type": "code",
   "execution_count": 15,
   "id": "2153843c-bc98-4765-ae4c-cd5c439977dc",
   "metadata": {},
   "outputs": [],
   "source": [
    "# start in downloads directory\n",
    "os.chdir('/Users/jtarrico/ch3_fusion/rasters/')"
   ]
  },
  {
   "cell_type": "code",
   "execution_count": 16,
   "id": "e12c877f-e328-48c6-afcf-b89b0f663294",
   "metadata": {},
   "outputs": [],
   "source": [
    "dir1 = Path('./cop_dem_30m/')\n",
    "ann1 = Path('./cop_dem_30m/sierra_17305_20002_001_200131_L090HH_01_BC.ann')"
   ]
  },
  {
   "cell_type": "code",
   "execution_count": 17,
   "id": "1d75f277-319d-4565-95a7-9fa59c5e3fda",
   "metadata": {},
   "outputs": [
    {
     "name": "stdout",
     "output_type": "stream",
     "text": [
      "reading .ann file\n",
      "new number of rows =  16212\n",
      ".east saved\n",
      ".north saved\n",
      ".up saved\n",
      "2024-03-15 12:16:31,481 - rasterio.env - DEBUG - Entering env context: <rasterio.env.Env object at 0x1a6c34700>\n",
      "2024-03-15 12:16:31,483 - rasterio.env - DEBUG - Starting outermost env\n",
      "2024-03-15 12:16:31,484 - rasterio.env - DEBUG - No GDAL environment exists\n",
      "2024-03-15 12:16:31,485 - rasterio.env - DEBUG - New GDAL environment <rasterio._env.GDALEnv object at 0x1a6fc3c40> created\n",
      "2024-03-15 12:16:31,488 - rasterio._filepath - DEBUG - Installing FilePath filesystem handler plugin...\n",
      "2024-03-15 12:16:31,489 - rasterio._env - DEBUG - GDAL_DATA found in environment.\n",
      "2024-03-15 12:16:31,490 - rasterio._env - DEBUG - PROJ_DATA found in environment.\n",
      "2024-03-15 12:16:31,492 - rasterio._env - DEBUG - Started GDALEnv: self=<rasterio._env.GDALEnv object at 0x1a6fc3c40>.\n",
      "2024-03-15 12:16:31,493 - rasterio.env - DEBUG - Entered env context: <rasterio.env.Env object at 0x1a6c34700>\n",
      "2024-03-15 12:16:31,495 - rasterio._io - DEBUG - Path: _UnparsedPath(path='cop_dem_30m/multi_seg.east.tif'), mode: w, driver: GTiff\n",
      "2024-03-15 12:16:31,503 - rasterio._io - DEBUG - Skipped delete for overwrite, dataset does not exist: 'cop_dem_30m/multi_seg.east.tif'\n",
      "2024-03-15 12:16:31,512 - rasterio._base - DEBUG - Nodata success: 1, Nodata value: 0.000000\n",
      "2024-03-15 12:16:31,514 - rasterio.env - DEBUG - Exiting env context: <rasterio.env.Env object at 0x1a6c34700>\n",
      "2024-03-15 12:16:31,515 - rasterio.env - DEBUG - Cleared existing <rasterio._env.GDALEnv object at 0x1a6fc3c40> options\n",
      "2024-03-15 12:16:31,516 - rasterio._env - DEBUG - Stopped GDALEnv <rasterio._env.GDALEnv object at 0x1a6fc3c40>.\n",
      "2024-03-15 12:16:31,518 - rasterio.env - DEBUG - Exiting outermost env\n",
      "2024-03-15 12:16:31,519 - rasterio.env - DEBUG - Exited env context: <rasterio.env.Env object at 0x1a6c34700>\n",
      "2024-03-15 12:16:31,520 - rasterio.env - DEBUG - Entering env context: <rasterio.env.Env object at 0x19ef42430>\n",
      "2024-03-15 12:16:31,521 - rasterio.env - DEBUG - Starting outermost env\n",
      "2024-03-15 12:16:31,522 - rasterio.env - DEBUG - No GDAL environment exists\n",
      "2024-03-15 12:16:31,523 - rasterio.env - DEBUG - New GDAL environment <rasterio._env.GDALEnv object at 0x1a6e8c7c0> created\n",
      "2024-03-15 12:16:31,525 - rasterio._env - DEBUG - GDAL_DATA found in environment.\n",
      "2024-03-15 12:16:31,526 - rasterio._env - DEBUG - PROJ_DATA found in environment.\n",
      "2024-03-15 12:16:31,527 - rasterio._env - DEBUG - Started GDALEnv: self=<rasterio._env.GDALEnv object at 0x1a6e8c7c0>.\n",
      "2024-03-15 12:16:31,530 - rasterio.env - DEBUG - Entered env context: <rasterio.env.Env object at 0x19ef42430>\n"
     ]
    },
    {
     "name": "stderr",
     "output_type": "stream",
     "text": [
      "/Users/jtarrico/miniconda/envs/isce2_env/lib/python3.9/site-packages/rasterio/__init__.py:314: NotGeoreferencedWarning: Dataset has no geotransform, gcps, or rpcs. The identity matrix will be returned.\n",
      "  dataset = writer(\n"
     ]
    },
    {
     "name": "stdout",
     "output_type": "stream",
     "text": [
      "2024-03-15 12:16:32,742 - rasterio.env - DEBUG - Exiting env context: <rasterio.env.Env object at 0x19ef42430>\n",
      "2024-03-15 12:16:32,743 - rasterio.env - DEBUG - Cleared existing <rasterio._env.GDALEnv object at 0x1a6e8c7c0> options\n",
      "2024-03-15 12:16:32,745 - rasterio._env - DEBUG - Stopped GDALEnv <rasterio._env.GDALEnv object at 0x1a6e8c7c0>.\n",
      "2024-03-15 12:16:32,746 - rasterio.env - DEBUG - Exiting outermost env\n",
      "2024-03-15 12:16:32,747 - rasterio.env - DEBUG - Exited env context: <rasterio.env.Env object at 0x19ef42430>\n",
      "2024-03-15 12:16:32,748 - rasterio.env - DEBUG - Entering env context: <rasterio.env.Env object at 0x1a47ad100>\n",
      "2024-03-15 12:16:32,750 - rasterio.env - DEBUG - Starting outermost env\n",
      "2024-03-15 12:16:32,750 - rasterio.env - DEBUG - No GDAL environment exists\n",
      "2024-03-15 12:16:32,752 - rasterio.env - DEBUG - New GDAL environment <rasterio._env.GDALEnv object at 0x1a6c34700> created\n",
      "2024-03-15 12:16:32,753 - rasterio._env - DEBUG - GDAL_DATA found in environment.\n",
      "2024-03-15 12:16:32,754 - rasterio._env - DEBUG - PROJ_DATA found in environment.\n",
      "2024-03-15 12:16:32,756 - rasterio._env - DEBUG - Started GDALEnv: self=<rasterio._env.GDALEnv object at 0x1a6c34700>.\n",
      "2024-03-15 12:16:32,757 - rasterio.env - DEBUG - Entered env context: <rasterio.env.Env object at 0x1a47ad100>\n",
      "2024-03-15 12:16:32,758 - rasterio._io - DEBUG - Path: _UnparsedPath(path='cop_dem_30m/multi_seg.north.tif'), mode: w, driver: GTiff\n",
      "2024-03-15 12:16:32,760 - rasterio._io - DEBUG - Skipped delete for overwrite, dataset does not exist: 'cop_dem_30m/multi_seg.north.tif'\n",
      "2024-03-15 12:16:32,761 - rasterio._base - DEBUG - Nodata success: 1, Nodata value: 0.000000\n",
      "2024-03-15 12:16:32,763 - rasterio.env - DEBUG - Exiting env context: <rasterio.env.Env object at 0x1a47ad100>\n",
      "2024-03-15 12:16:32,764 - rasterio.env - DEBUG - Cleared existing <rasterio._env.GDALEnv object at 0x1a6c34700> options\n",
      "2024-03-15 12:16:32,766 - rasterio._env - DEBUG - Stopped GDALEnv <rasterio._env.GDALEnv object at 0x1a6c34700>.\n",
      "2024-03-15 12:16:32,768 - rasterio.env - DEBUG - Exiting outermost env\n",
      "2024-03-15 12:16:32,769 - rasterio.env - DEBUG - Exited env context: <rasterio.env.Env object at 0x1a47ad100>\n",
      "2024-03-15 12:16:32,770 - rasterio.env - DEBUG - Entering env context: <rasterio.env.Env object at 0x1a6fc3c40>\n",
      "2024-03-15 12:16:32,773 - rasterio.env - DEBUG - Starting outermost env\n",
      "2024-03-15 12:16:32,774 - rasterio.env - DEBUG - No GDAL environment exists\n",
      "2024-03-15 12:16:32,775 - rasterio.env - DEBUG - New GDAL environment <rasterio._env.GDALEnv object at 0x1a6c34700> created\n",
      "2024-03-15 12:16:32,777 - rasterio._env - DEBUG - GDAL_DATA found in environment.\n",
      "2024-03-15 12:16:32,778 - rasterio._env - DEBUG - PROJ_DATA found in environment.\n",
      "2024-03-15 12:16:32,781 - rasterio._env - DEBUG - Started GDALEnv: self=<rasterio._env.GDALEnv object at 0x1a6c34700>.\n",
      "2024-03-15 12:16:32,783 - rasterio.env - DEBUG - Entered env context: <rasterio.env.Env object at 0x1a6fc3c40>\n",
      "2024-03-15 12:16:33,767 - rasterio.env - DEBUG - Exiting env context: <rasterio.env.Env object at 0x1a6fc3c40>\n",
      "2024-03-15 12:16:33,769 - rasterio.env - DEBUG - Cleared existing <rasterio._env.GDALEnv object at 0x1a6c34700> options\n",
      "2024-03-15 12:16:33,772 - rasterio._env - DEBUG - Stopped GDALEnv <rasterio._env.GDALEnv object at 0x1a6c34700>.\n",
      "2024-03-15 12:16:33,774 - rasterio.env - DEBUG - Exiting outermost env\n",
      "2024-03-15 12:16:33,776 - rasterio.env - DEBUG - Exited env context: <rasterio.env.Env object at 0x1a6fc3c40>\n",
      "2024-03-15 12:16:33,779 - rasterio.env - DEBUG - Entering env context: <rasterio.env.Env object at 0x19ef42430>\n",
      "2024-03-15 12:16:33,781 - rasterio.env - DEBUG - Starting outermost env\n",
      "2024-03-15 12:16:33,783 - rasterio.env - DEBUG - No GDAL environment exists\n",
      "2024-03-15 12:16:33,786 - rasterio.env - DEBUG - New GDAL environment <rasterio._env.GDALEnv object at 0x1a47ad100> created\n",
      "2024-03-15 12:16:33,789 - rasterio._env - DEBUG - GDAL_DATA found in environment.\n",
      "2024-03-15 12:16:33,792 - rasterio._env - DEBUG - PROJ_DATA found in environment.\n",
      "2024-03-15 12:16:33,795 - rasterio._env - DEBUG - Started GDALEnv: self=<rasterio._env.GDALEnv object at 0x1a47ad100>.\n",
      "2024-03-15 12:16:33,797 - rasterio.env - DEBUG - Entered env context: <rasterio.env.Env object at 0x19ef42430>\n",
      "2024-03-15 12:16:33,799 - rasterio._io - DEBUG - Path: _UnparsedPath(path='cop_dem_30m/multi_seg.up.tif'), mode: w, driver: GTiff\n",
      "2024-03-15 12:16:33,803 - rasterio._io - DEBUG - Skipped delete for overwrite, dataset does not exist: 'cop_dem_30m/multi_seg.up.tif'\n",
      "2024-03-15 12:16:33,806 - rasterio._base - DEBUG - Nodata success: 1, Nodata value: 0.000000\n",
      "2024-03-15 12:16:33,809 - rasterio.env - DEBUG - Exiting env context: <rasterio.env.Env object at 0x19ef42430>\n",
      "2024-03-15 12:16:33,811 - rasterio.env - DEBUG - Cleared existing <rasterio._env.GDALEnv object at 0x1a47ad100> options\n",
      "2024-03-15 12:16:33,813 - rasterio._env - DEBUG - Stopped GDALEnv <rasterio._env.GDALEnv object at 0x1a47ad100>.\n",
      "2024-03-15 12:16:33,815 - rasterio.env - DEBUG - Exiting outermost env\n",
      "2024-03-15 12:16:33,818 - rasterio.env - DEBUG - Exited env context: <rasterio.env.Env object at 0x19ef42430>\n",
      "2024-03-15 12:16:33,821 - rasterio.env - DEBUG - Entering env context: <rasterio.env.Env object at 0x1a6e8c7c0>\n",
      "2024-03-15 12:16:33,824 - rasterio.env - DEBUG - Starting outermost env\n",
      "2024-03-15 12:16:33,827 - rasterio.env - DEBUG - No GDAL environment exists\n",
      "2024-03-15 12:16:33,828 - rasterio.env - DEBUG - New GDAL environment <rasterio._env.GDALEnv object at 0x1a47ad100> created\n",
      "2024-03-15 12:16:33,832 - rasterio._env - DEBUG - GDAL_DATA found in environment.\n",
      "2024-03-15 12:16:33,834 - rasterio._env - DEBUG - PROJ_DATA found in environment.\n",
      "2024-03-15 12:16:33,836 - rasterio._env - DEBUG - Started GDALEnv: self=<rasterio._env.GDALEnv object at 0x1a47ad100>.\n",
      "2024-03-15 12:16:33,838 - rasterio.env - DEBUG - Entered env context: <rasterio.env.Env object at 0x1a6e8c7c0>\n",
      "2024-03-15 12:16:34,699 - rasterio.env - DEBUG - Exiting env context: <rasterio.env.Env object at 0x1a6e8c7c0>\n",
      "2024-03-15 12:16:34,701 - rasterio.env - DEBUG - Cleared existing <rasterio._env.GDALEnv object at 0x1a47ad100> options\n",
      "2024-03-15 12:16:34,703 - rasterio._env - DEBUG - Stopped GDALEnv <rasterio._env.GDALEnv object at 0x1a47ad100>.\n",
      "2024-03-15 12:16:34,705 - rasterio.env - DEBUG - Exiting outermost env\n",
      "2024-03-15 12:16:34,707 - rasterio.env - DEBUG - Exited env context: <rasterio.env.Env object at 0x1a6e8c7c0>\n",
      "new .east, .north, and .up with .vrt have saved\n"
     ]
    }
   ],
   "source": [
    "full1 = combo_lkvs(data_dir = dir1, ann_fp = ann1)"
   ]
  },
  {
   "cell_type": "code",
   "execution_count": null,
   "id": "ba885c66-3089-4fd8-a43d-4d4102c182e5",
   "metadata": {},
   "outputs": [],
   "source": []
  },
  {
   "cell_type": "code",
   "execution_count": null,
   "id": "e6d6fb72-9df7-4a4c-99a6-70c39d0eda49",
   "metadata": {},
   "outputs": [],
   "source": []
  },
  {
   "cell_type": "code",
   "execution_count": null,
   "id": "c1fdec5f-4d13-4620-9520-76e576519fda",
   "metadata": {},
   "outputs": [],
   "source": []
  },
  {
   "cell_type": "code",
   "execution_count": null,
   "id": "ee2c370d-05e7-4e42-9fbd-0c4c8dfb7195",
   "metadata": {},
   "outputs": [],
   "source": []
  },
  {
   "cell_type": "code",
   "execution_count": null,
   "id": "e8e5ce6e-82d3-499e-b805-6406f73c5728",
   "metadata": {},
   "outputs": [],
   "source": []
  },
  {
   "cell_type": "code",
   "execution_count": null,
   "id": "73d83189-4391-4c76-b8d4-1c6c2cdaa54e",
   "metadata": {},
   "outputs": [],
   "source": []
  },
  {
   "cell_type": "code",
   "execution_count": null,
   "id": "d58da64f-5b1d-41b5-947e-20840552e1af",
   "metadata": {},
   "outputs": [],
   "source": []
  },
  {
   "cell_type": "markdown",
   "id": "f004eb35-1937-4588-a0f1-cfb4329a716c",
   "metadata": {},
   "source": [
    "# p1"
   ]
  },
  {
   "cell_type": "code",
   "execution_count": 34,
   "id": "4f10c642-21d6-467c-ba98-7a1fdea9f71d",
   "metadata": {},
   "outputs": [],
   "source": [
    "# path to your unw.vrt\n",
    "in_fp = 'int/20200131T1903_20200212T2211/20200131T1903_20200212T2211.unw_snaphu.unw.vrt'\n",
    "\n",
    "# path to annotation file\n",
    "lat_fp = 'int/new_llh/multi_seg.lat.vrt'\n",
    "\n",
    "# path to annotation file\n",
    "lon_fp = 'int/new_llh/multi_seg.lon.vrt'\n",
    "\n",
    "# where the .tif is being save\n",
    "out_fp = '/Users/jtarrico/sierra_isce_multi/insar_geocoded/p1/p1_14d_VV_unw.tif'"
   ]
  },
  {
   "cell_type": "code",
   "execution_count": null,
   "id": "ebe513cf-3cb3-4ef0-b47a-682cd1f57c49",
   "metadata": {},
   "outputs": [],
   "source": []
  },
  {
   "cell_type": "code",
   "execution_count": null,
   "id": "d8a6f487-b22d-4ec0-838f-ceb7bd28cbd0",
   "metadata": {},
   "outputs": [],
   "source": []
  },
  {
   "cell_type": "code",
   "execution_count": null,
   "id": "3213b195-55c9-4027-b220-e69321cbc835",
   "metadata": {},
   "outputs": [],
   "source": []
  },
  {
   "cell_type": "code",
   "execution_count": 35,
   "id": "8979f1e2-8bce-4d9a-87bd-2c1fd0f1df7a",
   "metadata": {},
   "outputs": [
    {
     "name": "stdout",
     "output_type": "stream",
     "text": [
      "geocoding...\n",
      "done!\n"
     ]
    }
   ],
   "source": [
    "# p1 unw\n",
    "geocodeUsingGdalWarp(infile = in_fp,\n",
    "                     latfile = lat_fp, \n",
    "                     lonfile = lon_fp, \n",
    "                     outfile = out_fp,\n",
    "                     insrs=4326, outsrs=None,spacing=[.00005556,.00005556], fmt='GTiff', bounds=None,method='near')"
   ]
  },
  {
   "cell_type": "code",
   "execution_count": 13,
   "id": "ce986829-136d-43af-8fdd-eb1aa4da6423",
   "metadata": {},
   "outputs": [],
   "source": [
    "# p1 concomp\n",
    "in_fp = 'int/20200131T1903_20200212T2211/20200131T1903_20200212T2211.unw_snaphu.unw.conncomp'\n",
    "\n",
    "# path to annotation file\n",
    "lat_fp = 'int/new_llh/multi_seg.lat.vrt'\n",
    "\n",
    "# path to annotation file\n",
    "lon_fp = 'int/new_llh/multi_seg.lon.vrt'\n",
    "\n",
    "# where the .tif is being save\n",
    "out_fp = '/Users/jtarrico/sierra_isce_multi/insar_geocoded/p1/p1_14d_VV_conncomp.tif'"
   ]
  },
  {
   "cell_type": "code",
   "execution_count": 14,
   "id": "97479717-87bd-4676-965d-9de3f38bbb49",
   "metadata": {},
   "outputs": [
    {
     "name": "stdout",
     "output_type": "stream",
     "text": [
      "geocoding...\n"
     ]
    },
    {
     "name": "stderr",
     "output_type": "stream",
     "text": [
      "Warning 1: for band 1, destination nodata value has been clamped to 0, the original value being out of range.\n"
     ]
    },
    {
     "name": "stdout",
     "output_type": "stream",
     "text": [
      "done!\n"
     ]
    }
   ],
   "source": [
    "geocodeUsingGdalWarp(infile = in_fp,\n",
    "                     latfile = lat_fp, \n",
    "                     lonfile = lon_fp, \n",
    "                     outfile = out_fp,\n",
    "                     insrs=4326, outsrs=None,spacing=[.00005556,.00005556], fmt='GTiff', bounds=None,method='near')"
   ]
  },
  {
   "cell_type": "code",
   "execution_count": 15,
   "id": "d9afa271-e324-4289-9a8a-36f2fa4a4cff",
   "metadata": {},
   "outputs": [],
   "source": [
    "# p1 coh\n",
    "in_fp = 'int/20200131T1903_20200212T2211/20200131T1903_20200212T2211.coh'\n",
    "\n",
    "# path to annotation file\n",
    "lat_fp = 'int/new_llh/multi_seg.lat.vrt'\n",
    "\n",
    "# path to annotation file\n",
    "lon_fp = 'int/new_llh/multi_seg.lon.vrt'\n",
    "\n",
    "# where the .tif is being save\n",
    "out_fp = '/Users/jtarrico/sierra_isce_multi/insar_geocoded/p1/p1_14d_VV_coh.tif'"
   ]
  },
  {
   "cell_type": "code",
   "execution_count": 16,
   "id": "d723bad0-7489-41c0-9cc4-e7c50ebde859",
   "metadata": {},
   "outputs": [
    {
     "name": "stdout",
     "output_type": "stream",
     "text": [
      "geocoding...\n",
      "done!\n"
     ]
    }
   ],
   "source": [
    "geocodeUsingGdalWarp(infile = in_fp,\n",
    "                     latfile = lat_fp, \n",
    "                     lonfile = lon_fp, \n",
    "                     outfile = out_fp,\n",
    "                     insrs=4326, outsrs=None,spacing=[.00005556,.00005556], fmt='GTiff', bounds=None,method='near')"
   ]
  },
  {
   "cell_type": "markdown",
   "id": "adb7381c-1663-4ff5-ac70-d167c804d541",
   "metadata": {},
   "source": [
    "# p2"
   ]
  },
  {
   "cell_type": "code",
   "execution_count": 17,
   "id": "a28d8929-069b-4ffe-9142-fed49e5ec2d9",
   "metadata": {},
   "outputs": [],
   "source": [
    "# p2 unw\n",
    "in_fp = 'int/20200212T2211_20200219T2208/20200212T2211_20200219T2208.unw_snaphu.unw.vrt'\n",
    "\n",
    "# path to annotation file\n",
    "lat_fp = 'int/new_llh/multi_seg.lat.vrt'\n",
    "\n",
    "# path to annotation file\n",
    "lon_fp = 'int/new_llh/multi_seg.lon.vrt'\n",
    "\n",
    "# where the .tif is being save\n",
    "out_fp = '/Users/jtarrico/sierra_isce_multi/insar_geocoded/p2/p2_7d_VV_unw.tif'"
   ]
  },
  {
   "cell_type": "code",
   "execution_count": 18,
   "id": "13e67a88-2128-463a-8fd3-ab9e47f6da4a",
   "metadata": {},
   "outputs": [
    {
     "name": "stdout",
     "output_type": "stream",
     "text": [
      "geocoding...\n",
      "done!\n"
     ]
    }
   ],
   "source": [
    "geocodeUsingGdalWarp(infile = in_fp,\n",
    "                     latfile = lat_fp, \n",
    "                     lonfile = lon_fp, \n",
    "                     outfile = out_fp,\n",
    "                     insrs=4326, outsrs=None,spacing=[.00005556,.00005556], fmt='GTiff', bounds=None,method='near')"
   ]
  },
  {
   "cell_type": "code",
   "execution_count": 19,
   "id": "9c662124-b501-440b-99b3-5c9178d76188",
   "metadata": {},
   "outputs": [],
   "source": [
    "# p2 concomp\n",
    "in_fp = 'int/20200212T2211_20200219T2208/20200212T2211_20200219T2208.unw_snaphu.unw.conncomp'\n",
    "\n",
    "# path to annotation file\n",
    "lat_fp = 'int/new_llh/multi_seg.lat.vrt'\n",
    "\n",
    "# path to annotation file\n",
    "lon_fp = 'int/new_llh/multi_seg.lon.vrt'\n",
    "\n",
    "# where the .tif is being save\n",
    "out_fp = '/Users/jtarrico/sierra_isce_multi/insar_geocoded/p2/p2_7d_VV_conncomp.tif'"
   ]
  },
  {
   "cell_type": "code",
   "execution_count": 20,
   "id": "3592c32b-16fe-4c85-9532-91aa7df29fed",
   "metadata": {},
   "outputs": [
    {
     "name": "stdout",
     "output_type": "stream",
     "text": [
      "geocoding...\n"
     ]
    },
    {
     "name": "stderr",
     "output_type": "stream",
     "text": [
      "Warning 1: for band 1, destination nodata value has been clamped to 0, the original value being out of range.\n"
     ]
    },
    {
     "name": "stdout",
     "output_type": "stream",
     "text": [
      "done!\n"
     ]
    }
   ],
   "source": [
    "geocodeUsingGdalWarp(infile = in_fp,\n",
    "                     latfile = lat_fp, \n",
    "                     lonfile = lon_fp, \n",
    "                     outfile = out_fp,\n",
    "                     insrs=4326, outsrs=None,spacing=[.00005556,.00005556], fmt='GTiff', bounds=None,method='near')"
   ]
  },
  {
   "cell_type": "code",
   "execution_count": 21,
   "id": "3e0b8612-cb7f-44e4-937d-df82253563ad",
   "metadata": {},
   "outputs": [],
   "source": [
    "# p2 coh\n",
    "in_fp = 'int/20200212T2211_20200219T2208/20200212T2211_20200219T2208.coh'\n",
    "\n",
    "# path to annotation file\n",
    "lat_fp = 'int/new_llh/multi_seg.lat.vrt'\n",
    "\n",
    "# path to annotation file\n",
    "lon_fp = 'int/new_llh/multi_seg.lon.vrt'\n",
    "\n",
    "# where the .tif is being save\n",
    "out_fp = '/Users/jtarrico/sierra_isce_multi/insar_geocoded/p2/p2_7d_VV_coh.tif'"
   ]
  },
  {
   "cell_type": "code",
   "execution_count": 22,
   "id": "9c2ef563-f615-48ae-b21e-63f8d2f50031",
   "metadata": {},
   "outputs": [
    {
     "name": "stdout",
     "output_type": "stream",
     "text": [
      "geocoding...\n",
      "done!\n"
     ]
    }
   ],
   "source": [
    "geocodeUsingGdalWarp(infile = in_fp,\n",
    "                     latfile = lat_fp, \n",
    "                     lonfile = lon_fp, \n",
    "                     outfile = out_fp,\n",
    "                     insrs=4326, outsrs=None,spacing=[.00005556,.00005556], fmt='GTiff', bounds=None,method='near')"
   ]
  },
  {
   "cell_type": "markdown",
   "id": "638c5a3b-f3b3-400a-bc3a-9201e6b54159",
   "metadata": {},
   "source": [
    "# p3"
   ]
  },
  {
   "cell_type": "code",
   "execution_count": 23,
   "id": "b669c407-0e09-47c5-b0ff-9c4f60f62cdc",
   "metadata": {},
   "outputs": [],
   "source": [
    "# p3 unw\n",
    "in_fp = 'int/20200219T2208_20200226T2253/20200219T2208_20200226T2253.unw_snaphu.unw.vrt'\n",
    "\n",
    "# path to annotation file\n",
    "lat_fp = 'int/new_llh/multi_seg.lat.vrt'\n",
    "\n",
    "# path to annotation file\n",
    "lon_fp = 'int/new_llh/multi_seg.lon.vrt'\n",
    "\n",
    "# where the .tif is being save\n",
    "out_fp = '/Users/jtarrico/sierra_isce_multi/insar_geocoded/p3/p3_7d_VV_unw.tif'"
   ]
  },
  {
   "cell_type": "code",
   "execution_count": 24,
   "id": "0ef8cb9c-d9a4-4d0d-8be9-cd95edfa787a",
   "metadata": {},
   "outputs": [
    {
     "name": "stdout",
     "output_type": "stream",
     "text": [
      "geocoding...\n",
      "done!\n"
     ]
    }
   ],
   "source": [
    "geocodeUsingGdalWarp(infile = in_fp,\n",
    "                     latfile = lat_fp, \n",
    "                     lonfile = lon_fp, \n",
    "                     outfile = out_fp,\n",
    "                     insrs=4326, outsrs=None,spacing=[.00005556,.00005556], fmt='GTiff', bounds=None,method='near')"
   ]
  },
  {
   "cell_type": "code",
   "execution_count": 28,
   "id": "46ad1352-e8cf-4cdb-b612-2eb9356fd171",
   "metadata": {},
   "outputs": [],
   "source": [
    "# p3 conncomp\n",
    "in_fp = 'int/20200219T2208_20200226T2253/20200219T2208_20200226T2253.unw_snaphu.unw.conncomp'\n",
    "\n",
    "# path to annotation file\n",
    "lat_fp = 'int/new_llh/multi_seg.lat.vrt'\n",
    "\n",
    "# path to annotation file\n",
    "lon_fp = 'int/new_llh/multi_seg.lon.vrt'\n",
    "\n",
    "# where the .tif is being save\n",
    "out_fp = '/Users/jtarrico/sierra_isce_multi/insar_geocoded/p3/p3_7d_VV_conncomp.tif'"
   ]
  },
  {
   "cell_type": "code",
   "execution_count": null,
   "id": "c54fbc31-048b-489c-9e9f-98954239f732",
   "metadata": {},
   "outputs": [],
   "source": [
    "geocodeUsingGdalWarp(infile = in_fp,\n",
    "                     latfile = lat_fp, \n",
    "                     lonfile = lon_fp, \n",
    "                     outfile = out_fp,\n",
    "                     insrs=4326, outsrs=None,spacing=[.00005556,.00005556], fmt='GTiff', bounds=None,method='near')"
   ]
  },
  {
   "cell_type": "code",
   "execution_count": 29,
   "id": "b919d6de-a890-4fe4-95fc-caba6def33b8",
   "metadata": {},
   "outputs": [],
   "source": [
    "# p3 coh\n",
    "in_fp = 'int/20200219T2208_20200226T2253/20200219T2208_20200226T2253.coh'\n",
    "\n",
    "# path to annotation file\n",
    "lat_fp = 'int/new_llh/multi_seg.lat.vrt'\n",
    "\n",
    "# path to annotation file\n",
    "lon_fp = 'int/new_llh/multi_seg.lon.vrt'\n",
    "\n",
    "# where the .tif is being save\n",
    "out_fp = '/Users/jtarrico/sierra_isce_multi/insar_geocoded/p3/p3_7d_VV_coh.tif'"
   ]
  },
  {
   "cell_type": "code",
   "execution_count": 30,
   "id": "88f13df1-dcbd-4608-8807-f96338e33cf8",
   "metadata": {},
   "outputs": [
    {
     "name": "stdout",
     "output_type": "stream",
     "text": [
      "geocoding...\n",
      "done!\n"
     ]
    }
   ],
   "source": [
    "geocodeUsingGdalWarp(infile = in_fp,\n",
    "                     latfile = lat_fp, \n",
    "                     lonfile = lon_fp, \n",
    "                     outfile = out_fp,\n",
    "                     insrs=4326, outsrs=None,spacing=[.00005556,.00005556], fmt='GTiff', bounds=None,method='near')"
   ]
  },
  {
   "cell_type": "markdown",
   "id": "81c76c78-2f97-4133-9595-db21768a60ac",
   "metadata": {},
   "source": [
    "# p4"
   ]
  },
  {
   "cell_type": "code",
   "execution_count": 31,
   "id": "2ac94298-cd3c-43ca-bc9b-f2eb91148f25",
   "metadata": {},
   "outputs": [],
   "source": [
    "# p4 unw\n",
    "in_fp = 'int/20200226T2253_20200311T1852/20200226T2253_20200311T1852.unw_snaphu.unw.vrt'\n",
    "\n",
    "# path to annotation file\n",
    "lat_fp = 'int/new_llh/multi_seg.lat.vrt'\n",
    "\n",
    "# path to annotation file\n",
    "lon_fp = 'int/new_llh/multi_seg.lon.vrt'\n",
    "\n",
    "# where the .tif is being save\n",
    "out_fp = '/Users/jtarrico/sierra_isce_multi/insar_geocoded/p4/p4_14d_VV_unw.tif'"
   ]
  },
  {
   "cell_type": "code",
   "execution_count": 32,
   "id": "c5b46669-3ed4-445e-b637-d103edf94a52",
   "metadata": {},
   "outputs": [
    {
     "name": "stdout",
     "output_type": "stream",
     "text": [
      "geocoding...\n",
      "done!\n"
     ]
    }
   ],
   "source": [
    "geocodeUsingGdalWarp(infile = in_fp,\n",
    "                     latfile = lat_fp, \n",
    "                     lonfile = lon_fp, \n",
    "                     outfile = out_fp,\n",
    "                     insrs=4326, outsrs=None,spacing=[.00005556,.00005556], fmt='GTiff', bounds=None,method='near')"
   ]
  },
  {
   "cell_type": "code",
   "execution_count": null,
   "id": "2aad8da6-875d-4223-938e-cec6b552a8e2",
   "metadata": {},
   "outputs": [],
   "source": [
    "# p4 conncomp\n",
    "in_fp = 'int/20200226T2253_20200311T1852/20200226T2253_20200311T1852.'\n",
    "\n",
    "# path to annotation file\n",
    "lat_fp = 'int/new_llh/multi_seg.lat.vrt'\n",
    "\n",
    "# path to annotation file\n",
    "lon_fp = 'int/new_llh/multi_seg.lon.vrt'\n",
    "\n",
    "# where the .tif is being save\n",
    "out_fp = '/Users/jtarrico/sierra_isce_multi/insar_geocoded/p4/p4_14d_VV_conncomp.tif'"
   ]
  },
  {
   "cell_type": "code",
   "execution_count": null,
   "id": "16a8e5ce-291d-4ea5-ac51-f9a1e2686e2e",
   "metadata": {},
   "outputs": [],
   "source": [
    "geocodeUsingGdalWarp(infile = in_fp,\n",
    "                     latfile = lat_fp, \n",
    "                     lonfile = lon_fp, \n",
    "                     outfile = out_fp,\n",
    "                     insrs=4326, outsrs=None,spacing=[.00005556,.00005556], fmt='GTiff', bounds=None,method='near')"
   ]
  },
  {
   "cell_type": "code",
   "execution_count": 33,
   "id": "e58f40fb-0a9a-4c1b-9129-b81d18efee7e",
   "metadata": {},
   "outputs": [],
   "source": [
    "# p4 conncomp\n",
    "in_fp = 'int/20200226T2253_20200311T1852/20200226T2253_20200311T1852.unw_snaphu.unw.conncomp'\n",
    "\n",
    "# path to annotation file\n",
    "lat_fp = 'int/new_llh/multi_seg.lat.vrt'\n",
    "\n",
    "# path to annotation file\n",
    "lon_fp = 'int/new_llh/multi_seg.lon.vrt'\n",
    "\n",
    "# where the .tif is being save\n",
    "out_fp = '/Users/jtarrico/sierra_isce_multi/insar_geocoded/p4/p4_14d_VV_conncomp.tif'"
   ]
  },
  {
   "cell_type": "code",
   "execution_count": 34,
   "id": "aeca3c19-5d37-426b-b265-6786e647e2ed",
   "metadata": {},
   "outputs": [
    {
     "name": "stdout",
     "output_type": "stream",
     "text": [
      "geocoding...\n"
     ]
    },
    {
     "name": "stderr",
     "output_type": "stream",
     "text": [
      "Warning 1: for band 1, destination nodata value has been clamped to 0, the original value being out of range.\n"
     ]
    },
    {
     "name": "stdout",
     "output_type": "stream",
     "text": [
      "done!\n"
     ]
    }
   ],
   "source": [
    "geocodeUsingGdalWarp(infile = in_fp,\n",
    "                     latfile = lat_fp, \n",
    "                     lonfile = lon_fp, \n",
    "                     outfile = out_fp,\n",
    "                     insrs=4326, outsrs=None,spacing=[.00005556,.00005556], fmt='GTiff', bounds=None,method='near')"
   ]
  },
  {
   "cell_type": "code",
   "execution_count": 35,
   "id": "96849875-6965-4713-b9e1-87cc7404eb96",
   "metadata": {},
   "outputs": [],
   "source": [
    "# p4 conncomp\n",
    "in_fp = 'int/20200226T2253_20200311T1852/20200226T2253_20200311T1852.coh'\n",
    "\n",
    "# path to annotation file\n",
    "lat_fp = 'int/new_llh/multi_seg.lat.vrt'\n",
    "\n",
    "# path to annotation file\n",
    "lon_fp = 'int/new_llh/multi_seg.lon.vrt'\n",
    "\n",
    "# where the .tif is being save\n",
    "out_fp = '/Users/jtarrico/sierra_isce_multi/insar_geocoded/p4/p4_14d_VV_coh.tif'"
   ]
  },
  {
   "cell_type": "code",
   "execution_count": 36,
   "id": "6da49fcd-646d-4bd0-bc36-db542a9338ed",
   "metadata": {},
   "outputs": [
    {
     "name": "stdout",
     "output_type": "stream",
     "text": [
      "geocoding...\n",
      "done!\n"
     ]
    }
   ],
   "source": [
    "geocodeUsingGdalWarp(infile = in_fp,\n",
    "                     latfile = lat_fp, \n",
    "                     lonfile = lon_fp, \n",
    "                     outfile = out_fp,\n",
    "                     insrs=4326, outsrs=None,spacing=[.00005556,.00005556], fmt='GTiff', bounds=None,method='near')"
   ]
  },
  {
   "cell_type": "code",
   "execution_count": null,
   "id": "92d6e1c0-8e9b-4212-95ce-fd1c040f8919",
   "metadata": {},
   "outputs": [],
   "source": []
  }
 ],
 "metadata": {
  "kernelspec": {
   "display_name": "Python 3 (ipykernel)",
   "language": "python",
   "name": "python3"
  },
  "language_info": {
   "codemirror_mode": {
    "name": "ipython",
    "version": 3
   },
   "file_extension": ".py",
   "mimetype": "text/x-python",
   "name": "python",
   "nbconvert_exporter": "python",
   "pygments_lexer": "ipython3",
   "version": "3.9.18"
  }
 },
 "nbformat": 4,
 "nbformat_minor": 5
}
