{
 "cells": [
  {
   "cell_type": "code",
   "execution_count": 8,
   "id": "c2a54c21-eea3-46f5-b0bb-191c5e14d103",
   "metadata": {},
   "outputs": [],
   "source": [
    "%matplotlib inline\n",
    "import isce\n",
    "import os\n",
    "import glob\n",
    "import numpy as np\n",
    "import shutil\n",
    "from osgeo import gdal\n",
    "import matplotlib.pyplot as plt\n",
    "import rasterio as rio\n",
    "from rasterio.plot import show # plotting raster data\n",
    "from rasterio.plot import show_hist #histograms of raster data\n",
    "from uavsar_pytools.georeference import geolocate_uavsar\n",
    "from pathlib import Path\n",
    "from glob import glob\n",
    "from uavsar_pytools.convert.tiff_conversion import read_annotation, array_to_tiff\n",
    "from os.path import join, basename, dirname\n",
    "from rasterio.vrt import WarpedVRT\n",
    "from osgeo import gdal, osr"
   ]
  },
  {
   "cell_type": "code",
   "execution_count": 9,
   "id": "e3b090bf-8350-4a2e-8fbb-b8c3473ee0e2",
   "metadata": {},
   "outputs": [],
   "source": [
    "### still need to hand format unw vrt files...."
   ]
  },
  {
   "cell_type": "code",
   "execution_count": 10,
   "id": "bbc7826f-1536-4749-a8a6-d99a7ec2d4e8",
   "metadata": {},
   "outputs": [],
   "source": [
    "# combine llh files\n",
    "def combo_llhs(data_dir: Path, ann_fp: Path):\n",
    "    \"\"\"\n",
    "    Combines segment .llh files into a single combined .llh file and saves as a binary with .vrt.\n",
    "    \"\"\"\n",
    "    assert data_dir.exists()\n",
    "\n",
    "    re_llhs = {'lat':[], 'lon': [], 'height':[]}\n",
    "    for llh in sorted(data_dir.glob('*.llh')):\n",
    "        segment = llh.stem.split('_')[-2].replace('s','')\n",
    "\n",
    "        data = np.fromfile(llh, np.dtype('<f'))\n",
    "        lat, lon, height = data[::3], data[1::3], data[2::3]\n",
    "        for key, da in zip(re_llhs.keys(), [lat, lon, height]):\n",
    "            re_llhs[key].extend(da)\n",
    "                               \n",
    "    full = np.empty(len(re_llhs['lat'])*3, dtype='>f')\n",
    "    full[0::3] = re_llhs['lat']\n",
    "    full[1::3] = re_llhs['lon']\n",
    "    full[2::3] = re_llhs['height']\n",
    "\n",
    "    # read ann file\n",
    "    desc = read_annotation(ann_fp)\n",
    "    print('reading .ann file')\n",
    "\n",
    "    # read in number of rows from each llh file\n",
    "    nrows1 = desc[f'llh_1_2x8.set_rows']['value']\n",
    "    nrows2 = desc[f'llh_2_2x8.set_rows']['value']\n",
    "\n",
    "    # add rows for new reshaping number\n",
    "    nrows_new = nrows1 + nrows2\n",
    "    print('new number of rows = ',nrows_new)\n",
    "    \n",
    "    # read in cols, same fo rboth\n",
    "    ncols = desc[f'llh_1_2x8.set_cols']['value']\n",
    "    dt = np.dtype('<f')\n",
    "\n",
    "    # create empty arrays for lat and lon\n",
    "    lat_array = np.empty((nrows_new, ncols))\n",
    "    lon_array = np.empty((nrows_new, ncols))\n",
    "    \n",
    "    # fill each layer\n",
    "    lat_array = full[::3].reshape(nrows_new, ncols)\n",
    "    lon_array = full[1::3].reshape(nrows_new, ncols)\n",
    "\n",
    "    # define path to bin file\n",
    "    lat_output_file = data_dir / \"multi_seg.lat\"\n",
    "    lon_output_file = data_dir / \"multi_seg.lon\"\n",
    "\n",
    "    #### Save the array to bin file\n",
    "    # lat\n",
    "    lat_array.tofile(lat_output_file)\n",
    "    print('.lat saved')\n",
    "    # lon\n",
    "    lon_array.tofile(lon_output_file)\n",
    "    print('.lon saved')\n",
    "\n",
    "    profile = {\n",
    "    'driver': 'GTiff',\n",
    "    'interleave': 'band',\n",
    "    'tiled': False,\n",
    "    'nodata': 0,\n",
    "    'width': ncols,\n",
    "    'height':nrows_new,\n",
    "    'count':1,\n",
    "    'dtype':'float32'\n",
    "    }\n",
    "    \n",
    "    ### Save out tifs to be converted to vrt\n",
    "    # lat\n",
    "    with rio.open(join(str(lat_output_file) + '.tif'), 'w', **profile) as dst:\n",
    "                dst.write(lat_array.astype(lat_array.dtype), 1)\n",
    "\n",
    "    with rio.open(join(str(lon_output_file) + '.tif'), 'w', **profile) as dst:\n",
    "                dst.write(lon_array.astype(lon_array.dtype), 1)\n",
    "\n",
    "    # Add VRT file for each tif\n",
    "    tifs = glob(join(data_dir, '*.tif')) # list all .llh files\n",
    "    for tiff in tifs: # loop to open and translate .llh to .vrt, and save .vrt using gdal\n",
    "        raster_dataset = gdal.Open(tiff, gdal.GA_ReadOnly) # read in rasters\n",
    "        raster = gdal.Translate(join(data_dir, basename(tiff).replace('.tif','.vrt')), raster_dataset, format = 'VRT', outputType = gdal.GDT_Float32)\n",
    "    raster_dataset = None\n",
    "\n",
    "    print('new .lat and .lon with .vrt have saved')"
   ]
  },
  {
   "cell_type": "code",
   "execution_count": 11,
   "id": "aa1bf4ab-6715-41bc-b63d-e35645a6109c",
   "metadata": {},
   "outputs": [],
   "source": [
    "def geocodeUsingGdalWarp(infile, latfile, lonfile, outfile,\n",
    "                         insrs=4326, outsrs=None,\n",
    "                         spacing=None, fmt='GTiff', bounds=None,\n",
    "                         method='near'):\n",
    "    '''\n",
    "    From: Dr. Gareth Funning, UC Riverside, UNAVCO InSAR Short Course\n",
    "    Geocode a swath file using corresponding lat, lon files\n",
    "    '''\n",
    "    sourcexmltmpl = '''    <SimpleSource>\n",
    "      <SourceFilename>{0}</SourceFilename>\n",
    "      <SourceBand>{1}</SourceBand>\n",
    "    </SimpleSource>'''\n",
    "    \n",
    "    driver = gdal.GetDriverByName('VRT')\n",
    "    tempvrtname = 'temp_ele.vrt'\n",
    "    inds = gdal.OpenShared(infile, gdal.GA_ReadOnly)\n",
    "    \n",
    "    tempds = driver.Create(tempvrtname, inds.RasterXSize, inds.RasterYSize, 0)\n",
    "    \n",
    "    for ii in range(inds.RasterCount):\n",
    "        band = inds.GetRasterBand(1)\n",
    "        tempds.AddBand(band.DataType)\n",
    "        tempds.GetRasterBand(ii+1).SetMetadata({'source_0': sourcexmltmpl.format(infile, ii+1)}, 'vrt_sources')\n",
    "  \n",
    "    sref = osr.SpatialReference()\n",
    "    sref.ImportFromEPSG(insrs)\n",
    "    srswkt = sref.ExportToWkt()\n",
    "    tempds.SetMetadata({'SRS' : srswkt,\n",
    "                        'X_DATASET': lonfile,\n",
    "                        'X_BAND' : '1',\n",
    "                        'Y_DATASET': latfile,\n",
    "                        'Y_BAND' : '1',\n",
    "                        'PIXEL_OFFSET' : '0',\n",
    "                        'LINE_OFFSET' : '0',\n",
    "                        'PIXEL_STEP' : '1',\n",
    "                        'LINE_STEP' : '1'}, \n",
    "                        'GEOLOCATION')\n",
    "    \n",
    "    band = None\n",
    "    tempds = None \n",
    "    inds = None\n",
    "    \n",
    "    print('geocoding...')\n",
    "    if spacing is None:\n",
    "        spacing = [None, None]\n",
    "    warpOptions = gdal.WarpOptions(format=fmt,\n",
    "                                xRes=spacing[0], yRes=spacing[0],\n",
    "                                dstSRS=outsrs, outputBounds = bounds, dstNodata = -9999,\n",
    "                                resampleAlg=method, geoloc=True)\n",
    "    gdal.Warp(outfile, tempvrtname, options=warpOptions)\n",
    "    os.remove('temp_ele.vrt')\n",
    "    print('done!')"
   ]
  },
  {
   "cell_type": "code",
   "execution_count": 12,
   "id": "2153843c-bc98-4765-ae4c-cd5c439977dc",
   "metadata": {},
   "outputs": [],
   "source": [
    "# start in downloads directory\n",
    "os.chdir('/Users/jtarrico/sierra_isce_multi')"
   ]
  },
  {
   "cell_type": "markdown",
   "id": "ec6959df-76b2-4a76-b6a4-c36cc0819153",
   "metadata": {},
   "source": [
    "# p1"
   ]
  },
  {
   "cell_type": "code",
   "execution_count": null,
   "id": "19739810-0594-4e01-b3b6-f81ec6999b29",
   "metadata": {},
   "outputs": [],
   "source": []
  },
  {
   "cell_type": "code",
   "execution_count": 9,
   "id": "e12c877f-e328-48c6-afcf-b89b0f663294",
   "metadata": {},
   "outputs": [],
   "source": [
    "dir1 = Path('./int/new_llh')\n",
    "ann1 = Path('./int/ann/sierra_17305_20002_001_200131_L090VV_01_BC.ann')"
   ]
  },
  {
   "cell_type": "code",
   "execution_count": 10,
   "id": "1d75f277-319d-4565-95a7-9fa59c5e3fda",
   "metadata": {},
   "outputs": [
    {
     "name": "stdout",
     "output_type": "stream",
     "text": [
      "reading .ann file\n",
      "new number of rows =  16212\n",
      ".lat saved\n",
      ".lon saved\n",
      "2023-11-29 12:50:05,320 - rasterio.env - DEBUG - Entering env context: <rasterio.env.Env object at 0x1a20114c0>\n",
      "2023-11-29 12:50:07,002 - rasterio.env - DEBUG - Starting outermost env\n",
      "2023-11-29 12:50:07,004 - rasterio.env - DEBUG - No GDAL environment exists\n",
      "2023-11-29 12:50:07,004 - rasterio.env - DEBUG - New GDAL environment <rasterio._env.GDALEnv object at 0x1a20117c0> created\n",
      "2023-11-29 12:50:07,008 - rasterio._filepath - DEBUG - Installing FilePath filesystem handler plugin...\n",
      "2023-11-29 12:50:07,009 - rasterio._env - DEBUG - GDAL_DATA found in environment.\n",
      "2023-11-29 12:50:07,011 - rasterio._env - DEBUG - PROJ_DATA found in environment.\n",
      "2023-11-29 12:50:07,012 - rasterio._env - DEBUG - Started GDALEnv: self=<rasterio._env.GDALEnv object at 0x1a20117c0>.\n",
      "2023-11-29 12:50:07,013 - rasterio.env - DEBUG - Entered env context: <rasterio.env.Env object at 0x1a20114c0>\n",
      "2023-11-29 12:50:07,014 - rasterio._io - DEBUG - Path: _UnparsedPath(path='int/new_llh/multi_seg.lat.tif'), mode: w, driver: GTiff\n",
      "2023-11-29 12:50:07,016 - rasterio._io - DEBUG - Skipped delete for overwrite, dataset does not exist: 'int/new_llh/multi_seg.lat.tif'\n",
      "2023-11-29 12:50:07,020 - rasterio._base - DEBUG - Nodata success: 1, Nodata value: 0.000000\n",
      "2023-11-29 12:50:07,021 - rasterio.env - DEBUG - Exiting env context: <rasterio.env.Env object at 0x1a20114c0>\n",
      "2023-11-29 12:50:07,022 - rasterio.env - DEBUG - Cleared existing <rasterio._env.GDALEnv object at 0x1a20117c0> options\n",
      "2023-11-29 12:50:07,023 - rasterio._env - DEBUG - Stopped GDALEnv <rasterio._env.GDALEnv object at 0x1a20117c0>.\n",
      "2023-11-29 12:50:07,025 - rasterio.env - DEBUG - Exiting outermost env\n",
      "2023-11-29 12:50:07,026 - rasterio.env - DEBUG - Exited env context: <rasterio.env.Env object at 0x1a20114c0>\n",
      "2023-11-29 12:50:07,027 - rasterio.env - DEBUG - Entering env context: <rasterio.env.Env object at 0x1a1e680a0>\n",
      "2023-11-29 12:50:07,028 - rasterio.env - DEBUG - Starting outermost env\n",
      "2023-11-29 12:50:07,030 - rasterio.env - DEBUG - No GDAL environment exists\n",
      "2023-11-29 12:50:07,031 - rasterio.env - DEBUG - New GDAL environment <rasterio._env.GDALEnv object at 0x1a20117c0> created\n",
      "2023-11-29 12:50:07,033 - rasterio._env - DEBUG - GDAL_DATA found in environment.\n",
      "2023-11-29 12:50:07,034 - rasterio._env - DEBUG - PROJ_DATA found in environment.\n",
      "2023-11-29 12:50:07,035 - rasterio._env - DEBUG - Started GDALEnv: self=<rasterio._env.GDALEnv object at 0x1a20117c0>.\n",
      "2023-11-29 12:50:07,036 - rasterio.env - DEBUG - Entered env context: <rasterio.env.Env object at 0x1a1e680a0>\n"
     ]
    },
    {
     "name": "stderr",
     "output_type": "stream",
     "text": [
      "/Users/jtarrico/miniconda/envs/isce2_env/lib/python3.9/site-packages/rasterio/__init__.py:314: NotGeoreferencedWarning: Dataset has no geotransform, gcps, or rpcs. The identity matrix will be returned.\n",
      "  dataset = writer(\n"
     ]
    },
    {
     "name": "stdout",
     "output_type": "stream",
     "text": [
      "2023-11-29 12:50:08,291 - rasterio.env - DEBUG - Exiting env context: <rasterio.env.Env object at 0x1a1e680a0>\n",
      "2023-11-29 12:50:08,293 - rasterio.env - DEBUG - Cleared existing <rasterio._env.GDALEnv object at 0x1a20117c0> options\n",
      "2023-11-29 12:50:08,294 - rasterio._env - DEBUG - Stopped GDALEnv <rasterio._env.GDALEnv object at 0x1a20117c0>.\n",
      "2023-11-29 12:50:08,295 - rasterio.env - DEBUG - Exiting outermost env\n",
      "2023-11-29 12:50:08,297 - rasterio.env - DEBUG - Exited env context: <rasterio.env.Env object at 0x1a1e680a0>\n",
      "2023-11-29 12:50:08,298 - rasterio.env - DEBUG - Entering env context: <rasterio.env.Env object at 0x1a1c1eee0>\n",
      "2023-11-29 12:50:08,299 - rasterio.env - DEBUG - Starting outermost env\n",
      "2023-11-29 12:50:08,300 - rasterio.env - DEBUG - No GDAL environment exists\n",
      "2023-11-29 12:50:08,301 - rasterio.env - DEBUG - New GDAL environment <rasterio._env.GDALEnv object at 0x1a20adcd0> created\n",
      "2023-11-29 12:50:08,303 - rasterio._env - DEBUG - GDAL_DATA found in environment.\n",
      "2023-11-29 12:50:08,304 - rasterio._env - DEBUG - PROJ_DATA found in environment.\n",
      "2023-11-29 12:50:08,305 - rasterio._env - DEBUG - Started GDALEnv: self=<rasterio._env.GDALEnv object at 0x1a20adcd0>.\n",
      "2023-11-29 12:50:08,306 - rasterio.env - DEBUG - Entered env context: <rasterio.env.Env object at 0x1a1c1eee0>\n",
      "2023-11-29 12:50:08,307 - rasterio._io - DEBUG - Path: _UnparsedPath(path='int/new_llh/multi_seg.lon.tif'), mode: w, driver: GTiff\n",
      "2023-11-29 12:50:08,308 - rasterio._io - DEBUG - Skipped delete for overwrite, dataset does not exist: 'int/new_llh/multi_seg.lon.tif'\n",
      "2023-11-29 12:50:08,310 - rasterio._base - DEBUG - Nodata success: 1, Nodata value: 0.000000\n",
      "2023-11-29 12:50:08,311 - rasterio.env - DEBUG - Exiting env context: <rasterio.env.Env object at 0x1a1c1eee0>\n",
      "2023-11-29 12:50:08,313 - rasterio.env - DEBUG - Cleared existing <rasterio._env.GDALEnv object at 0x1a20adcd0> options\n",
      "2023-11-29 12:50:08,314 - rasterio._env - DEBUG - Stopped GDALEnv <rasterio._env.GDALEnv object at 0x1a20adcd0>.\n",
      "2023-11-29 12:50:08,315 - rasterio.env - DEBUG - Exiting outermost env\n",
      "2023-11-29 12:50:08,317 - rasterio.env - DEBUG - Exited env context: <rasterio.env.Env object at 0x1a1c1eee0>\n",
      "2023-11-29 12:50:08,318 - rasterio.env - DEBUG - Entering env context: <rasterio.env.Env object at 0x1a1e680a0>\n",
      "2023-11-29 12:50:08,319 - rasterio.env - DEBUG - Starting outermost env\n",
      "2023-11-29 12:50:08,320 - rasterio.env - DEBUG - No GDAL environment exists\n",
      "2023-11-29 12:50:08,322 - rasterio.env - DEBUG - New GDAL environment <rasterio._env.GDALEnv object at 0x1a20114c0> created\n",
      "2023-11-29 12:50:08,324 - rasterio._env - DEBUG - GDAL_DATA found in environment.\n",
      "2023-11-29 12:50:08,325 - rasterio._env - DEBUG - PROJ_DATA found in environment.\n",
      "2023-11-29 12:50:08,326 - rasterio._env - DEBUG - Started GDALEnv: self=<rasterio._env.GDALEnv object at 0x1a20114c0>.\n",
      "2023-11-29 12:50:08,327 - rasterio.env - DEBUG - Entered env context: <rasterio.env.Env object at 0x1a1e680a0>\n",
      "2023-11-29 12:50:09,252 - rasterio.env - DEBUG - Exiting env context: <rasterio.env.Env object at 0x1a1e680a0>\n",
      "2023-11-29 12:50:09,253 - rasterio.env - DEBUG - Cleared existing <rasterio._env.GDALEnv object at 0x1a20114c0> options\n",
      "2023-11-29 12:50:09,255 - rasterio._env - DEBUG - Stopped GDALEnv <rasterio._env.GDALEnv object at 0x1a20114c0>.\n",
      "2023-11-29 12:50:09,256 - rasterio.env - DEBUG - Exiting outermost env\n",
      "2023-11-29 12:50:09,257 - rasterio.env - DEBUG - Exited env context: <rasterio.env.Env object at 0x1a1e680a0>\n",
      "new .lat and .lon with .vrt have saved\n"
     ]
    }
   ],
   "source": [
    "full1 = combo_llhs(data_dir = dir1, ann_fp = ann1)"
   ]
  },
  {
   "cell_type": "code",
   "execution_count": 34,
   "id": "4f10c642-21d6-467c-ba98-7a1fdea9f71d",
   "metadata": {},
   "outputs": [],
   "source": [
    "# path to your unw.vrt\n",
    "in_fp = 'int/20200131T1903_20200212T2211/20200131T1903_20200212T2211.unw_snaphu.unw.vrt'\n",
    "\n",
    "# path to annotation file\n",
    "lat_fp = 'int/new_llh/multi_seg.lat.vrt'\n",
    "\n",
    "# path to annotation file\n",
    "lon_fp = 'int/new_llh/multi_seg.lon.vrt'\n",
    "\n",
    "# where the .tif is being save\n",
    "out_fp = '/Users/jtarrico/sierra_isce_multi/insar_geocoded/p1/p1_14d_VV_unw.tif'"
   ]
  },
  {
   "cell_type": "code",
   "execution_count": 35,
   "id": "8979f1e2-8bce-4d9a-87bd-2c1fd0f1df7a",
   "metadata": {},
   "outputs": [
    {
     "name": "stdout",
     "output_type": "stream",
     "text": [
      "geocoding...\n",
      "done!\n"
     ]
    }
   ],
   "source": [
    "# p1 unw\n",
    "geocodeUsingGdalWarp(infile = in_fp,\n",
    "                     latfile = lat_fp, \n",
    "                     lonfile = lon_fp, \n",
    "                     outfile = out_fp,\n",
    "                     insrs=4326, outsrs=None,spacing=[.00005556,.00005556], fmt='GTiff', bounds=None,method='near')"
   ]
  },
  {
   "cell_type": "code",
   "execution_count": 13,
   "id": "ce986829-136d-43af-8fdd-eb1aa4da6423",
   "metadata": {},
   "outputs": [],
   "source": [
    "# p1 concomp\n",
    "in_fp = 'int/20200131T1903_20200212T2211/20200131T1903_20200212T2211.unw_snaphu.unw.conncomp'\n",
    "\n",
    "# path to annotation file\n",
    "lat_fp = 'int/new_llh/multi_seg.lat.vrt'\n",
    "\n",
    "# path to annotation file\n",
    "lon_fp = 'int/new_llh/multi_seg.lon.vrt'\n",
    "\n",
    "# where the .tif is being save\n",
    "out_fp = '/Users/jtarrico/sierra_isce_multi/insar_geocoded/p1/p1_14d_VV_concomp.tif'"
   ]
  },
  {
   "cell_type": "code",
   "execution_count": 14,
   "id": "97479717-87bd-4676-965d-9de3f38bbb49",
   "metadata": {},
   "outputs": [
    {
     "name": "stdout",
     "output_type": "stream",
     "text": [
      "geocoding...\n"
     ]
    },
    {
     "name": "stderr",
     "output_type": "stream",
     "text": [
      "Warning 1: for band 1, destination nodata value has been clamped to 0, the original value being out of range.\n"
     ]
    },
    {
     "name": "stdout",
     "output_type": "stream",
     "text": [
      "done!\n"
     ]
    }
   ],
   "source": [
    "# p1 unw\n",
    "geocodeUsingGdalWarp(infile = in_fp,\n",
    "                     latfile = lat_fp, \n",
    "                     lonfile = lon_fp, \n",
    "                     outfile = out_fp,\n",
    "                     insrs=4326, outsrs=None,spacing=[.00005556,.00005556], fmt='GTiff', bounds=None,method='near')"
   ]
  },
  {
   "cell_type": "code",
   "execution_count": null,
   "id": "d9afa271-e324-4289-9a8a-36f2fa4a4cff",
   "metadata": {},
   "outputs": [],
   "source": [
    "# p1 coh\n",
    "in_fp = 'int/20200131T1903_20200212T2211/20200131T1903_20200212T2211'\n",
    "\n",
    "# where the .tif is being save\n",
    "out_fp = '/Users/jtarrico/sierra_isce_multi/insar_geocoded/p1/p1_14d_VV_concomp.tif'"
   ]
  }
 ],
 "metadata": {
  "kernelspec": {
   "display_name": "Python 3 (ipykernel)",
   "language": "python",
   "name": "python3"
  },
  "language_info": {
   "codemirror_mode": {
    "name": "ipython",
    "version": 3
   },
   "file_extension": ".py",
   "mimetype": "text/x-python",
   "name": "python",
   "nbconvert_exporter": "python",
   "pygments_lexer": "ipython3",
   "version": "3.9.18"
  }
 },
 "nbformat": 4,
 "nbformat_minor": 5
}
