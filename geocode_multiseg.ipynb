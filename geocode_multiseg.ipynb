{
 "cells": [
  {
   "cell_type": "code",
   "execution_count": 1,
   "id": "c2a54c21-eea3-46f5-b0bb-191c5e14d103",
   "metadata": {},
   "outputs": [
    {
     "name": "stdout",
     "output_type": "stream",
     "text": [
      "2023-11-29 09:53:54,142 - rasterio.session - DEBUG - Could not import boto3, continuing with reduced functionality.\n"
     ]
    },
    {
     "name": "stderr",
     "output_type": "stream",
     "text": [
      "/Users/jtarrico/miniconda/envs/isce2_env/lib/python3.9/site-packages/tqdm/auto.py:21: TqdmWarning: IProgress not found. Please update jupyter and ipywidgets. See https://ipywidgets.readthedocs.io/en/stable/user_install.html\n",
      "  from .autonotebook import tqdm as notebook_tqdm\n",
      "/Users/jtarrico/miniconda/envs/isce2_env/lib/python3.9/site-packages/scipy/__init__.py:155: UserWarning: A NumPy version >=1.18.5 and <1.25.0 is required for this version of SciPy (detected version 1.26.0\n",
      "  warnings.warn(f\"A NumPy version >={np_minversion} and <{np_maxversion}\"\n"
     ]
    }
   ],
   "source": [
    "%matplotlib inline\n",
    "import isce\n",
    "import os\n",
    "import glob\n",
    "import numpy as np\n",
    "import shutil\n",
    "from osgeo import gdal\n",
    "import matplotlib.pyplot as plt\n",
    "import rasterio as rio\n",
    "from rasterio.plot import show # plotting raster data\n",
    "from rasterio.plot import show_hist #histograms of raster data\n",
    "from uavsar_pytools.georeference import geolocate_uavsar\n",
    "from pathlib import Path\n",
    "from glob import glob\n",
    "from uavsar_pytools.convert.tiff_conversion import read_annotation, array_to_tiff\n",
    "from os.path import join, basename, dirname\n",
    "from rasterio.vrt import WarpedVRT\n",
    "from osgeo import gdal, osr\n"
   ]
  },
  {
   "cell_type": "code",
   "execution_count": 2,
   "id": "e3b090bf-8350-4a2e-8fbb-b8c3473ee0e2",
   "metadata": {},
   "outputs": [],
   "source": [
    "### still need to hand format unw vrt files...."
   ]
  },
  {
   "cell_type": "code",
   "execution_count": 3,
   "id": "7bfee5e7-7678-4522-9849-237d422164b4",
   "metadata": {
    "scrolled": true
   },
   "outputs": [],
   "source": [
    "# define functions\n",
    "\n",
    "# combine llh files\n",
    "def combo_llhs(data_dir: Path, ann_fp: Path):\n",
    "    \"\"\"\n",
    "    Combines segment .llh files into a single combined .llh file and saves as a binary with .vrt.\n",
    "    \"\"\"\n",
    "    assert data_dir.exists()\n",
    "\n",
    "    re_llhs = {'lat':[], 'lon': [], 'height':[]}\n",
    "    for llh in sorted(data_dir.glob('*.llh')):\n",
    "        segment = llh.stem.split('_')[-2].replace('s','')\n",
    "\n",
    "        data = np.fromfile(llh, np.dtype('<f'))\n",
    "        lat, lon, height = data[::3], data[1::3], data[2::3]\n",
    "        for key, da in zip(re_llhs.keys(), [lat, lon, height]):\n",
    "            re_llhs[key].extend(da)\n",
    "                               \n",
    "    full = np.empty(len(re_llhs['lat'])*3, dtype='>f')\n",
    "    full[0::3] = re_llhs['lat']\n",
    "    full[1::3] = re_llhs['lon']\n",
    "    full[2::3] = re_llhs['height']\n",
    "\n",
    "    # read ann file\n",
    "    desc = read_annotation(ann_fp)\n",
    "    print('reading .ann file')\n",
    "\n",
    "    # read in number of rows from each llh file\n",
    "    nrows1 = desc[f'llh_1_2x8.set_rows']['value']\n",
    "    nrows2 = desc[f'llh_2_2x8.set_rows']['value']\n",
    "\n",
    "    # add rows for new reshaping number\n",
    "    nrows_new = nrows1 + nrows2\n",
    "    print('new number of rows = ',nrows_new)\n",
    "    \n",
    "    # read in cols, same fo rboth\n",
    "    ncols = desc[f'llh_1_2x8.set_cols']['value']\n",
    "    dt = np.dtype('<f')\n",
    "\n",
    "    # create empty arrays for lat and lon\n",
    "    lat_array = np.empty((nrows_new, ncols))\n",
    "    lon_array = np.empty((nrows_new, ncols))\n",
    "    \n",
    "    # fill each layer\n",
    "    lat_array = full[::3].reshape(nrows_new, ncols)\n",
    "    lon_array = full[1::3].reshape(nrows_new, ncols)\n",
    "\n",
    "    # define path to bin file\n",
    "    lat_output_file = data_dir / \"multi_seg.lat\"\n",
    "    lon_output_file = data_dir / \"multi_seg.lon\"\n",
    "\n",
    "    #### Save the array to bin file\n",
    "    # lat\n",
    "    lat_array.tofile(lat_output_file)\n",
    "    print('.lat saved')\n",
    "    # lon\n",
    "    lon_array.tofile(lon_output_file)\n",
    "    print('.lon saved')\n",
    "\n",
    "    profile = {\n",
    "    'driver': 'GTiff',\n",
    "    'interleave': 'band',\n",
    "    'tiled': False,\n",
    "    'nodata': 0,\n",
    "    'width': ncols,\n",
    "    'height':nrows_new,\n",
    "    'count':1,\n",
    "    'dtype':'float32'\n",
    "    }\n",
    "    \n",
    "    ### Save out tifs to be converted to vrt\n",
    "    # lat\n",
    "    with rio.open(join(str(lat_output_file) + '.tif'), 'w', **profile) as dst:\n",
    "                dst.write(lat_array.astype(lat_array.dtype), 1)\n",
    "\n",
    "    with rio.open(join(str(lon_output_file) + '.tif'), 'w', **profile) as dst:\n",
    "                dst.write(lon_array.astype(lon_array.dtype), 1)\n",
    "\n",
    "    # Add VRT file for each tif\n",
    "    tifs = glob(join(data_dir, '*.tif')) # list all .llh files\n",
    "    for tiff in tifs: # loop to open and translate .llh to .vrt, and save .vrt using gdal\n",
    "        raster_dataset = gdal.Open(tiff, gdal.GA_ReadOnly) # read in rasters\n",
    "        raster = gdal.Translate(join(data_dir, basename(tiff).replace('.tif','.vrt')), raster_dataset, format = 'VRT', outputType = gdal.GDT_Float32)\n",
    "    raster_dataset = None\n",
    "\n",
    "    print('new .lat and .lon with .vrt have saved')\n",
    "\n",
    "def geocodeUsingGdalWarp_multi(infile, latfile, lonfile, outfile,\n",
    "                         insrs=4326, outsrs=None,\n",
    "                         spacing=None, fmt='GTiff', bounds=None,\n",
    "                         method='near'):\n",
    "    '''\n",
    "    From: Dr. Gareth Funning, UC Riverside, UNAVCO InSAR Short Course\n",
    "    Geocode a swath file using corresponding lat, lon files\n",
    "    '''\n",
    "    sourcexmltmpl = '''    <SimpleSource>\n",
    "      <SourceFilename>{0}</SourceFilename>\n",
    "      <SourceBand>{1}</SourceBand>\n",
    "    </SimpleSource>'''\n",
    "    \n",
    "    driver = gdal.GetDriverByName('VRT')\n",
    "    tempvrtname = 'temp_ele.vrt'\n",
    "    ds = gdal.OpenShared(infile, gdal.GA_ReadOnly)\n",
    "    inds1 = ds.GetRasterBand(1).ReadAsArray()\n",
    "    tempds = driver.Create(tempvrtname, inds1.shape[1], inds1.shape[0], 0)\n",
    "    \n",
    "    #for ii in range(inds.RasterCount):\n",
    "    band = ds.GetRasterBand(1)\n",
    "    tempds.AddBand(band.DataType)\n",
    "    tempds.GetRasterBand(1).SetMetadata({'source_0': sourcexmltmpl.format(infile, 1)}, 'vrt_sources')\n",
    "  \n",
    "    sref = osr.SpatialReference()\n",
    "    sref.ImportFromEPSG(insrs)\n",
    "    srswkt = sref.ExportToWkt()\n",
    "    tempds.SetMetadata({'SRS' : srswkt,\n",
    "                        'X_DATASET': lonfile,\n",
    "                        'X_BAND' : '1',\n",
    "                        'Y_DATASET': latfile,\n",
    "                        'Y_BAND' : '1',\n",
    "                        'PIXEL_OFFSET' : '0',\n",
    "                        'LINE_OFFSET' : '0',\n",
    "                        'PIXEL_STEP' : '1',\n",
    "                        'LINE_STEP' : '1'}, \n",
    "                        'GEOLOCATION')\n",
    "    \n",
    "    band = None\n",
    "    tempds = None \n",
    "    inds = None\n",
    "    \n",
    "    if spacing is None:\n",
    "        spacing = [None, None]\n",
    "    warpOptions = gdal.WarpOptions(format=fmt,\n",
    "                                xRes=spacing[0], yRes=spacing[0],\n",
    "                                dstSRS=outsrs, outputBounds = bounds, dstNodata = -9999,\n",
    "                                resampleAlg=method, geoloc=True)\n",
    "    gdal.Warp(outfile, tempvrtname, options=warpOptions)\n",
    "    os.remove('temp_ele.vrt')"
   ]
  },
  {
   "cell_type": "code",
   "execution_count": 4,
   "id": "2153843c-bc98-4765-ae4c-cd5c439977dc",
   "metadata": {},
   "outputs": [],
   "source": [
    "# start in downloads directory\n",
    "os.chdir('/Users/jtarrico/sierra_isce_multi')"
   ]
  },
  {
   "cell_type": "markdown",
   "id": "ec6959df-76b2-4a76-b6a4-c36cc0819153",
   "metadata": {},
   "source": [
    "# p1"
   ]
  },
  {
   "cell_type": "code",
   "execution_count": null,
   "id": "19739810-0594-4e01-b3b6-f81ec6999b29",
   "metadata": {},
   "outputs": [],
   "source": []
  },
  {
   "cell_type": "code",
   "execution_count": 9,
   "id": "e12c877f-e328-48c6-afcf-b89b0f663294",
   "metadata": {},
   "outputs": [],
   "source": [
    "dir1 = Path('./int/new_llh')\n",
    "ann1 = Path('./int/ann/sierra_17305_20002_001_200131_L090VV_01_BC.ann')"
   ]
  },
  {
   "cell_type": "code",
   "execution_count": null,
   "id": "1d75f277-319d-4565-95a7-9fa59c5e3fda",
   "metadata": {},
   "outputs": [],
   "source": [
    "full1 = combo_llhs(data_dir = dir1, ann_fp = ann1)"
   ]
  },
  {
   "cell_type": "code",
   "execution_count": null,
   "id": "4f10c642-21d6-467c-ba98-7a1fdea9f71d",
   "metadata": {},
   "outputs": [],
   "source": []
  }
 ],
 "metadata": {
  "kernelspec": {
   "display_name": "Python 3 (ipykernel)",
   "language": "python",
   "name": "python3"
  },
  "language_info": {
   "codemirror_mode": {
    "name": "ipython",
    "version": 3
   },
   "file_extension": ".py",
   "mimetype": "text/x-python",
   "name": "python",
   "nbconvert_exporter": "python",
   "pygments_lexer": "ipython3",
   "version": "3.9.18"
  }
 },
 "nbformat": 4,
 "nbformat_minor": 5
}
