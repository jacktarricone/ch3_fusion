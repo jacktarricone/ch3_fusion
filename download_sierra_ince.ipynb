{
 "cells": [
  {
   "cell_type": "code",
   "execution_count": 9,
   "metadata": {},
   "outputs": [],
   "source": [
    "from uavsar_pytools import UavsarScene\n",
    "from uavsar_pytools import UavsarImage"
   ]
  },
  {
   "cell_type": "code",
   "execution_count": 7,
   "metadata": {},
   "outputs": [],
   "source": [
    "directory_to_save = '/Users/jacktarricone/ch3_fusion/rasters/uavsar/'\n",
    "url = 'https://uavsar.asfdaac.alaska.edu/UA_sierra_17305_20016_005_200311_L090_CX_01/sierra_17305_20016_005_200311_L090_CX_01.inc'"
   ]
  },
  {
   "cell_type": "code",
   "execution_count": 8,
   "metadata": {},
   "outputs": [
    {
     "data": {
      "application/vnd.jupyter.widget-view+json": {
       "model_id": "4a43955338ba4de49514b5b0399d82f6",
       "version_major": 2,
       "version_minor": 0
      },
      "text/plain": [
       "Downloading sierra_17305_20016_005_200311_L090_CX_01.inc:   0%|          | 0.00/377M [00:00<?, ?B/s]"
      ]
     },
     "metadata": {},
     "output_type": "display_data"
    },
    {
     "data": {
      "application/vnd.jupyter.widget-view+json": {
       "model_id": "92d53a85eaea4841959a26740b67ba0b",
       "version_major": 2,
       "version_minor": 0
      },
      "text/plain": [
       "Downloading sierra_17305_20016_005_200311_L090_CX_01.ann:   0%|          | 0.00/29.0k [00:00<?, ?B/s]"
      ]
     },
     "metadata": {},
     "output_type": "display_data"
    }
   ],
   "source": [
    "img = UavsarImage(url = url, work_dir = directory_to_save)\n",
    "img.url_to_tiff()"
   ]
  },
  {
   "cell_type": "code",
   "execution_count": 10,
   "metadata": {},
   "outputs": [],
   "source": [
    "url2 = 'https://datapool.asf.alaska.edu/INTERFEROMETRY_GRD/UA/sierra_17305_20014-000_20016-005_0014d_s01_L090_01_int_grd.zip'"
   ]
  },
  {
   "cell_type": "code",
   "execution_count": 11,
   "metadata": {},
   "outputs": [
    {
     "data": {
      "application/vnd.jupyter.widget-view+json": {
       "model_id": "963d0a4e86824072bd03d61af7b58ae5",
       "version_major": 2,
       "version_minor": 0
      },
      "text/plain": [
       "Downloading sierra_17305_20014-000_20016-005_0014d_s01_L090_01_int_grd.zip:   0%|          | 0.00/3.12G [00:00…"
      ]
     },
     "metadata": {},
     "output_type": "display_data"
    },
    {
     "name": "stderr",
     "output_type": "stream",
     "text": [
      "Unzipping: 100%|█████████████████████████████████████████████████████████████████| 20/20 [00:41<00:00,  2.09s/file]\n"
     ]
    }
   ],
   "source": [
    "scene = UavsarScene(url = url2, work_dir = directory_to_save)\n",
    "scene.url_to_tiffs()"
   ]
  },
  {
   "cell_type": "code",
   "execution_count": null,
   "metadata": {},
   "outputs": [],
   "source": []
  }
 ],
 "metadata": {
  "interpreter": {
   "hash": "f6a401748561ccf4b02a2d1eb7d5bf189979b8ae4107867c67e9029bf7aa348c"
  },
  "kernelspec": {
   "display_name": "isce2_env",
   "language": "python",
   "name": "isce2_env"
  },
  "language_info": {
   "codemirror_mode": {
    "name": "ipython",
    "version": 3
   },
   "file_extension": ".py",
   "mimetype": "text/x-python",
   "name": "python",
   "nbconvert_exporter": "python",
   "pygments_lexer": "ipython3",
   "version": "3.9.13"
  }
 },
 "nbformat": 4,
 "nbformat_minor": 4
}
