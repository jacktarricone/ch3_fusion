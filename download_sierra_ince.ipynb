{
 "cells": [
  {
   "cell_type": "code",
   "execution_count": 18,
   "metadata": {},
   "outputs": [],
   "source": [
    "from uavsar_pytools import UavsarScene\n",
    "from uavsar_pytools import UavsarImage"
   ]
  },
  {
   "cell_type": "code",
   "execution_count": 19,
   "metadata": {},
   "outputs": [],
   "source": [
    "# inc south data dl info\n",
    "directory_to_save = '/Users/jtarrico/ch7_sar_model/rasters/'\n",
    "url = 'https://downloaduav.jpl.nasa.gov/Release2u/peeler_31619_20008-003_20013-003_0007d_s01_L090_03/peeler_31619_20008-003_20013-003_0007d_s01_L090VV_03.unw.grd'"
   ]
  },
  {
   "cell_type": "code",
   "execution_count": 3,
   "metadata": {},
   "outputs": [
    {
     "name": "stderr",
     "output_type": "stream",
     "text": [
      "Downloading peeler_31619_20008-003_20013-003_0007d_s01_L090VV_03.unw.grd: 100%|██████████| 224M/224M [00:22<00:00, 10.1MB/s]\n",
      "Downloading peeler_31619_20008-003_20013-003_0007d_s01_L090VV_03.ann: 100%|█████████████| 30.5k/30.5k [00:00<00:00, 386kB/s]\n"
     ]
    }
   ],
   "source": [
    "# download\n",
    "img = UavsarImage(url = url, work_dir = directory_to_save)\n",
    "img.url_to_tiff()"
   ]
  },
  {
   "cell_type": "code",
   "execution_count": 6,
   "metadata": {},
   "outputs": [],
   "source": [
    "url2 = 'https://downloaduav.jpl.nasa.gov/Release2u/peeler_31619_20008-003_20013-003_0007d_s01_L090_03/peeler_31619_20008-003_20013-003_0007d_s01_L090VV_03.cor.grd'"
   ]
  },
  {
   "cell_type": "code",
   "execution_count": 7,
   "metadata": {},
   "outputs": [
    {
     "name": "stderr",
     "output_type": "stream",
     "text": [
      "Downloading peeler_31619_20008-003_20013-003_0007d_s01_L090VV_03.cor.grd: 100%|██████████| 224M/224M [00:17<00:00, 13.1MB/s]\n",
      "Downloading peeler_31619_20008-003_20013-003_0007d_s01_L090VV_03.ann: 100%|█████████████| 30.5k/30.5k [00:00<00:00, 166kB/s]\n"
     ]
    }
   ],
   "source": [
    "# download\n",
    "img2 = UavsarImage(url = url2, work_dir = directory_to_save)\n",
    "img2.url_to_tiff()"
   ]
  },
  {
   "cell_type": "code",
   "execution_count": 17,
   "metadata": {},
   "outputs": [],
   "source": [
    "url3 = 'https://uavsar.asfdaac.alaska.edu/UA_peeler_31619_20017_008_200312_L090_CX_01/peeler_31619_20017_008_200312_L090_CX_01.inc'"
   ]
  },
  {
   "cell_type": "code",
   "execution_count": 20,
   "metadata": {},
   "outputs": [
    {
     "name": "stderr",
     "output_type": "stream",
     "text": [
      "Downloading peeler_31619_20017_008_200312_L090_CX_01.inc: 100%|██████████████████████████| 284M/284M [00:29<00:00, 9.61MB/s]\n",
      "Downloading peeler_31619_20017_008_200312_L090_CX_01.ann: 100%|████████████████████████| 29.0k/29.0k [00:00<00:00, 9.55MB/s]\n"
     ]
    }
   ],
   "source": [
    "# download\n",
    "img3 = UavsarImage(url = url3, work_dir = directory_to_save)\n",
    "img3.url_to_tiff()"
   ]
  },
  {
   "cell_type": "code",
   "execution_count": 21,
   "metadata": {},
   "outputs": [],
   "source": [
    "# feb 19 - 26 35402 (north) pair link\n",
    "url4 = 'https://downloaduav.jpl.nasa.gov/Release2u/peeler_31619_20005-006_20008-003_0007d_s01_L090_03/peeler_31619_20005-006_20008-003_0007d_s01_L090VV_03.unw.grd'"
   ]
  },
  {
   "cell_type": "code",
   "execution_count": 22,
   "metadata": {},
   "outputs": [
    {
     "name": "stderr",
     "output_type": "stream",
     "text": [
      "Downloading peeler_31619_20005-006_20008-003_0007d_s01_L090VV_03.unw.grd: 100%|███████| 224M/224M [01:30<00:00, 2.48MB/s]\n",
      "Downloading peeler_31619_20005-006_20008-003_0007d_s01_L090VV_03.ann: 100%|██████████| 30.5k/30.5k [00:00<00:00, 168kB/s]\n"
     ]
    }
   ],
   "source": [
    "# download\n",
    "img4 = UavsarImage(url = url4, work_dir = directory_to_save)\n",
    "img4.url_to_tiff()"
   ]
  },
  {
   "cell_type": "code",
   "execution_count": null,
   "metadata": {},
   "outputs": [],
   "source": [
    "# feb 26 - march 11th 17305 (south) pair link\n",
    "url2 = 'https://datapool.asf.alaska.edu/INTERFEROMETRY_GRD/UA/sierra_17305_20014-000_20016-005_0014d_s01_L090_01_int_grd.zip'"
   ]
  },
  {
   "cell_type": "code",
   "execution_count": null,
   "metadata": {},
   "outputs": [],
   "source": [
    "scene = UavsarScene(url = url2, work_dir = directory_to_save)\n",
    "scene.url_to_tiffs()"
   ]
  },
  {
   "cell_type": "code",
   "execution_count": 14,
   "metadata": {},
   "outputs": [],
   "source": [
    "# feb 26 - march 11th 35402 (north) pair link\n",
    "url3 = 'https://downloaduav.jpl.nasa.gov/Release2f/peeler_31619_20013-003_20017-008_0015d_s01_L090_03/peeler_31619_20013-003_20017-008_0015d_s01_L090VV_03.cor.grd'"
   ]
  },
  {
   "cell_type": "code",
   "execution_count": 16,
   "metadata": {},
   "outputs": [
    {
     "name": "stderr",
     "output_type": "stream",
     "text": [
      "Downloading peeler_31619_20013-003_20017-008_0015d_s01_L090VV_03.cor.grd: 100%|██████████| 304M/304M [00:49<00:00, 6.16MB/s]\n",
      "Downloading peeler_31619_20013-003_20017-008_0015d_s01_L090VV_03.ann: 100%|█████████████| 29.8k/29.8k [00:00<00:00, 382kB/s]\n"
     ]
    }
   ],
   "source": [
    "scene = UavsarImage(url = url3, work_dir = directory_to_save)\n",
    "scene.url_to_tiff()"
   ]
  },
  {
   "cell_type": "code",
   "execution_count": 5,
   "metadata": {},
   "outputs": [],
   "source": [
    "# feb 19 - 26 35402 (north) pair link\n",
    "url4 = 'https://downloaduav.jpl.nasa.gov/Release2u/peeler_31619_20005-006_20008-003_0007d_s01_L090_03/peeler_31619_20005-006_20008-003_0007d_s01_L090VV_03.unw.grd'"
   ]
  },
  {
   "cell_type": "code",
   "execution_count": 6,
   "metadata": {},
   "outputs": [
    {
     "data": {
      "application/vnd.jupyter.widget-view+json": {
       "model_id": "c93eb077f5c24f9d8bbdebad64204683",
       "version_major": 2,
       "version_minor": 0
      },
      "text/plain": [
       "Downloading sierra_35402_20009-024_20014-001_0007d_s01_L090_01_int_grd.zip:   0%|          | 0.00/2.93G [00:00…"
      ]
     },
     "metadata": {},
     "output_type": "display_data"
    },
    {
     "name": "stderr",
     "output_type": "stream",
     "text": [
      "Unzipping: 100%|██████████████████████████████| 20/20 [00:35<00:00,  1.79s/file]\n"
     ]
    }
   ],
   "source": [
    "scene3 = UavsarScene(url = url4, work_dir = directory_to_save)\n",
    "scene3.url_to_tiffs()"
   ]
  },
  {
   "cell_type": "code",
   "execution_count": 7,
   "metadata": {},
   "outputs": [],
   "source": [
    "# feb 19 - 26 17305 (south) pair link\n",
    "url5 = 'https://datapool.asf.alaska.edu/INTERFEROMETRY_GRD/UA/sierra_35402_20009-024_20014-001_0007d_s01_L090_01_int_grd.zip'"
   ]
  },
  {
   "cell_type": "code",
   "execution_count": 8,
   "metadata": {},
   "outputs": [
    {
     "name": "stderr",
     "output_type": "stream",
     "text": [
      "INFO:uavsar_pytools.convert.file_control:No files found to unzip. Check if polarizations exist.\n"
     ]
    }
   ],
   "source": [
    "scene4 = UavsarScene(url = url5, work_dir = directory_to_save)\n",
    "scene4.url_to_tiffs()"
   ]
  },
  {
   "cell_type": "code",
   "execution_count": 9,
   "metadata": {},
   "outputs": [],
   "source": [
    "# feb 12 - 19 35402 (north) pair link\n",
    "url6 = 'https://datapool.asf.alaska.edu/INTERFEROMETRY_GRD/UA/sierra_35402_20006-003_20009-024_0007d_s01_L090_01_int_grd.zip'"
   ]
  },
  {
   "cell_type": "code",
   "execution_count": 10,
   "metadata": {},
   "outputs": [
    {
     "data": {
      "application/vnd.jupyter.widget-view+json": {
       "model_id": "7a347528e8604bbcb52ab7477a6394d7",
       "version_major": 2,
       "version_minor": 0
      },
      "text/plain": [
       "Downloading sierra_35402_20006-003_20009-024_0007d_s01_L090_01_int_grd.zip:   0%|          | 0.00/2.90G [00:00…"
      ]
     },
     "metadata": {},
     "output_type": "display_data"
    },
    {
     "name": "stderr",
     "output_type": "stream",
     "text": [
      "Unzipping: 100%|██████████████████████████████| 20/20 [00:38<00:00,  1.91s/file]\n"
     ]
    }
   ],
   "source": [
    "scene5 = UavsarScene(url = url6, work_dir = directory_to_save)\n",
    "scene5.url_to_tiffs()"
   ]
  },
  {
   "cell_type": "code",
   "execution_count": null,
   "metadata": {},
   "outputs": [],
   "source": []
  }
 ],
 "metadata": {
  "interpreter": {
   "hash": "f6a401748561ccf4b02a2d1eb7d5bf189979b8ae4107867c67e9029bf7aa348c"
  },
  "kernelspec": {
   "display_name": "Python 3 (ipykernel)",
   "language": "python",
   "name": "python3"
  },
  "language_info": {
   "codemirror_mode": {
    "name": "ipython",
    "version": 3
   },
   "file_extension": ".py",
   "mimetype": "text/x-python",
   "name": "python",
   "nbconvert_exporter": "python",
   "pygments_lexer": "ipython3",
   "version": "3.12.3"
  }
 },
 "nbformat": 4,
 "nbformat_minor": 4
}
