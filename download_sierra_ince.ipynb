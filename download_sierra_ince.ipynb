{
 "cells": [
  {
   "cell_type": "code",
   "execution_count": 1,
   "metadata": {},
   "outputs": [],
   "source": [
    "from uavsar_pytools import UavsarScene\n",
    "from uavsar_pytools import UavsarImage"
   ]
  },
  {
   "cell_type": "code",
   "execution_count": 2,
   "metadata": {},
   "outputs": [],
   "source": [
    "# inc south data dl info\n",
    "directory_to_save = '/Users/jacktarricone/ch3_fusion/rasters/uavsar/'\n",
    "url = 'https://uavsar.asfdaac.alaska.edu/UA_sierra_17305_20016_005_200311_L090_CX_01/sierra_17305_20016_005_200311_L090_CX_01.inc'"
   ]
  },
  {
   "cell_type": "code",
   "execution_count": null,
   "metadata": {},
   "outputs": [],
   "source": [
    "# download\n",
    "img = UavsarImage(url = url, work_dir = directory_to_save)\n",
    "img.url_to_tiff()"
   ]
  },
  {
   "cell_type": "code",
   "execution_count": 3,
   "metadata": {},
   "outputs": [],
   "source": [
    "# link for north facing line\n",
    "url_inc = 'https://uavsar.asfdaac.alaska.edu/UA_sierra_35402_20016_006_200311_L090_CX_01/sierra_35402_20016_006_200311_L090_CX_01.inc'"
   ]
  },
  {
   "cell_type": "code",
   "execution_count": 4,
   "metadata": {},
   "outputs": [
    {
     "data": {
      "application/vnd.jupyter.widget-view+json": {
       "model_id": "9c728fb0848549499d1365700afeba8b",
       "version_major": 2,
       "version_minor": 0
      },
      "text/plain": [
       "Downloading sierra_35402_20016_006_200311_L090_CX_01.inc:   0%|          | 0.00/368M [00:00<?, ?B/s]"
      ]
     },
     "metadata": {},
     "output_type": "display_data"
    },
    {
     "data": {
      "application/vnd.jupyter.widget-view+json": {
       "model_id": "3a8ef6c2d6994960be9dff0be1db4a75",
       "version_major": 2,
       "version_minor": 0
      },
      "text/plain": [
       "Downloading sierra_35402_20016_006_200311_L090_CX_01.ann:   0%|          | 0.00/29.0k [00:00<?, ?B/s]"
      ]
     },
     "metadata": {},
     "output_type": "display_data"
    }
   ],
   "source": [
    "# download\n",
    "img2 = UavsarImage(url = url_inc, work_dir = directory_to_save)\n",
    "img2.url_to_tiff()"
   ]
  },
  {
   "cell_type": "code",
   "execution_count": null,
   "metadata": {},
   "outputs": [],
   "source": [
    "# feb 26 - march 11th 17305 (south) pair link\n",
    "url2 = 'https://datapool.asf.alaska.edu/INTERFEROMETRY_GRD/UA/sierra_17305_20014-000_20016-005_0014d_s01_L090_01_int_grd.zip'"
   ]
  },
  {
   "cell_type": "code",
   "execution_count": null,
   "metadata": {},
   "outputs": [],
   "source": [
    "scene = UavsarScene(url = url2, work_dir = directory_to_save)\n",
    "scene.url_to_tiffs()"
   ]
  },
  {
   "cell_type": "code",
   "execution_count": 2,
   "metadata": {},
   "outputs": [],
   "source": [
    "# feb 26 - march 11th 35402 (north) pair link\n",
    "url3 = 'https://datapool.asf.alaska.edu/INTERFEROMETRY_GRD/UA/sierra_35402_20014-001_20016-006_0014d_s01_L090_01_int_grd.zip'"
   ]
  },
  {
   "cell_type": "code",
   "execution_count": 4,
   "metadata": {},
   "outputs": [
    {
     "data": {
      "application/vnd.jupyter.widget-view+json": {
       "model_id": "c454d81d388843b8b3c187e820728a31",
       "version_major": 2,
       "version_minor": 0
      },
      "text/plain": [
       "Downloading sierra_35402_20014-001_20016-006_0014d_s01_L090_01_int_grd.zip:   0%|          | 0.00/2.39G [00:00…"
      ]
     },
     "metadata": {},
     "output_type": "display_data"
    },
    {
     "name": "stderr",
     "output_type": "stream",
     "text": [
      "Unzipping: 100%|██████████████████████████████| 16/16 [00:30<00:00,  1.89s/file]\n"
     ]
    }
   ],
   "source": [
    "scene2 = UavsarScene(url = url3, work_dir = directory_to_save)\n",
    "scene2.url_to_tiffs()"
   ]
  },
  {
   "cell_type": "code",
   "execution_count": 5,
   "metadata": {},
   "outputs": [],
   "source": [
    "# feb 19 - 26 35402 (north) pair link\n",
    "url4 = 'https://datapool.asf.alaska.edu/INTERFEROMETRY_GRD/UA/sierra_35402_20009-024_20014-001_0007d_s01_L090_01_int_grd.zip'"
   ]
  },
  {
   "cell_type": "code",
   "execution_count": 6,
   "metadata": {},
   "outputs": [
    {
     "data": {
      "application/vnd.jupyter.widget-view+json": {
       "model_id": "c93eb077f5c24f9d8bbdebad64204683",
       "version_major": 2,
       "version_minor": 0
      },
      "text/plain": [
       "Downloading sierra_35402_20009-024_20014-001_0007d_s01_L090_01_int_grd.zip:   0%|          | 0.00/2.93G [00:00…"
      ]
     },
     "metadata": {},
     "output_type": "display_data"
    },
    {
     "name": "stderr",
     "output_type": "stream",
     "text": [
      "Unzipping: 100%|██████████████████████████████| 20/20 [00:35<00:00,  1.79s/file]\n"
     ]
    }
   ],
   "source": [
    "scene3 = UavsarScene(url = url4, work_dir = directory_to_save)\n",
    "scene3.url_to_tiffs()"
   ]
  },
  {
   "cell_type": "code",
   "execution_count": 7,
   "metadata": {},
   "outputs": [],
   "source": [
    "# feb 19 - 26 17305 (south) pair link\n",
    "url5 = 'https://datapool.asf.alaska.edu/INTERFEROMETRY_GRD/UA/sierra_35402_20009-024_20014-001_0007d_s01_L090_01_int_grd.zip'"
   ]
  },
  {
   "cell_type": "code",
   "execution_count": 8,
   "metadata": {},
   "outputs": [
    {
     "name": "stderr",
     "output_type": "stream",
     "text": [
      "INFO:uavsar_pytools.convert.file_control:No files found to unzip. Check if polarizations exist.\n"
     ]
    }
   ],
   "source": [
    "scene4 = UavsarScene(url = url5, work_dir = directory_to_save)\n",
    "scene4.url_to_tiffs()"
   ]
  },
  {
   "cell_type": "code",
   "execution_count": 9,
   "metadata": {},
   "outputs": [],
   "source": [
    "# feb 12 - 19 35402 (north) pair link\n",
    "url6 = 'https://datapool.asf.alaska.edu/INTERFEROMETRY_GRD/UA/sierra_35402_20006-003_20009-024_0007d_s01_L090_01_int_grd.zip'"
   ]
  },
  {
   "cell_type": "code",
   "execution_count": 10,
   "metadata": {},
   "outputs": [
    {
     "data": {
      "application/vnd.jupyter.widget-view+json": {
       "model_id": "7a347528e8604bbcb52ab7477a6394d7",
       "version_major": 2,
       "version_minor": 0
      },
      "text/plain": [
       "Downloading sierra_35402_20006-003_20009-024_0007d_s01_L090_01_int_grd.zip:   0%|          | 0.00/2.90G [00:00…"
      ]
     },
     "metadata": {},
     "output_type": "display_data"
    },
    {
     "name": "stderr",
     "output_type": "stream",
     "text": [
      "Unzipping: 100%|██████████████████████████████| 20/20 [00:38<00:00,  1.91s/file]\n"
     ]
    }
   ],
   "source": [
    "scene5 = UavsarScene(url = url6, work_dir = directory_to_save)\n",
    "scene5.url_to_tiffs()"
   ]
  },
  {
   "cell_type": "code",
   "execution_count": null,
   "metadata": {},
   "outputs": [],
   "source": []
  }
 ],
 "metadata": {
  "interpreter": {
   "hash": "f6a401748561ccf4b02a2d1eb7d5bf189979b8ae4107867c67e9029bf7aa348c"
  },
  "kernelspec": {
   "display_name": "isce2_env",
   "language": "python",
   "name": "isce2_env"
  },
  "language_info": {
   "codemirror_mode": {
    "name": "ipython",
    "version": 3
   },
   "file_extension": ".py",
   "mimetype": "text/x-python",
   "name": "python",
   "nbconvert_exporter": "python",
   "pygments_lexer": "ipython3",
   "version": "3.9.13"
  }
 },
 "nbformat": 4,
 "nbformat_minor": 4
}
