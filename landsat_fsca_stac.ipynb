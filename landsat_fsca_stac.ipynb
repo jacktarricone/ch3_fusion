{
 "cells": [
  {
   "cell_type": "markdown",
   "id": "e35952c4-cb9b-4d9e-bfa4-8bf31b13c9e0",
   "metadata": {},
   "source": [
    "---\n",
    "title: USGS Landsat Cloud Data - Search and Access\n",
    "---"
   ]
  },
  {
   "cell_type": "code",
   "execution_count": 1,
   "id": "9218a60b-4d0a-4b22-9f84-e7cde73f0a28",
   "metadata": {},
   "outputs": [],
   "source": [
    "#import hvplot.xarray\n",
    "import rasterio as rio\n",
    "from rasterio.session import AWSSession\n",
    "import rioxarray\n",
    "import boto3\n",
    "import json\n",
    "import dask\n",
    "from pystac_client import Client"
   ]
  },
  {
   "cell_type": "code",
   "execution_count": 3,
   "id": "2ec228f7-4336-4dd9-a85d-50c6b992e279",
   "metadata": {},
   "outputs": [],
   "source": [
    "# import hvplot"
   ]
  },
  {
   "cell_type": "markdown",
   "id": "13f9cf35-0d2f-4125-b063-f11fa8c3826c",
   "metadata": {},
   "source": [
    "Seach for LS Scenes using STAC API"
   ]
  },
  {
   "cell_type": "code",
   "execution_count": 4,
   "id": "f3931b89-7c37-4f96-b2a2-93fbf1028fb1",
   "metadata": {},
   "outputs": [],
   "source": [
    "stac_url = 'https://landsatlook.usgs.gov/stac-server'"
   ]
  },
  {
   "cell_type": "code",
   "execution_count": 5,
   "id": "8a5693f9-6fad-4e1d-b965-cf62f6d17623",
   "metadata": {},
   "outputs": [],
   "source": [
    "ls_cat = Client.open(stac_url)"
   ]
  },
  {
   "cell_type": "code",
   "execution_count": 6,
   "id": "deb52f7f-f687-4c9c-828d-beaab7cdfd92",
   "metadata": {},
   "outputs": [],
   "source": [
    "#ls_cat"
   ]
  },
  {
   "cell_type": "code",
   "execution_count": 7,
   "id": "4e49dcaa-0e5b-42c5-9aa6-873fa664688d",
   "metadata": {},
   "outputs": [
    {
     "data": {
      "text/plain": [
       "['Landsat Collection 2 Level-2 UTM Surface Reflectance (SR) Product --- landsat-c2l2-sr',\n",
       " 'Landsat Collection 2 Level-2 UTM Surface Temperature (ST) Product --- landsat-c2l2-st',\n",
       " 'Landsat Collection 2 Analysis Ready Data (ARD) Level-2 UTM Surface Temperature (ST) Product --- landsat-c2ard-st',\n",
       " 'Landsat Collection 2 Level-2 Albers Top of Atmosphere Brightness Temperature (BT) Product --- landsat-c2l2alb-bt',\n",
       " 'Landsat Collection 2 Level-3 Fractional Snow Covered Area (fSCA) Product --- landsat-c2l3-fsca',\n",
       " 'Landsat Collection 2 Analysis Ready Data (ARD) Level-2 UTM Top of Atmosphere Brightness Temperature (BT) Product --- landsat-c2ard-bt',\n",
       " 'Landsat Collection 2 Level-1 Product --- landsat-c2l1',\n",
       " 'Landsat Collection 2 Level-3 Burned Area (BA) Product --- landsat-c2l3-ba',\n",
       " 'Landsat Collection 2 Level-2 Albers Surface Temperature (ST) Product --- landsat-c2l2alb-st',\n",
       " 'Landsat Collection 2 Analysis Ready Data (ARD) Level-2 UTM Surface Reflectance (SR) Product --- landsat-c2ard-sr',\n",
       " 'Landsat Collection 2 Level-2 Albers Surface Reflectance (SR) Product --- landsat-c2l2alb-sr',\n",
       " 'Landsat Collection 2 Level-2 Albers Top of Atmosphere (TA) Reflectance Product --- landsat-c2l2alb-ta',\n",
       " 'Landsat Collection 2 Level-3 Dynamic Surface Water Extent (DSWE) Product --- landsat-c2l3-dswe',\n",
       " 'Landsat Collection 2 Analysis Ready Data (ARD) Level-2 UTM Top of Atmosphere (TA) Reflectance Product --- landsat-c2ard-ta']"
      ]
     },
     "execution_count": 7,
     "metadata": {},
     "output_type": "execute_result"
    }
   ],
   "source": [
    "[f'{x.title} --- {x.id}' for x in ls_cat.get_children()]"
   ]
  },
  {
   "cell_type": "code",
   "execution_count": 8,
   "id": "b1ed709c-3d94-43d2-bd31-5044129ae1dc",
   "metadata": {},
   "outputs": [
    {
     "data": {
      "text/plain": [
       "[<CollectionClient id=landsat-c2l2-sr>,\n",
       " <CollectionClient id=landsat-c2l2-st>,\n",
       " <CollectionClient id=landsat-c2ard-st>,\n",
       " <CollectionClient id=landsat-c2l2alb-bt>,\n",
       " <CollectionClient id=landsat-c2l3-fsca>,\n",
       " <CollectionClient id=landsat-c2ard-bt>,\n",
       " <CollectionClient id=landsat-c2l1>,\n",
       " <CollectionClient id=landsat-c2l3-ba>,\n",
       " <CollectionClient id=landsat-c2l2alb-st>,\n",
       " <CollectionClient id=landsat-c2ard-sr>,\n",
       " <CollectionClient id=landsat-c2l2alb-sr>,\n",
       " <CollectionClient id=landsat-c2l2alb-ta>,\n",
       " <CollectionClient id=landsat-c2l3-dswe>,\n",
       " <CollectionClient id=landsat-c2ard-ta>]"
      ]
     },
     "execution_count": 8,
     "metadata": {},
     "output_type": "execute_result"
    }
   ],
   "source": [
    "list(ls_cat.get_all_collections())"
   ]
  },
  {
   "cell_type": "code",
   "execution_count": 9,
   "id": "e9986e77-015f-4ee1-b446-ccfd73f8a544",
   "metadata": {},
   "outputs": [],
   "source": [
    "bbox = [-120,37,-119,38]"
   ]
  },
  {
   "cell_type": "code",
   "execution_count": 10,
   "id": "fb9cd396-065e-4c96-a5bd-aa72aad6b6b6",
   "metadata": {},
   "outputs": [
    {
     "data": {
      "text/plain": [
       "'2019-10-01T00:00:00Z/2020-09-30T23:59:59Z'"
      ]
     },
     "execution_count": 10,
     "metadata": {},
     "output_type": "execute_result"
    }
   ],
   "source": [
    "datetime_range = '2019-10-01T00:00:00Z/2020-09-30T23:59:59Z'\n",
    "datetime_range"
   ]
  },
  {
   "cell_type": "code",
   "execution_count": 11,
   "id": "e3ce455f-5142-4a1c-9dc7-67d8aac49e63",
   "metadata": {},
   "outputs": [],
   "source": [
    "search = ls_cat.search(\n",
    "    collections = ['landsat-c2l3-fsca'],       # Landsat C2 L1 - Copied ID from above. Must be in a list\n",
    "    bbox = bbox,                          # Specified above\n",
    "    datetime = datetime_range             # Specified above\n",
    ")"
   ]
  },
  {
   "cell_type": "code",
   "execution_count": 12,
   "id": "9b18e3f9-0b0a-4d0b-be90-b95c42cffda6",
   "metadata": {},
   "outputs": [
    {
     "data": {
      "text/plain": [
       "178"
      ]
     },
     "execution_count": 12,
     "metadata": {},
     "output_type": "execute_result"
    }
   ],
   "source": [
    "search.matched()"
   ]
  },
  {
   "cell_type": "markdown",
   "id": "7ceb197f-0626-47fd-ab71-33821dcd0c51",
   "metadata": {},
   "source": [
    "Print first 5 item ids and associated datetime"
   ]
  },
  {
   "cell_type": "code",
   "execution_count": 13,
   "id": "409783d1-9879-4db1-8782-8e234f249acb",
   "metadata": {},
   "outputs": [
    {
     "data": {
      "text/plain": [
       "['LC08_CU_003010_20200928_20210504_02_SNOW --- 2020-09-28 18:34:13.371343+00:00',\n",
       " 'LC08_CU_003009_20200928_20210504_02_SNOW --- 2020-09-28 18:34:01.425823+00:00',\n",
       " 'LE07_CU_003010_20200927_20210504_02_SNOW --- 2020-09-27 18:05:11.101380+00:00',\n",
       " 'LE07_CU_003009_20200927_20210504_02_SNOW --- 2020-09-27 18:04:47.213913+00:00',\n",
       " 'LE07_CU_003010_20200920_20210504_02_SNOW --- 2020-09-20 17:59:27.072009+00:00']"
      ]
     },
     "execution_count": 13,
     "metadata": {},
     "output_type": "execute_result"
    }
   ],
   "source": [
    "items = list(search.get_items())\n",
    "[f'{x.id} --- {x.datetime}' for x in items][:5]"
   ]
  },
  {
   "cell_type": "code",
   "execution_count": 14,
   "id": "b3552f0b-a530-4b80-ab37-42df474e5772",
   "metadata": {
    "tags": []
   },
   "outputs": [],
   "source": [
    "http_links = []\n",
    "\n",
    "for i in items:\n",
    "    for a in i.assets.values():\n",
    "        a_link = json.loads(json.dumps(a.to_dict()))\n",
    "        if a_link['href'].endswith('.TIF'):\n",
    "            http_links.append(a_link['href'])\n",
    "        "
   ]
  },
  {
   "cell_type": "code",
   "execution_count": 15,
   "id": "046008c2-ab2f-4ff1-817e-bf98b89ab73b",
   "metadata": {},
   "outputs": [
    {
     "data": {
      "text/plain": [
       "890"
      ]
     },
     "execution_count": 15,
     "metadata": {},
     "output_type": "execute_result"
    }
   ],
   "source": [
    "len(http_links)"
   ]
  },
  {
   "cell_type": "code",
   "execution_count": 16,
   "id": "e0a4c165-e86a-40bb-88b1-66d774f23949",
   "metadata": {},
   "outputs": [
    {
     "data": {
      "text/plain": [
       "['https://landsatlook.usgs.gov/level-3/collection02/SNOW/2020/CU/003/010/LC08_CU_003010_20200928_20210504_02_SNOW/LC08_CU_003010_20200928_20210504_02_VIEWABLE_SNOW.TIF',\n",
       " 'https://landsatlook.usgs.gov/level-3/collection02/SNOW/2020/CU/003/010/LC08_CU_003010_20200928_20210504_02_SNOW/LC08_CU_003010_20200928_20210504_02_GROUND_SNOW.TIF',\n",
       " 'https://landsatlook.usgs.gov/level-3/collection02/SNOW/2020/CU/003/010/LC08_CU_003010_20200928_20210504_02_SNOW/LC08_CU_003010_20200928_20210504_02_SCAG_SHADE.TIF',\n",
       " 'https://landsatlook.usgs.gov/level-3/collection02/SNOW/2020/CU/003/010/LC08_CU_003010_20200928_20210504_02_SNOW/LC08_CU_003010_20200928_20210504_02_SCAG_MASK.TIF',\n",
       " 'https://landsatlook.usgs.gov/level-3/collection02/SNOW/2020/CU/003/010/LC08_CU_003010_20200928_20210504_02_SNOW/LC08_CU_003010_20200928_20210504_02_FSCA_QA.TIF',\n",
       " 'https://landsatlook.usgs.gov/level-3/collection02/SNOW/2020/CU/003/009/LC08_CU_003009_20200928_20210504_02_SNOW/LC08_CU_003009_20200928_20210504_02_VIEWABLE_SNOW.TIF',\n",
       " 'https://landsatlook.usgs.gov/level-3/collection02/SNOW/2020/CU/003/009/LC08_CU_003009_20200928_20210504_02_SNOW/LC08_CU_003009_20200928_20210504_02_GROUND_SNOW.TIF',\n",
       " 'https://landsatlook.usgs.gov/level-3/collection02/SNOW/2020/CU/003/009/LC08_CU_003009_20200928_20210504_02_SNOW/LC08_CU_003009_20200928_20210504_02_SCAG_SHADE.TIF',\n",
       " 'https://landsatlook.usgs.gov/level-3/collection02/SNOW/2020/CU/003/009/LC08_CU_003009_20200928_20210504_02_SNOW/LC08_CU_003009_20200928_20210504_02_SCAG_MASK.TIF',\n",
       " 'https://landsatlook.usgs.gov/level-3/collection02/SNOW/2020/CU/003/009/LC08_CU_003009_20200928_20210504_02_SNOW/LC08_CU_003009_20200928_20210504_02_FSCA_QA.TIF']"
      ]
     },
     "execution_count": 16,
     "metadata": {},
     "output_type": "execute_result"
    }
   ],
   "source": [
    "http_links[:10]"
   ]
  },
  {
   "cell_type": "code",
   "execution_count": 17,
   "id": "7c778e61-a9dd-4768-ab9a-c25db11a49e4",
   "metadata": {},
   "outputs": [],
   "source": [
    "s3_links = []\n",
    "\n",
    "for i in items:\n",
    "    for a in i.assets.values():\n",
    "        a_link = json.loads(json.dumps(a.to_dict()))\n",
    "        if 'alternate' in a_link:\n",
    "            s3_asset = a_link['alternate']['s3']['href']\n",
    "            if s3_asset.endswith('.TIF'):\n",
    "                s3_links.append(s3_asset)"
   ]
  },
  {
   "cell_type": "code",
   "execution_count": 18,
   "id": "dcbaf33c-8681-44cb-987d-ef4f5e39f1e1",
   "metadata": {},
   "outputs": [
    {
     "data": {
      "text/plain": [
       "890"
      ]
     },
     "execution_count": 18,
     "metadata": {},
     "output_type": "execute_result"
    }
   ],
   "source": [
    "len(s3_links)"
   ]
  },
  {
   "cell_type": "code",
   "execution_count": 32,
   "id": "15720ea6-8683-4696-87c5-d25737296a13",
   "metadata": {},
   "outputs": [
    {
     "data": {
      "text/plain": [
       "['s3://usgs-landsat-level-3/collection02/SNOW/2020/CU/003/010/LC08_CU_003010_20200928_20210504_02_SNOW/LC08_CU_003010_20200928_20210504_02_VIEWABLE_SNOW.TIF',\n",
       " 's3://usgs-landsat-level-3/collection02/SNOW/2020/CU/003/010/LC08_CU_003010_20200928_20210504_02_SNOW/LC08_CU_003010_20200928_20210504_02_GROUND_SNOW.TIF',\n",
       " 's3://usgs-landsat-level-3/collection02/SNOW/2020/CU/003/010/LC08_CU_003010_20200928_20210504_02_SNOW/LC08_CU_003010_20200928_20210504_02_SCAG_SHADE.TIF',\n",
       " 's3://usgs-landsat-level-3/collection02/SNOW/2020/CU/003/010/LC08_CU_003010_20200928_20210504_02_SNOW/LC08_CU_003010_20200928_20210504_02_SCAG_MASK.TIF',\n",
       " 's3://usgs-landsat-level-3/collection02/SNOW/2020/CU/003/010/LC08_CU_003010_20200928_20210504_02_SNOW/LC08_CU_003010_20200928_20210504_02_FSCA_QA.TIF',\n",
       " 's3://usgs-landsat-level-3/collection02/SNOW/2020/CU/003/009/LC08_CU_003009_20200928_20210504_02_SNOW/LC08_CU_003009_20200928_20210504_02_VIEWABLE_SNOW.TIF',\n",
       " 's3://usgs-landsat-level-3/collection02/SNOW/2020/CU/003/009/LC08_CU_003009_20200928_20210504_02_SNOW/LC08_CU_003009_20200928_20210504_02_GROUND_SNOW.TIF',\n",
       " 's3://usgs-landsat-level-3/collection02/SNOW/2020/CU/003/009/LC08_CU_003009_20200928_20210504_02_SNOW/LC08_CU_003009_20200928_20210504_02_SCAG_SHADE.TIF',\n",
       " 's3://usgs-landsat-level-3/collection02/SNOW/2020/CU/003/009/LC08_CU_003009_20200928_20210504_02_SNOW/LC08_CU_003009_20200928_20210504_02_SCAG_MASK.TIF',\n",
       " 's3://usgs-landsat-level-3/collection02/SNOW/2020/CU/003/009/LC08_CU_003009_20200928_20210504_02_SNOW/LC08_CU_003009_20200928_20210504_02_FSCA_QA.TIF',\n",
       " 's3://usgs-landsat-level-3/collection02/SNOW/2020/CU/003/010/LE07_CU_003010_20200927_20210504_02_SNOW/LE07_CU_003010_20200927_20210504_02_VIEWABLE_SNOW.TIF',\n",
       " 's3://usgs-landsat-level-3/collection02/SNOW/2020/CU/003/010/LE07_CU_003010_20200927_20210504_02_SNOW/LE07_CU_003010_20200927_20210504_02_GROUND_SNOW.TIF',\n",
       " 's3://usgs-landsat-level-3/collection02/SNOW/2020/CU/003/010/LE07_CU_003010_20200927_20210504_02_SNOW/LE07_CU_003010_20200927_20210504_02_SCAG_SHADE.TIF',\n",
       " 's3://usgs-landsat-level-3/collection02/SNOW/2020/CU/003/010/LE07_CU_003010_20200927_20210504_02_SNOW/LE07_CU_003010_20200927_20210504_02_SCAG_MASK.TIF',\n",
       " 's3://usgs-landsat-level-3/collection02/SNOW/2020/CU/003/010/LE07_CU_003010_20200927_20210504_02_SNOW/LE07_CU_003010_20200927_20210504_02_FSCA_QA.TIF',\n",
       " 's3://usgs-landsat-level-3/collection02/SNOW/2020/CU/003/009/LE07_CU_003009_20200927_20210504_02_SNOW/LE07_CU_003009_20200927_20210504_02_VIEWABLE_SNOW.TIF',\n",
       " 's3://usgs-landsat-level-3/collection02/SNOW/2020/CU/003/009/LE07_CU_003009_20200927_20210504_02_SNOW/LE07_CU_003009_20200927_20210504_02_GROUND_SNOW.TIF',\n",
       " 's3://usgs-landsat-level-3/collection02/SNOW/2020/CU/003/009/LE07_CU_003009_20200927_20210504_02_SNOW/LE07_CU_003009_20200927_20210504_02_SCAG_SHADE.TIF',\n",
       " 's3://usgs-landsat-level-3/collection02/SNOW/2020/CU/003/009/LE07_CU_003009_20200927_20210504_02_SNOW/LE07_CU_003009_20200927_20210504_02_SCAG_MASK.TIF',\n",
       " 's3://usgs-landsat-level-3/collection02/SNOW/2020/CU/003/009/LE07_CU_003009_20200927_20210504_02_SNOW/LE07_CU_003009_20200927_20210504_02_FSCA_QA.TIF',\n",
       " 's3://usgs-landsat-level-3/collection02/SNOW/2020/CU/003/010/LE07_CU_003010_20200920_20210504_02_SNOW/LE07_CU_003010_20200920_20210504_02_VIEWABLE_SNOW.TIF',\n",
       " 's3://usgs-landsat-level-3/collection02/SNOW/2020/CU/003/010/LE07_CU_003010_20200920_20210504_02_SNOW/LE07_CU_003010_20200920_20210504_02_GROUND_SNOW.TIF',\n",
       " 's3://usgs-landsat-level-3/collection02/SNOW/2020/CU/003/010/LE07_CU_003010_20200920_20210504_02_SNOW/LE07_CU_003010_20200920_20210504_02_SCAG_SHADE.TIF',\n",
       " 's3://usgs-landsat-level-3/collection02/SNOW/2020/CU/003/010/LE07_CU_003010_20200920_20210504_02_SNOW/LE07_CU_003010_20200920_20210504_02_SCAG_MASK.TIF',\n",
       " 's3://usgs-landsat-level-3/collection02/SNOW/2020/CU/003/010/LE07_CU_003010_20200920_20210504_02_SNOW/LE07_CU_003010_20200920_20210504_02_FSCA_QA.TIF',\n",
       " 's3://usgs-landsat-level-3/collection02/SNOW/2020/CU/003/009/LE07_CU_003009_20200920_20210504_02_SNOW/LE07_CU_003009_20200920_20210504_02_VIEWABLE_SNOW.TIF',\n",
       " 's3://usgs-landsat-level-3/collection02/SNOW/2020/CU/003/009/LE07_CU_003009_20200920_20210504_02_SNOW/LE07_CU_003009_20200920_20210504_02_GROUND_SNOW.TIF',\n",
       " 's3://usgs-landsat-level-3/collection02/SNOW/2020/CU/003/009/LE07_CU_003009_20200920_20210504_02_SNOW/LE07_CU_003009_20200920_20210504_02_SCAG_SHADE.TIF',\n",
       " 's3://usgs-landsat-level-3/collection02/SNOW/2020/CU/003/009/LE07_CU_003009_20200920_20210504_02_SNOW/LE07_CU_003009_20200920_20210504_02_SCAG_MASK.TIF',\n",
       " 's3://usgs-landsat-level-3/collection02/SNOW/2020/CU/003/009/LE07_CU_003009_20200920_20210504_02_SNOW/LE07_CU_003009_20200920_20210504_02_FSCA_QA.TIF',\n",
       " 's3://usgs-landsat-level-3/collection02/SNOW/2020/CU/003/010/LC08_CU_003010_20200919_20210504_02_SNOW/LC08_CU_003010_20200919_20210504_02_VIEWABLE_SNOW.TIF',\n",
       " 's3://usgs-landsat-level-3/collection02/SNOW/2020/CU/003/010/LC08_CU_003010_20200919_20210504_02_SNOW/LC08_CU_003010_20200919_20210504_02_GROUND_SNOW.TIF',\n",
       " 's3://usgs-landsat-level-3/collection02/SNOW/2020/CU/003/010/LC08_CU_003010_20200919_20210504_02_SNOW/LC08_CU_003010_20200919_20210504_02_SCAG_SHADE.TIF',\n",
       " 's3://usgs-landsat-level-3/collection02/SNOW/2020/CU/003/010/LC08_CU_003010_20200919_20210504_02_SNOW/LC08_CU_003010_20200919_20210504_02_SCAG_MASK.TIF',\n",
       " 's3://usgs-landsat-level-3/collection02/SNOW/2020/CU/003/010/LC08_CU_003010_20200919_20210504_02_SNOW/LC08_CU_003010_20200919_20210504_02_FSCA_QA.TIF',\n",
       " 's3://usgs-landsat-level-3/collection02/SNOW/2020/CU/003/009/LC08_CU_003009_20200919_20210504_02_SNOW/LC08_CU_003009_20200919_20210504_02_VIEWABLE_SNOW.TIF',\n",
       " 's3://usgs-landsat-level-3/collection02/SNOW/2020/CU/003/009/LC08_CU_003009_20200919_20210504_02_SNOW/LC08_CU_003009_20200919_20210504_02_GROUND_SNOW.TIF',\n",
       " 's3://usgs-landsat-level-3/collection02/SNOW/2020/CU/003/009/LC08_CU_003009_20200919_20210504_02_SNOW/LC08_CU_003009_20200919_20210504_02_SCAG_SHADE.TIF',\n",
       " 's3://usgs-landsat-level-3/collection02/SNOW/2020/CU/003/009/LC08_CU_003009_20200919_20210504_02_SNOW/LC08_CU_003009_20200919_20210504_02_SCAG_MASK.TIF',\n",
       " 's3://usgs-landsat-level-3/collection02/SNOW/2020/CU/003/009/LC08_CU_003009_20200919_20210504_02_SNOW/LC08_CU_003009_20200919_20210504_02_FSCA_QA.TIF',\n",
       " 's3://usgs-landsat-level-3/collection02/SNOW/2020/CU/003/010/LC08_CU_003010_20200912_20210504_02_SNOW/LC08_CU_003010_20200912_20210504_02_VIEWABLE_SNOW.TIF',\n",
       " 's3://usgs-landsat-level-3/collection02/SNOW/2020/CU/003/010/LC08_CU_003010_20200912_20210504_02_SNOW/LC08_CU_003010_20200912_20210504_02_GROUND_SNOW.TIF',\n",
       " 's3://usgs-landsat-level-3/collection02/SNOW/2020/CU/003/010/LC08_CU_003010_20200912_20210504_02_SNOW/LC08_CU_003010_20200912_20210504_02_SCAG_SHADE.TIF',\n",
       " 's3://usgs-landsat-level-3/collection02/SNOW/2020/CU/003/010/LC08_CU_003010_20200912_20210504_02_SNOW/LC08_CU_003010_20200912_20210504_02_SCAG_MASK.TIF',\n",
       " 's3://usgs-landsat-level-3/collection02/SNOW/2020/CU/003/010/LC08_CU_003010_20200912_20210504_02_SNOW/LC08_CU_003010_20200912_20210504_02_FSCA_QA.TIF',\n",
       " 's3://usgs-landsat-level-3/collection02/SNOW/2020/CU/003/009/LC08_CU_003009_20200912_20210504_02_SNOW/LC08_CU_003009_20200912_20210504_02_VIEWABLE_SNOW.TIF',\n",
       " 's3://usgs-landsat-level-3/collection02/SNOW/2020/CU/003/009/LC08_CU_003009_20200912_20210504_02_SNOW/LC08_CU_003009_20200912_20210504_02_GROUND_SNOW.TIF',\n",
       " 's3://usgs-landsat-level-3/collection02/SNOW/2020/CU/003/009/LC08_CU_003009_20200912_20210504_02_SNOW/LC08_CU_003009_20200912_20210504_02_SCAG_SHADE.TIF',\n",
       " 's3://usgs-landsat-level-3/collection02/SNOW/2020/CU/003/009/LC08_CU_003009_20200912_20210504_02_SNOW/LC08_CU_003009_20200912_20210504_02_SCAG_MASK.TIF',\n",
       " 's3://usgs-landsat-level-3/collection02/SNOW/2020/CU/003/009/LC08_CU_003009_20200912_20210504_02_SNOW/LC08_CU_003009_20200912_20210504_02_FSCA_QA.TIF']"
      ]
     },
     "execution_count": 32,
     "metadata": {},
     "output_type": "execute_result"
    }
   ],
   "source": [
    "s3_links[:50]"
   ]
  },
  {
   "cell_type": "markdown",
   "id": "47a9d3e2-3058-4917-af6c-22f4f9095802",
   "metadata": {},
   "source": [
    "## Data Access - rioxarray"
   ]
  },
  {
   "cell_type": "markdown",
   "id": "91bab27c-e47e-4775-8e2b-1eeb632ebc22",
   "metadata": {},
   "source": [
    "Set working environment"
   ]
  },
  {
   "cell_type": "code",
   "execution_count": 20,
   "id": "5f12c802-35e6-4279-ba04-480ae8efcf24",
   "metadata": {},
   "outputs": [],
   "source": [
    "session = boto3.Session()"
   ]
  },
  {
   "cell_type": "code",
   "execution_count": 21,
   "id": "785caef1-1462-4974-b394-85ceb8c991f6",
   "metadata": {},
   "outputs": [
    {
     "data": {
      "text/plain": [
       "<rasterio.env.Env at 0x1adc30ad0>"
      ]
     },
     "execution_count": 21,
     "metadata": {},
     "output_type": "execute_result"
    }
   ],
   "source": [
    "rio_env = rio.Env(AWSSession(session, requester_pays=True), \n",
    "                  AWS_NO_SIGN_REQUEST='NO',\n",
    "                  GDAL_DISABLE_READDIR_ON_OPEN='TRUE')\n",
    "rio_env.__enter__()"
   ]
  },
  {
   "cell_type": "code",
   "execution_count": 28,
   "id": "7446ea95-d1bc-42e6-adc5-0d4c6ec5018b",
   "metadata": {},
   "outputs": [],
   "source": [
    "s3_url = 's3://usgs-landsat-level-3/collection02/SNOW/2020/CU/003/010/LC08_CU_003010_20200928_20210504_02_SNOW/LC08_CU_003010_20200928_20210504_02_GROUND_SNOW.TIF'"
   ]
  },
  {
   "cell_type": "markdown",
   "id": "8c8e7ca5-01d8-44d1-865e-fe0cc5d0b226",
   "metadata": {},
   "source": [
    "Read S3 asset as xarray datarray "
   ]
  },
  {
   "cell_type": "code",
   "execution_count": 29,
   "id": "09f0bcdf-2369-4c9a-ae9b-3c05f83d0d86",
   "metadata": {},
   "outputs": [],
   "source": [
    "da = rioxarray.open_rasterio(s3_url, chunks='auto').squeeze('band', drop=True)"
   ]
  },
  {
   "cell_type": "code",
   "execution_count": 30,
   "id": "5bf097a9-bbc2-4e96-a3af-103a958af0db",
   "metadata": {},
   "outputs": [
    {
     "data": {
      "text/html": [
       "<div><svg style=\"position: absolute; width: 0; height: 0; overflow: hidden\">\n",
       "<defs>\n",
       "<symbol id=\"icon-database\" viewBox=\"0 0 32 32\">\n",
       "<path d=\"M16 0c-8.837 0-16 2.239-16 5v4c0 2.761 7.163 5 16 5s16-2.239 16-5v-4c0-2.761-7.163-5-16-5z\"></path>\n",
       "<path d=\"M16 17c-8.837 0-16-2.239-16-5v6c0 2.761 7.163 5 16 5s16-2.239 16-5v-6c0 2.761-7.163 5-16 5z\"></path>\n",
       "<path d=\"M16 26c-8.837 0-16-2.239-16-5v6c0 2.761 7.163 5 16 5s16-2.239 16-5v-6c0 2.761-7.163 5-16 5z\"></path>\n",
       "</symbol>\n",
       "<symbol id=\"icon-file-text2\" viewBox=\"0 0 32 32\">\n",
       "<path d=\"M28.681 7.159c-0.694-0.947-1.662-2.053-2.724-3.116s-2.169-2.030-3.116-2.724c-1.612-1.182-2.393-1.319-2.841-1.319h-15.5c-1.378 0-2.5 1.121-2.5 2.5v27c0 1.378 1.122 2.5 2.5 2.5h23c1.378 0 2.5-1.122 2.5-2.5v-19.5c0-0.448-0.137-1.23-1.319-2.841zM24.543 5.457c0.959 0.959 1.712 1.825 2.268 2.543h-4.811v-4.811c0.718 0.556 1.584 1.309 2.543 2.268zM28 29.5c0 0.271-0.229 0.5-0.5 0.5h-23c-0.271 0-0.5-0.229-0.5-0.5v-27c0-0.271 0.229-0.5 0.5-0.5 0 0 15.499-0 15.5 0v7c0 0.552 0.448 1 1 1h7v19.5z\"></path>\n",
       "<path d=\"M23 26h-14c-0.552 0-1-0.448-1-1s0.448-1 1-1h14c0.552 0 1 0.448 1 1s-0.448 1-1 1z\"></path>\n",
       "<path d=\"M23 22h-14c-0.552 0-1-0.448-1-1s0.448-1 1-1h14c0.552 0 1 0.448 1 1s-0.448 1-1 1z\"></path>\n",
       "<path d=\"M23 18h-14c-0.552 0-1-0.448-1-1s0.448-1 1-1h14c0.552 0 1 0.448 1 1s-0.448 1-1 1z\"></path>\n",
       "</symbol>\n",
       "</defs>\n",
       "</svg>\n",
       "<style>/* CSS stylesheet for displaying xarray objects in jupyterlab.\n",
       " *\n",
       " */\n",
       "\n",
       ":root {\n",
       "  --xr-font-color0: var(--jp-content-font-color0, rgba(0, 0, 0, 1));\n",
       "  --xr-font-color2: var(--jp-content-font-color2, rgba(0, 0, 0, 0.54));\n",
       "  --xr-font-color3: var(--jp-content-font-color3, rgba(0, 0, 0, 0.38));\n",
       "  --xr-border-color: var(--jp-border-color2, #e0e0e0);\n",
       "  --xr-disabled-color: var(--jp-layout-color3, #bdbdbd);\n",
       "  --xr-background-color: var(--jp-layout-color0, white);\n",
       "  --xr-background-color-row-even: var(--jp-layout-color1, white);\n",
       "  --xr-background-color-row-odd: var(--jp-layout-color2, #eeeeee);\n",
       "}\n",
       "\n",
       "html[theme=dark],\n",
       "body[data-theme=dark],\n",
       "body.vscode-dark {\n",
       "  --xr-font-color0: rgba(255, 255, 255, 1);\n",
       "  --xr-font-color2: rgba(255, 255, 255, 0.54);\n",
       "  --xr-font-color3: rgba(255, 255, 255, 0.38);\n",
       "  --xr-border-color: #1F1F1F;\n",
       "  --xr-disabled-color: #515151;\n",
       "  --xr-background-color: #111111;\n",
       "  --xr-background-color-row-even: #111111;\n",
       "  --xr-background-color-row-odd: #313131;\n",
       "}\n",
       "\n",
       ".xr-wrap {\n",
       "  display: block !important;\n",
       "  min-width: 300px;\n",
       "  max-width: 700px;\n",
       "}\n",
       "\n",
       ".xr-text-repr-fallback {\n",
       "  /* fallback to plain text repr when CSS is not injected (untrusted notebook) */\n",
       "  display: none;\n",
       "}\n",
       "\n",
       ".xr-header {\n",
       "  padding-top: 6px;\n",
       "  padding-bottom: 6px;\n",
       "  margin-bottom: 4px;\n",
       "  border-bottom: solid 1px var(--xr-border-color);\n",
       "}\n",
       "\n",
       ".xr-header > div,\n",
       ".xr-header > ul {\n",
       "  display: inline;\n",
       "  margin-top: 0;\n",
       "  margin-bottom: 0;\n",
       "}\n",
       "\n",
       ".xr-obj-type,\n",
       ".xr-array-name {\n",
       "  margin-left: 2px;\n",
       "  margin-right: 10px;\n",
       "}\n",
       "\n",
       ".xr-obj-type {\n",
       "  color: var(--xr-font-color2);\n",
       "}\n",
       "\n",
       ".xr-sections {\n",
       "  padding-left: 0 !important;\n",
       "  display: grid;\n",
       "  grid-template-columns: 150px auto auto 1fr 20px 20px;\n",
       "}\n",
       "\n",
       ".xr-section-item {\n",
       "  display: contents;\n",
       "}\n",
       "\n",
       ".xr-section-item input {\n",
       "  display: none;\n",
       "}\n",
       "\n",
       ".xr-section-item input + label {\n",
       "  color: var(--xr-disabled-color);\n",
       "}\n",
       "\n",
       ".xr-section-item input:enabled + label {\n",
       "  cursor: pointer;\n",
       "  color: var(--xr-font-color2);\n",
       "}\n",
       "\n",
       ".xr-section-item input:enabled + label:hover {\n",
       "  color: var(--xr-font-color0);\n",
       "}\n",
       "\n",
       ".xr-section-summary {\n",
       "  grid-column: 1;\n",
       "  color: var(--xr-font-color2);\n",
       "  font-weight: 500;\n",
       "}\n",
       "\n",
       ".xr-section-summary > span {\n",
       "  display: inline-block;\n",
       "  padding-left: 0.5em;\n",
       "}\n",
       "\n",
       ".xr-section-summary-in:disabled + label {\n",
       "  color: var(--xr-font-color2);\n",
       "}\n",
       "\n",
       ".xr-section-summary-in + label:before {\n",
       "  display: inline-block;\n",
       "  content: '►';\n",
       "  font-size: 11px;\n",
       "  width: 15px;\n",
       "  text-align: center;\n",
       "}\n",
       "\n",
       ".xr-section-summary-in:disabled + label:before {\n",
       "  color: var(--xr-disabled-color);\n",
       "}\n",
       "\n",
       ".xr-section-summary-in:checked + label:before {\n",
       "  content: '▼';\n",
       "}\n",
       "\n",
       ".xr-section-summary-in:checked + label > span {\n",
       "  display: none;\n",
       "}\n",
       "\n",
       ".xr-section-summary,\n",
       ".xr-section-inline-details {\n",
       "  padding-top: 4px;\n",
       "  padding-bottom: 4px;\n",
       "}\n",
       "\n",
       ".xr-section-inline-details {\n",
       "  grid-column: 2 / -1;\n",
       "}\n",
       "\n",
       ".xr-section-details {\n",
       "  display: none;\n",
       "  grid-column: 1 / -1;\n",
       "  margin-bottom: 5px;\n",
       "}\n",
       "\n",
       ".xr-section-summary-in:checked ~ .xr-section-details {\n",
       "  display: contents;\n",
       "}\n",
       "\n",
       ".xr-array-wrap {\n",
       "  grid-column: 1 / -1;\n",
       "  display: grid;\n",
       "  grid-template-columns: 20px auto;\n",
       "}\n",
       "\n",
       ".xr-array-wrap > label {\n",
       "  grid-column: 1;\n",
       "  vertical-align: top;\n",
       "}\n",
       "\n",
       ".xr-preview {\n",
       "  color: var(--xr-font-color3);\n",
       "}\n",
       "\n",
       ".xr-array-preview,\n",
       ".xr-array-data {\n",
       "  padding: 0 5px !important;\n",
       "  grid-column: 2;\n",
       "}\n",
       "\n",
       ".xr-array-data,\n",
       ".xr-array-in:checked ~ .xr-array-preview {\n",
       "  display: none;\n",
       "}\n",
       "\n",
       ".xr-array-in:checked ~ .xr-array-data,\n",
       ".xr-array-preview {\n",
       "  display: inline-block;\n",
       "}\n",
       "\n",
       ".xr-dim-list {\n",
       "  display: inline-block !important;\n",
       "  list-style: none;\n",
       "  padding: 0 !important;\n",
       "  margin: 0;\n",
       "}\n",
       "\n",
       ".xr-dim-list li {\n",
       "  display: inline-block;\n",
       "  padding: 0;\n",
       "  margin: 0;\n",
       "}\n",
       "\n",
       ".xr-dim-list:before {\n",
       "  content: '(';\n",
       "}\n",
       "\n",
       ".xr-dim-list:after {\n",
       "  content: ')';\n",
       "}\n",
       "\n",
       ".xr-dim-list li:not(:last-child):after {\n",
       "  content: ',';\n",
       "  padding-right: 5px;\n",
       "}\n",
       "\n",
       ".xr-has-index {\n",
       "  font-weight: bold;\n",
       "}\n",
       "\n",
       ".xr-var-list,\n",
       ".xr-var-item {\n",
       "  display: contents;\n",
       "}\n",
       "\n",
       ".xr-var-item > div,\n",
       ".xr-var-item label,\n",
       ".xr-var-item > .xr-var-name span {\n",
       "  background-color: var(--xr-background-color-row-even);\n",
       "  margin-bottom: 0;\n",
       "}\n",
       "\n",
       ".xr-var-item > .xr-var-name:hover span {\n",
       "  padding-right: 5px;\n",
       "}\n",
       "\n",
       ".xr-var-list > li:nth-child(odd) > div,\n",
       ".xr-var-list > li:nth-child(odd) > label,\n",
       ".xr-var-list > li:nth-child(odd) > .xr-var-name span {\n",
       "  background-color: var(--xr-background-color-row-odd);\n",
       "}\n",
       "\n",
       ".xr-var-name {\n",
       "  grid-column: 1;\n",
       "}\n",
       "\n",
       ".xr-var-dims {\n",
       "  grid-column: 2;\n",
       "}\n",
       "\n",
       ".xr-var-dtype {\n",
       "  grid-column: 3;\n",
       "  text-align: right;\n",
       "  color: var(--xr-font-color2);\n",
       "}\n",
       "\n",
       ".xr-var-preview {\n",
       "  grid-column: 4;\n",
       "}\n",
       "\n",
       ".xr-index-preview {\n",
       "  grid-column: 2 / 5;\n",
       "  color: var(--xr-font-color2);\n",
       "}\n",
       "\n",
       ".xr-var-name,\n",
       ".xr-var-dims,\n",
       ".xr-var-dtype,\n",
       ".xr-preview,\n",
       ".xr-attrs dt {\n",
       "  white-space: nowrap;\n",
       "  overflow: hidden;\n",
       "  text-overflow: ellipsis;\n",
       "  padding-right: 10px;\n",
       "}\n",
       "\n",
       ".xr-var-name:hover,\n",
       ".xr-var-dims:hover,\n",
       ".xr-var-dtype:hover,\n",
       ".xr-attrs dt:hover {\n",
       "  overflow: visible;\n",
       "  width: auto;\n",
       "  z-index: 1;\n",
       "}\n",
       "\n",
       ".xr-var-attrs,\n",
       ".xr-var-data,\n",
       ".xr-index-data {\n",
       "  display: none;\n",
       "  background-color: var(--xr-background-color) !important;\n",
       "  padding-bottom: 5px !important;\n",
       "}\n",
       "\n",
       ".xr-var-attrs-in:checked ~ .xr-var-attrs,\n",
       ".xr-var-data-in:checked ~ .xr-var-data,\n",
       ".xr-index-data-in:checked ~ .xr-index-data {\n",
       "  display: block;\n",
       "}\n",
       "\n",
       ".xr-var-data > table {\n",
       "  float: right;\n",
       "}\n",
       "\n",
       ".xr-var-name span,\n",
       ".xr-var-data,\n",
       ".xr-index-name div,\n",
       ".xr-index-data,\n",
       ".xr-attrs {\n",
       "  padding-left: 25px !important;\n",
       "}\n",
       "\n",
       ".xr-attrs,\n",
       ".xr-var-attrs,\n",
       ".xr-var-data,\n",
       ".xr-index-data {\n",
       "  grid-column: 1 / -1;\n",
       "}\n",
       "\n",
       "dl.xr-attrs {\n",
       "  padding: 0;\n",
       "  margin: 0;\n",
       "  display: grid;\n",
       "  grid-template-columns: 125px auto;\n",
       "}\n",
       "\n",
       ".xr-attrs dt,\n",
       ".xr-attrs dd {\n",
       "  padding: 0;\n",
       "  margin: 0;\n",
       "  float: left;\n",
       "  padding-right: 10px;\n",
       "  width: auto;\n",
       "}\n",
       "\n",
       ".xr-attrs dt {\n",
       "  font-weight: normal;\n",
       "  grid-column: 1;\n",
       "}\n",
       "\n",
       ".xr-attrs dt:hover span {\n",
       "  display: inline-block;\n",
       "  background: var(--xr-background-color);\n",
       "  padding-right: 10px;\n",
       "}\n",
       "\n",
       ".xr-attrs dd {\n",
       "  grid-column: 2;\n",
       "  white-space: pre-wrap;\n",
       "  word-break: break-all;\n",
       "}\n",
       "\n",
       ".xr-icon-database,\n",
       ".xr-icon-file-text2,\n",
       ".xr-no-icon {\n",
       "  display: inline-block;\n",
       "  vertical-align: middle;\n",
       "  width: 1em;\n",
       "  height: 1.5em !important;\n",
       "  stroke-width: 0;\n",
       "  stroke: currentColor;\n",
       "  fill: currentColor;\n",
       "}\n",
       "</style><pre class='xr-text-repr-fallback'>&lt;xarray.DataArray (y: 5000, x: 5000)&gt;\n",
       "dask.array&lt;getitem, shape=(5000, 5000), dtype=int16, chunksize=(5000, 5000), chunktype=numpy.ndarray&gt;\n",
       "Coordinates:\n",
       "  * x            (x) float64 -2.116e+06 -2.116e+06 ... -1.966e+06 -1.966e+06\n",
       "  * y            (y) float64 1.815e+06 1.815e+06 ... 1.665e+06 1.665e+06\n",
       "    spatial_ref  int64 0\n",
       "Attributes:\n",
       "    AREA_OR_POINT:  Area\n",
       "    Band_1:         snow fractions - canopy adjusted\n",
       "    _FillValue:     -9999\n",
       "    scale_factor:   1.0\n",
       "    add_offset:     0.0\n",
       "    long_name:      snow fractions - canopy adjusted</pre><div class='xr-wrap' style='display:none'><div class='xr-header'><div class='xr-obj-type'>xarray.DataArray</div><div class='xr-array-name'></div><ul class='xr-dim-list'><li><span class='xr-has-index'>y</span>: 5000</li><li><span class='xr-has-index'>x</span>: 5000</li></ul></div><ul class='xr-sections'><li class='xr-section-item'><div class='xr-array-wrap'><input id='section-88fb7cde-b339-4387-acbe-0d2c7401d3f4' class='xr-array-in' type='checkbox' checked><label for='section-88fb7cde-b339-4387-acbe-0d2c7401d3f4' title='Show/hide data repr'><svg class='icon xr-icon-database'><use xlink:href='#icon-database'></use></svg></label><div class='xr-array-preview xr-preview'><span>dask.array&lt;chunksize=(5000, 5000), meta=np.ndarray&gt;</span></div><div class='xr-array-data'><table>\n",
       "    <tr>\n",
       "        <td>\n",
       "            <table>\n",
       "                <thead>\n",
       "                    <tr>\n",
       "                        <td> </td>\n",
       "                        <th> Array </th>\n",
       "                        <th> Chunk </th>\n",
       "                    </tr>\n",
       "                </thead>\n",
       "                <tbody>\n",
       "                    \n",
       "                    <tr>\n",
       "                        <th> Bytes </th>\n",
       "                        <td> 47.68 MiB </td>\n",
       "                        <td> 47.68 MiB </td>\n",
       "                    </tr>\n",
       "                    \n",
       "                    <tr>\n",
       "                        <th> Shape </th>\n",
       "                        <td> (5000, 5000) </td>\n",
       "                        <td> (5000, 5000) </td>\n",
       "                    </tr>\n",
       "                    <tr>\n",
       "                        <th> Count </th>\n",
       "                        <td> 3 Tasks </td>\n",
       "                        <td> 1 Chunks </td>\n",
       "                    </tr>\n",
       "                    <tr>\n",
       "                    <th> Type </th>\n",
       "                    <td> int16 </td>\n",
       "                    <td> numpy.ndarray </td>\n",
       "                    </tr>\n",
       "                </tbody>\n",
       "            </table>\n",
       "        </td>\n",
       "        <td>\n",
       "        <svg width=\"170\" height=\"170\" style=\"stroke:rgb(0,0,0);stroke-width:1\" >\n",
       "\n",
       "  <!-- Horizontal lines -->\n",
       "  <line x1=\"0\" y1=\"0\" x2=\"120\" y2=\"0\" style=\"stroke-width:2\" />\n",
       "  <line x1=\"0\" y1=\"120\" x2=\"120\" y2=\"120\" style=\"stroke-width:2\" />\n",
       "\n",
       "  <!-- Vertical lines -->\n",
       "  <line x1=\"0\" y1=\"0\" x2=\"0\" y2=\"120\" style=\"stroke-width:2\" />\n",
       "  <line x1=\"120\" y1=\"0\" x2=\"120\" y2=\"120\" style=\"stroke-width:2\" />\n",
       "\n",
       "  <!-- Colored Rectangle -->\n",
       "  <polygon points=\"0.0,0.0 120.0,0.0 120.0,120.0 0.0,120.0\" style=\"fill:#ECB172A0;stroke-width:0\"/>\n",
       "\n",
       "  <!-- Text -->\n",
       "  <text x=\"60.000000\" y=\"140.000000\" font-size=\"1.0rem\" font-weight=\"100\" text-anchor=\"middle\" >5000</text>\n",
       "  <text x=\"140.000000\" y=\"60.000000\" font-size=\"1.0rem\" font-weight=\"100\" text-anchor=\"middle\" transform=\"rotate(-90,140.000000,60.000000)\">5000</text>\n",
       "</svg>\n",
       "        </td>\n",
       "    </tr>\n",
       "</table></div></div></li><li class='xr-section-item'><input id='section-cae0c1a6-216e-46ea-b892-1064d3e3de9a' class='xr-section-summary-in' type='checkbox'  checked><label for='section-cae0c1a6-216e-46ea-b892-1064d3e3de9a' class='xr-section-summary' >Coordinates: <span>(3)</span></label><div class='xr-section-inline-details'></div><div class='xr-section-details'><ul class='xr-var-list'><li class='xr-var-item'><div class='xr-var-name'><span class='xr-has-index'>x</span></div><div class='xr-var-dims'>(x)</div><div class='xr-var-dtype'>float64</div><div class='xr-var-preview xr-preview'>-2.116e+06 ... -1.966e+06</div><input id='attrs-6b85ded8-16ef-4b19-ab9e-ee4323a8c574' class='xr-var-attrs-in' type='checkbox' disabled><label for='attrs-6b85ded8-16ef-4b19-ab9e-ee4323a8c574' title='Show/Hide attributes'><svg class='icon xr-icon-file-text2'><use xlink:href='#icon-file-text2'></use></svg></label><input id='data-fb688ae4-8abf-43e4-a028-821caa0e7652' class='xr-var-data-in' type='checkbox'><label for='data-fb688ae4-8abf-43e4-a028-821caa0e7652' title='Show/Hide data repr'><svg class='icon xr-icon-database'><use xlink:href='#icon-database'></use></svg></label><div class='xr-var-attrs'><dl class='xr-attrs'></dl></div><div class='xr-var-data'><pre>array([-2115570., -2115540., -2115510., ..., -1965660., -1965630., -1965600.])</pre></div></li><li class='xr-var-item'><div class='xr-var-name'><span class='xr-has-index'>y</span></div><div class='xr-var-dims'>(y)</div><div class='xr-var-dtype'>float64</div><div class='xr-var-preview xr-preview'>1.815e+06 1.815e+06 ... 1.665e+06</div><input id='attrs-940f1ee6-a8eb-4cd0-bb1c-39fdb5c788e8' class='xr-var-attrs-in' type='checkbox' disabled><label for='attrs-940f1ee6-a8eb-4cd0-bb1c-39fdb5c788e8' title='Show/Hide attributes'><svg class='icon xr-icon-file-text2'><use xlink:href='#icon-file-text2'></use></svg></label><input id='data-bee1b144-ce57-4286-9f0b-86ad07e7828f' class='xr-var-data-in' type='checkbox'><label for='data-bee1b144-ce57-4286-9f0b-86ad07e7828f' title='Show/Hide data repr'><svg class='icon xr-icon-database'><use xlink:href='#icon-database'></use></svg></label><div class='xr-var-attrs'><dl class='xr-attrs'></dl></div><div class='xr-var-data'><pre>array([1814790., 1814760., 1814730., ..., 1664880., 1664850., 1664820.])</pre></div></li><li class='xr-var-item'><div class='xr-var-name'><span>spatial_ref</span></div><div class='xr-var-dims'>()</div><div class='xr-var-dtype'>int64</div><div class='xr-var-preview xr-preview'>0</div><input id='attrs-35ad9553-8e23-4b31-b815-f879375783ed' class='xr-var-attrs-in' type='checkbox' ><label for='attrs-35ad9553-8e23-4b31-b815-f879375783ed' title='Show/Hide attributes'><svg class='icon xr-icon-file-text2'><use xlink:href='#icon-file-text2'></use></svg></label><input id='data-659bade7-5151-44e5-9cde-539fc18e07c5' class='xr-var-data-in' type='checkbox'><label for='data-659bade7-5151-44e5-9cde-539fc18e07c5' title='Show/Hide data repr'><svg class='icon xr-icon-database'><use xlink:href='#icon-database'></use></svg></label><div class='xr-var-attrs'><dl class='xr-attrs'><dt><span>crs_wkt :</span></dt><dd>PROJCS[&quot;Albers&quot;,GEOGCS[&quot;WGS 84&quot;,DATUM[&quot;WGS_1984&quot;,SPHEROID[&quot;WGS 84&quot;,6378137,298.257223563,AUTHORITY[&quot;EPSG&quot;,&quot;7030&quot;]],AUTHORITY[&quot;EPSG&quot;,&quot;6326&quot;]],PRIMEM[&quot;Greenwich&quot;,0],UNIT[&quot;degree&quot;,0.0174532925199433,AUTHORITY[&quot;EPSG&quot;,&quot;9122&quot;]],AUTHORITY[&quot;EPSG&quot;,&quot;4326&quot;]],PROJECTION[&quot;Albers_Conic_Equal_Area&quot;],PARAMETER[&quot;latitude_of_center&quot;,23],PARAMETER[&quot;longitude_of_center&quot;,-96],PARAMETER[&quot;standard_parallel_1&quot;,29.5],PARAMETER[&quot;standard_parallel_2&quot;,45.5],PARAMETER[&quot;false_easting&quot;,0],PARAMETER[&quot;false_northing&quot;,0],UNIT[&quot;metre&quot;,1,AUTHORITY[&quot;EPSG&quot;,&quot;9001&quot;]],AXIS[&quot;Easting&quot;,EAST],AXIS[&quot;Northing&quot;,NORTH]]</dd><dt><span>semi_major_axis :</span></dt><dd>6378137.0</dd><dt><span>semi_minor_axis :</span></dt><dd>6356752.314245179</dd><dt><span>inverse_flattening :</span></dt><dd>298.257223563</dd><dt><span>reference_ellipsoid_name :</span></dt><dd>WGS 84</dd><dt><span>longitude_of_prime_meridian :</span></dt><dd>0.0</dd><dt><span>prime_meridian_name :</span></dt><dd>Greenwich</dd><dt><span>geographic_crs_name :</span></dt><dd>WGS 84</dd><dt><span>horizontal_datum_name :</span></dt><dd>World Geodetic System 1984</dd><dt><span>projected_crs_name :</span></dt><dd>Albers</dd><dt><span>grid_mapping_name :</span></dt><dd>albers_conical_equal_area</dd><dt><span>standard_parallel :</span></dt><dd>(29.5, 45.5)</dd><dt><span>latitude_of_projection_origin :</span></dt><dd>23.0</dd><dt><span>longitude_of_central_meridian :</span></dt><dd>-96.0</dd><dt><span>false_easting :</span></dt><dd>0.0</dd><dt><span>false_northing :</span></dt><dd>0.0</dd><dt><span>spatial_ref :</span></dt><dd>PROJCS[&quot;Albers&quot;,GEOGCS[&quot;WGS 84&quot;,DATUM[&quot;WGS_1984&quot;,SPHEROID[&quot;WGS 84&quot;,6378137,298.257223563,AUTHORITY[&quot;EPSG&quot;,&quot;7030&quot;]],AUTHORITY[&quot;EPSG&quot;,&quot;6326&quot;]],PRIMEM[&quot;Greenwich&quot;,0],UNIT[&quot;degree&quot;,0.0174532925199433,AUTHORITY[&quot;EPSG&quot;,&quot;9122&quot;]],AUTHORITY[&quot;EPSG&quot;,&quot;4326&quot;]],PROJECTION[&quot;Albers_Conic_Equal_Area&quot;],PARAMETER[&quot;latitude_of_center&quot;,23],PARAMETER[&quot;longitude_of_center&quot;,-96],PARAMETER[&quot;standard_parallel_1&quot;,29.5],PARAMETER[&quot;standard_parallel_2&quot;,45.5],PARAMETER[&quot;false_easting&quot;,0],PARAMETER[&quot;false_northing&quot;,0],UNIT[&quot;metre&quot;,1,AUTHORITY[&quot;EPSG&quot;,&quot;9001&quot;]],AXIS[&quot;Easting&quot;,EAST],AXIS[&quot;Northing&quot;,NORTH]]</dd><dt><span>GeoTransform :</span></dt><dd>-2115585.0 30.0 0.0 1814805.0 0.0 -30.0</dd></dl></div><div class='xr-var-data'><pre>array(0)</pre></div></li></ul></div></li><li class='xr-section-item'><input id='section-3474afd1-b907-494f-866b-98db5622e12a' class='xr-section-summary-in' type='checkbox'  ><label for='section-3474afd1-b907-494f-866b-98db5622e12a' class='xr-section-summary' >Indexes: <span>(2)</span></label><div class='xr-section-inline-details'></div><div class='xr-section-details'><ul class='xr-var-list'><li class='xr-var-item'><div class='xr-index-name'><div>x</div></div><div class='xr-index-preview'>PandasIndex</div><div></div><input id='index-cb60f511-e0b5-4e78-ad6b-5d310a3af275' class='xr-index-data-in' type='checkbox'/><label for='index-cb60f511-e0b5-4e78-ad6b-5d310a3af275' title='Show/Hide index repr'><svg class='icon xr-icon-database'><use xlink:href='#icon-database'></use></svg></label><div class='xr-index-data'><pre>PandasIndex(Float64Index([-2115570.0, -2115540.0, -2115510.0, -2115480.0, -2115450.0,\n",
       "              -2115420.0, -2115390.0, -2115360.0, -2115330.0, -2115300.0,\n",
       "              ...\n",
       "              -1965870.0, -1965840.0, -1965810.0, -1965780.0, -1965750.0,\n",
       "              -1965720.0, -1965690.0, -1965660.0, -1965630.0, -1965600.0],\n",
       "             dtype=&#x27;float64&#x27;, name=&#x27;x&#x27;, length=5000))</pre></div></li><li class='xr-var-item'><div class='xr-index-name'><div>y</div></div><div class='xr-index-preview'>PandasIndex</div><div></div><input id='index-abc76a78-bd68-4252-a9fe-9fe96e8f1eb1' class='xr-index-data-in' type='checkbox'/><label for='index-abc76a78-bd68-4252-a9fe-9fe96e8f1eb1' title='Show/Hide index repr'><svg class='icon xr-icon-database'><use xlink:href='#icon-database'></use></svg></label><div class='xr-index-data'><pre>PandasIndex(Float64Index([1814790.0, 1814760.0, 1814730.0, 1814700.0, 1814670.0, 1814640.0,\n",
       "              1814610.0, 1814580.0, 1814550.0, 1814520.0,\n",
       "              ...\n",
       "              1665090.0, 1665060.0, 1665030.0, 1665000.0, 1664970.0, 1664940.0,\n",
       "              1664910.0, 1664880.0, 1664850.0, 1664820.0],\n",
       "             dtype=&#x27;float64&#x27;, name=&#x27;y&#x27;, length=5000))</pre></div></li></ul></div></li><li class='xr-section-item'><input id='section-059f1da3-d960-442a-9545-59b52eaddac6' class='xr-section-summary-in' type='checkbox'  checked><label for='section-059f1da3-d960-442a-9545-59b52eaddac6' class='xr-section-summary' >Attributes: <span>(6)</span></label><div class='xr-section-inline-details'></div><div class='xr-section-details'><dl class='xr-attrs'><dt><span>AREA_OR_POINT :</span></dt><dd>Area</dd><dt><span>Band_1 :</span></dt><dd>snow fractions - canopy adjusted</dd><dt><span>_FillValue :</span></dt><dd>-9999</dd><dt><span>scale_factor :</span></dt><dd>1.0</dd><dt><span>add_offset :</span></dt><dd>0.0</dd><dt><span>long_name :</span></dt><dd>snow fractions - canopy adjusted</dd></dl></div></li></ul></div></div>"
      ],
      "text/plain": [
       "<xarray.DataArray (y: 5000, x: 5000)>\n",
       "dask.array<getitem, shape=(5000, 5000), dtype=int16, chunksize=(5000, 5000), chunktype=numpy.ndarray>\n",
       "Coordinates:\n",
       "  * x            (x) float64 -2.116e+06 -2.116e+06 ... -1.966e+06 -1.966e+06\n",
       "  * y            (y) float64 1.815e+06 1.815e+06 ... 1.665e+06 1.665e+06\n",
       "    spatial_ref  int64 0\n",
       "Attributes:\n",
       "    AREA_OR_POINT:  Area\n",
       "    Band_1:         snow fractions - canopy adjusted\n",
       "    _FillValue:     -9999\n",
       "    scale_factor:   1.0\n",
       "    add_offset:     0.0\n",
       "    long_name:      snow fractions - canopy adjusted"
      ]
     },
     "execution_count": 30,
     "metadata": {},
     "output_type": "execute_result"
    }
   ],
   "source": [
    "da"
   ]
  },
  {
   "cell_type": "code",
   "execution_count": 31,
   "id": "3e963d4e-3f8c-40d2-af08-387b2f707245",
   "metadata": {},
   "outputs": [
    {
     "data": {
      "text/plain": [
       "<matplotlib.collections.QuadMesh at 0x1af38d310>"
      ]
     },
     "execution_count": 31,
     "metadata": {},
     "output_type": "execute_result"
    },
    {
     "data": {
      "image/png": "[encoded data removed]",
      "text/plain": [
       "<Figure size 640x480 with 2 Axes>"
      ]
     },
     "metadata": {},
     "output_type": "display_data"
    }
   ],
   "source": [
    "da.plot()"
   ]
  },
  {
   "cell_type": "markdown",
   "id": "3fe8ad44-9cb9-4959-b634-073e04238faa",
   "metadata": {},
   "source": [
    "Plot scene"
   ]
  },
  {
   "cell_type": "code",
   "execution_count": 26,
   "id": "72625a16-d616-4f79-88cd-ef2e86299c18",
   "metadata": {},
   "outputs": [
    {
     "ename": "AttributeError",
     "evalue": "'DataArray' object has no attribute 'hvplot'",
     "output_type": "error",
     "traceback": [
      "\u001b[0;31m---------------------------------------------------------------------------\u001b[0m",
      "\u001b[0;31mAttributeError\u001b[0m                            Traceback (most recent call last)",
      "Cell \u001b[0;32mIn [26], line 2\u001b[0m\n\u001b[1;32m      1\u001b[0m \u001b[38;5;66;03m#da.hvplot(x='x', y='y', crs='epsg:32617', rasterize=True, width=800, height=600, tiles = 'ESRI') # TODO: how to exclude fill values\u001b[39;00m\n\u001b[0;32m----> 2\u001b[0m \u001b[43mda\u001b[49m\u001b[38;5;241;43m.\u001b[39;49m\u001b[43mhvplot\u001b[49m(x\u001b[38;5;241m=\u001b[39m\u001b[38;5;124m'\u001b[39m\u001b[38;5;124mx\u001b[39m\u001b[38;5;124m'\u001b[39m, y\u001b[38;5;241m=\u001b[39m\u001b[38;5;124m'\u001b[39m\u001b[38;5;124my\u001b[39m\u001b[38;5;124m'\u001b[39m, crs\u001b[38;5;241m=\u001b[39m\u001b[38;5;124m'\u001b[39m\u001b[38;5;124mepsg:4326\u001b[39m\u001b[38;5;124m'\u001b[39m, rasterize\u001b[38;5;241m=\u001b[39m\u001b[38;5;28;01mTrue\u001b[39;00m, width\u001b[38;5;241m=\u001b[39m\u001b[38;5;241m800\u001b[39m, height\u001b[38;5;241m=\u001b[39m\u001b[38;5;241m600\u001b[39m)\n",
      "File \u001b[0;32m~/miniconda3/envs/stac/lib/python3.11/site-packages/xarray/core/common.py:272\u001b[0m, in \u001b[0;36mAttrAccessMixin.__getattr__\u001b[0;34m(self, name)\u001b[0m\n\u001b[1;32m    270\u001b[0m         \u001b[38;5;28;01mwith\u001b[39;00m suppress(\u001b[38;5;167;01mKeyError\u001b[39;00m):\n\u001b[1;32m    271\u001b[0m             \u001b[38;5;28;01mreturn\u001b[39;00m source[name]\n\u001b[0;32m--> 272\u001b[0m \u001b[38;5;28;01mraise\u001b[39;00m \u001b[38;5;167;01mAttributeError\u001b[39;00m(\n\u001b[1;32m    273\u001b[0m     \u001b[38;5;124mf\u001b[39m\u001b[38;5;124m\"\u001b[39m\u001b[38;5;132;01m{\u001b[39;00m\u001b[38;5;28mtype\u001b[39m(\u001b[38;5;28mself\u001b[39m)\u001b[38;5;241m.\u001b[39m\u001b[38;5;18m__name__\u001b[39m\u001b[38;5;132;01m!r}\u001b[39;00m\u001b[38;5;124m object has no attribute \u001b[39m\u001b[38;5;132;01m{\u001b[39;00mname\u001b[38;5;132;01m!r}\u001b[39;00m\u001b[38;5;124m\"\u001b[39m\n\u001b[1;32m    274\u001b[0m )\n",
      "\u001b[0;31mAttributeError\u001b[0m: 'DataArray' object has no attribute 'hvplot'"
     ]
    }
   ],
   "source": [
    "#da.hvplot(x='x', y='y', crs='epsg:32617', rasterize=True, width=800, height=600, tiles = 'ESRI') # TODO: how to exclude fill values\n",
    "da.hvplot(x='x', y='y', crs='epsg:4326', rasterize=True, width=800, height=600)"
   ]
  },
  {
   "cell_type": "markdown",
   "id": "0868b6fd-ce21-4a15-bcef-7b5f119fdb8a",
   "metadata": {},
   "source": [
    "---"
   ]
  },
  {
   "cell_type": "markdown",
   "id": "4d498576-d67a-467d-a7fc-e4a172f624b6",
   "metadata": {},
   "source": [
    "## AWS CLI"
   ]
  },
  {
   "cell_type": "markdown",
   "id": "bcd9f6ac-b9d9-4583-9567-1c0a47b6a772",
   "metadata": {},
   "source": [
    "List content in bucket"
   ]
  },
  {
   "cell_type": "code",
   "execution_count": null,
   "id": "68109ced-f145-421c-892d-bb8b52a47dfc",
   "metadata": {},
   "outputs": [],
   "source": [
    "! aws s3 ls s3://usgs-landsat/collection02/level-1/standard/oli-tirs/2021/016/042/LC08_L1TP_016042_20211027_20211104_02_T1/ --request-payer requester"
   ]
  },
  {
   "cell_type": "markdown",
   "id": "01381761-0a61-469c-95aa-6eae3f32f640",
   "metadata": {},
   "source": [
    "Download content in bucket to local"
   ]
  },
  {
   "cell_type": "code",
   "execution_count": null,
   "id": "48761ac9-6ffd-469d-967d-ca30ab060a03",
   "metadata": {},
   "outputs": [],
   "source": [
    "! aws s3 cp s3://usgs-landsat/collection02/level-1/standard/oli-tirs/2021/016/042/LC08_L1TP_016042_20211027_20211104_02_T1/ . --recursive --request-payer "
   ]
  },
  {
   "cell_type": "code",
   "execution_count": null,
   "id": "dead3b1a-5079-4b74-8f1b-0accbfbb78c2",
   "metadata": {},
   "outputs": [],
   "source": []
  }
 ],
 "metadata": {
  "kernelspec": {
   "display_name": "stac_v2",
   "language": "python",
   "name": "stac"
  },
  "language_info": {
   "codemirror_mode": {
    "name": "ipython",
    "version": 3
   },
   "file_extension": ".py",
   "mimetype": "text/x-python",
   "name": "python",
   "nbconvert_exporter": "python",
   "pygments_lexer": "ipython3",
   "version": "3.11.0"
  }
 },
 "nbformat": 4,
 "nbformat_minor": 5
}
