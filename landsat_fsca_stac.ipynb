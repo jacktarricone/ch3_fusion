{
 "cells": [
  {
   "cell_type": "markdown",
   "id": "e35952c4-cb9b-4d9e-bfa4-8bf31b13c9e0",
   "metadata": {},
   "source": [
    "---\n",
    "title: USGS Landsat Cloud Data - Search and Access\n",
    "---"
   ]
  },
  {
   "cell_type": "code",
   "execution_count": 1,
   "id": "9218a60b-4d0a-4b22-9f84-e7cde73f0a28",
   "metadata": {},
   "outputs": [],
   "source": [
    "#import hvplot.xarray\n",
    "import rasterio as rio\n",
    "from rasterio.session import AWSSession\n",
    "import rioxarray\n",
    "import boto3\n",
    "import json\n",
    "import dask\n",
    "from pystac_client import Client"
   ]
  },
  {
   "cell_type": "code",
   "execution_count": 2,
   "id": "2ec228f7-4336-4dd9-a85d-50c6b992e279",
   "metadata": {},
   "outputs": [],
   "source": [
    "# import hvplot"
   ]
  },
  {
   "cell_type": "markdown",
   "id": "13f9cf35-0d2f-4125-b063-f11fa8c3826c",
   "metadata": {},
   "source": [
    "Seach for LS Scenes using STAC API"
   ]
  },
  {
   "cell_type": "code",
   "execution_count": 3,
   "id": "f3931b89-7c37-4f96-b2a2-93fbf1028fb1",
   "metadata": {},
   "outputs": [],
   "source": [
    "stac_url = 'https://landsatlook.usgs.gov/stac-server'"
   ]
  },
  {
   "cell_type": "code",
   "execution_count": 4,
   "id": "8a5693f9-6fad-4e1d-b965-cf62f6d17623",
   "metadata": {},
   "outputs": [],
   "source": [
    "ls_cat = Client.open(stac_url)"
   ]
  },
  {
   "cell_type": "code",
   "execution_count": 5,
   "id": "deb52f7f-f687-4c9c-828d-beaab7cdfd92",
   "metadata": {},
   "outputs": [],
   "source": [
    "#ls_cat"
   ]
  },
  {
   "cell_type": "code",
   "execution_count": 6,
   "id": "4e49dcaa-0e5b-42c5-9aa6-873fa664688d",
   "metadata": {},
   "outputs": [
    {
     "data": {
      "text/plain": [
       "['Landsat Collection 2 Level-2 UTM Surface Reflectance (SR) Product --- landsat-c2l2-sr',\n",
       " 'Landsat Collection 2 Level-2 UTM Surface Temperature (ST) Product --- landsat-c2l2-st',\n",
       " 'Landsat Collection 2 Analysis Ready Data (ARD) Level-2 UTM Surface Temperature (ST) Product --- landsat-c2ard-st',\n",
       " 'Landsat Collection 2 Level-2 Albers Top of Atmosphere Brightness Temperature (BT) Product --- landsat-c2l2alb-bt',\n",
       " 'Landsat Collection 2 Level-3 Fractional Snow Covered Area (fSCA) Product --- landsat-c2l3-fsca',\n",
       " 'Landsat Collection 2 Analysis Ready Data (ARD) Level-2 UTM Top of Atmosphere Brightness Temperature (BT) Product --- landsat-c2ard-bt',\n",
       " 'Landsat Collection 2 Level-1 Product --- landsat-c2l1',\n",
       " 'Landsat Collection 2 Level-3 Burned Area (BA) Product --- landsat-c2l3-ba',\n",
       " 'Landsat Collection 2 Level-2 Albers Surface Temperature (ST) Product --- landsat-c2l2alb-st',\n",
       " 'Landsat Collection 2 Analysis Ready Data (ARD) Level-2 UTM Surface Reflectance (SR) Product --- landsat-c2ard-sr',\n",
       " 'Landsat Collection 2 Level-2 Albers Surface Reflectance (SR) Product --- landsat-c2l2alb-sr',\n",
       " 'Landsat Collection 2 Level-2 Albers Top of Atmosphere (TA) Reflectance Product --- landsat-c2l2alb-ta',\n",
       " 'Landsat Collection 2 Level-3 Dynamic Surface Water Extent (DSWE) Product --- landsat-c2l3-dswe',\n",
       " 'Landsat Collection 2 Analysis Ready Data (ARD) Level-2 UTM Top of Atmosphere (TA) Reflectance Product --- landsat-c2ard-ta']"
      ]
     },
     "execution_count": 6,
     "metadata": {},
     "output_type": "execute_result"
    }
   ],
   "source": [
    "[f'{x.title} --- {x.id}' for x in ls_cat.get_children()]"
   ]
  },
  {
   "cell_type": "code",
   "execution_count": 7,
   "id": "b1ed709c-3d94-43d2-bd31-5044129ae1dc",
   "metadata": {},
   "outputs": [
    {
     "data": {
      "text/plain": [
       "[<CollectionClient id=landsat-c2l2-sr>,\n",
       " <CollectionClient id=landsat-c2l2-st>,\n",
       " <CollectionClient id=landsat-c2ard-st>,\n",
       " <CollectionClient id=landsat-c2l2alb-bt>,\n",
       " <CollectionClient id=landsat-c2l3-fsca>,\n",
       " <CollectionClient id=landsat-c2ard-bt>,\n",
       " <CollectionClient id=landsat-c2l1>,\n",
       " <CollectionClient id=landsat-c2l3-ba>,\n",
       " <CollectionClient id=landsat-c2l2alb-st>,\n",
       " <CollectionClient id=landsat-c2ard-sr>,\n",
       " <CollectionClient id=landsat-c2l2alb-sr>,\n",
       " <CollectionClient id=landsat-c2l2alb-ta>,\n",
       " <CollectionClient id=landsat-c2l3-dswe>,\n",
       " <CollectionClient id=landsat-c2ard-ta>]"
      ]
     },
     "execution_count": 7,
     "metadata": {},
     "output_type": "execute_result"
    }
   ],
   "source": [
    "list(ls_cat.get_all_collections())"
   ]
  },
  {
   "cell_type": "code",
   "execution_count": 8,
   "id": "e9986e77-015f-4ee1-b446-ccfd73f8a544",
   "metadata": {},
   "outputs": [],
   "source": [
    "bbox = [-120,37,-119,38]"
   ]
  },
  {
   "cell_type": "code",
   "execution_count": 9,
   "id": "fb9cd396-065e-4c96-a5bd-aa72aad6b6b6",
   "metadata": {},
   "outputs": [
    {
     "data": {
      "text/plain": [
       "'2019-10-01T00:00:00Z/2020-09-30T23:59:59Z'"
      ]
     },
     "execution_count": 9,
     "metadata": {},
     "output_type": "execute_result"
    }
   ],
   "source": [
    "datetime_range = '2019-10-01T00:00:00Z/2020-09-30T23:59:59Z'\n",
    "datetime_range"
   ]
  },
  {
   "cell_type": "code",
   "execution_count": 10,
   "id": "e3ce455f-5142-4a1c-9dc7-67d8aac49e63",
   "metadata": {},
   "outputs": [],
   "source": [
    "search = ls_cat.search(\n",
    "    collections = ['landsat-c2l3-fsca'],       # fsca\n",
    "    bbox = bbox,                          # Specified above\n",
    "    datetime = datetime_range             # Specified above\n",
    ")"
   ]
  },
  {
   "cell_type": "code",
   "execution_count": 11,
   "id": "9b18e3f9-0b0a-4d0b-be90-b95c42cffda6",
   "metadata": {},
   "outputs": [
    {
     "data": {
      "text/plain": [
       "178"
      ]
     },
     "execution_count": 11,
     "metadata": {},
     "output_type": "execute_result"
    }
   ],
   "source": [
    "search.matched()"
   ]
  },
  {
   "cell_type": "markdown",
   "id": "7ceb197f-0626-47fd-ab71-33821dcd0c51",
   "metadata": {},
   "source": [
    "Print first 5 item ids and associated datetime"
   ]
  },
  {
   "cell_type": "code",
   "execution_count": 12,
   "id": "409783d1-9879-4db1-8782-8e234f249acb",
   "metadata": {},
   "outputs": [
    {
     "data": {
      "text/plain": [
       "['LC08_CU_003010_20200928_20210504_02_SNOW --- 2020-09-28 18:34:13.371343+00:00',\n",
       " 'LC08_CU_003009_20200928_20210504_02_SNOW --- 2020-09-28 18:34:01.425823+00:00',\n",
       " 'LE07_CU_003010_20200927_20210504_02_SNOW --- 2020-09-27 18:05:11.101380+00:00',\n",
       " 'LE07_CU_003009_20200927_20210504_02_SNOW --- 2020-09-27 18:04:47.213913+00:00',\n",
       " 'LE07_CU_003010_20200920_20210504_02_SNOW --- 2020-09-20 17:59:27.072009+00:00']"
      ]
     },
     "execution_count": 12,
     "metadata": {},
     "output_type": "execute_result"
    }
   ],
   "source": [
    "items = list(search.get_items())\n",
    "[f'{x.id} --- {x.datetime}' for x in items][:5]"
   ]
  },
  {
   "cell_type": "code",
   "execution_count": 13,
   "id": "b3552f0b-a530-4b80-ab37-42df474e5772",
   "metadata": {
    "tags": []
   },
   "outputs": [],
   "source": [
    "http_links = []\n",
    "\n",
    "for i in items:\n",
    "    for a in i.assets.values():\n",
    "        a_link = json.loads(json.dumps(a.to_dict()))\n",
    "        if a_link['href'].endswith('.TIF'):\n",
    "            http_links.append(a_link['href'])\n",
    "        "
   ]
  },
  {
   "cell_type": "code",
   "execution_count": 14,
   "id": "046008c2-ab2f-4ff1-817e-bf98b89ab73b",
   "metadata": {},
   "outputs": [
    {
     "data": {
      "text/plain": [
       "890"
      ]
     },
     "execution_count": 14,
     "metadata": {},
     "output_type": "execute_result"
    }
   ],
   "source": [
    "len(http_links)"
   ]
  },
  {
   "cell_type": "code",
   "execution_count": 16,
   "id": "e0a4c165-e86a-40bb-88b1-66d774f23949",
   "metadata": {},
   "outputs": [
    {
     "data": {
      "text/plain": [
       "['https://landsatlook.usgs.gov/level-3/collection02/SNOW/2020/CU/003/010/LC08_CU_003010_20200928_20210504_02_SNOW/LC08_CU_003010_20200928_20210504_02_VIEWABLE_SNOW.TIF',\n",
       " 'https://landsatlook.usgs.gov/level-3/collection02/SNOW/2020/CU/003/010/LC08_CU_003010_20200928_20210504_02_SNOW/LC08_CU_003010_20200928_20210504_02_GROUND_SNOW.TIF',\n",
       " 'https://landsatlook.usgs.gov/level-3/collection02/SNOW/2020/CU/003/010/LC08_CU_003010_20200928_20210504_02_SNOW/LC08_CU_003010_20200928_20210504_02_SCAG_SHADE.TIF',\n",
       " 'https://landsatlook.usgs.gov/level-3/collection02/SNOW/2020/CU/003/010/LC08_CU_003010_20200928_20210504_02_SNOW/LC08_CU_003010_20200928_20210504_02_SCAG_MASK.TIF',\n",
       " 'https://landsatlook.usgs.gov/level-3/collection02/SNOW/2020/CU/003/010/LC08_CU_003010_20200928_20210504_02_SNOW/LC08_CU_003010_20200928_20210504_02_FSCA_QA.TIF']"
      ]
     },
     "execution_count": 16,
     "metadata": {},
     "output_type": "execute_result"
    }
   ],
   "source": [
    "http_links[:5]"
   ]
  },
  {
   "cell_type": "code",
   "execution_count": 17,
   "id": "7c778e61-a9dd-4768-ab9a-c25db11a49e4",
   "metadata": {},
   "outputs": [],
   "source": [
    "s3_links = []\n",
    "\n",
    "for i in items:\n",
    "    for a in i.assets.values():\n",
    "        a_link = json.loads(json.dumps(a.to_dict()))\n",
    "        if 'alternate' in a_link:\n",
    "            s3_asset = a_link['alternate']['s3']['href']\n",
    "            if s3_asset.endswith('.TIF'):\n",
    "                s3_links.append(s3_asset)"
   ]
  },
  {
   "cell_type": "code",
   "execution_count": 18,
   "id": "dcbaf33c-8681-44cb-987d-ef4f5e39f1e1",
   "metadata": {},
   "outputs": [
    {
     "data": {
      "text/plain": [
       "890"
      ]
     },
     "execution_count": 18,
     "metadata": {},
     "output_type": "execute_result"
    }
   ],
   "source": [
    "len(s3_links)"
   ]
  },
  {
   "cell_type": "code",
   "execution_count": 19,
   "id": "15720ea6-8683-4696-87c5-d25737296a13",
   "metadata": {},
   "outputs": [
    {
     "data": {
      "text/plain": [
       "['s3://usgs-landsat-level-3/collection02/SNOW/2020/CU/003/010/LE07_CU_003010_20200312_20210504_02_SNOW/LE07_CU_003010_20200312_20210504_02_VIEWABLE_SNOW.TIF',\n",
       " 's3://usgs-landsat-level-3/collection02/SNOW/2020/CU/003/010/LE07_CU_003010_20200312_20210504_02_SNOW/LE07_CU_003010_20200312_20210504_02_GROUND_SNOW.TIF',\n",
       " 's3://usgs-landsat-level-3/collection02/SNOW/2020/CU/003/010/LE07_CU_003010_20200312_20210504_02_SNOW/LE07_CU_003010_20200312_20210504_02_SCAG_SHADE.TIF',\n",
       " 's3://usgs-landsat-level-3/collection02/SNOW/2020/CU/003/010/LE07_CU_003010_20200312_20210504_02_SNOW/LE07_CU_003010_20200312_20210504_02_SCAG_MASK.TIF',\n",
       " 's3://usgs-landsat-level-3/collection02/SNOW/2020/CU/003/010/LE07_CU_003010_20200312_20210504_02_SNOW/LE07_CU_003010_20200312_20210504_02_FSCA_QA.TIF',\n",
       " 's3://usgs-landsat-level-3/collection02/SNOW/2020/CU/003/009/LE07_CU_003009_20200312_20210504_02_SNOW/LE07_CU_003009_20200312_20210504_02_VIEWABLE_SNOW.TIF',\n",
       " 's3://usgs-landsat-level-3/collection02/SNOW/2020/CU/003/009/LE07_CU_003009_20200312_20210504_02_SNOW/LE07_CU_003009_20200312_20210504_02_GROUND_SNOW.TIF',\n",
       " 's3://usgs-landsat-level-3/collection02/SNOW/2020/CU/003/009/LE07_CU_003009_20200312_20210504_02_SNOW/LE07_CU_003009_20200312_20210504_02_SCAG_SHADE.TIF',\n",
       " 's3://usgs-landsat-level-3/collection02/SNOW/2020/CU/003/009/LE07_CU_003009_20200312_20210504_02_SNOW/LE07_CU_003009_20200312_20210504_02_SCAG_MASK.TIF',\n",
       " 's3://usgs-landsat-level-3/collection02/SNOW/2020/CU/003/009/LE07_CU_003009_20200312_20210504_02_SNOW/LE07_CU_003009_20200312_20210504_02_FSCA_QA.TIF']"
      ]
     },
     "execution_count": 19,
     "metadata": {},
     "output_type": "execute_result"
    }
   ],
   "source": [
    "s3_links[500:510]"
   ]
  },
  {
   "cell_type": "markdown",
   "id": "47a9d3e2-3058-4917-af6c-22f4f9095802",
   "metadata": {},
   "source": [
    "## Data Access - rioxarray"
   ]
  },
  {
   "cell_type": "markdown",
   "id": "91bab27c-e47e-4775-8e2b-1eeb632ebc22",
   "metadata": {},
   "source": [
    "Set working environment"
   ]
  },
  {
   "cell_type": "code",
   "execution_count": 20,
   "id": "5f12c802-35e6-4279-ba04-480ae8efcf24",
   "metadata": {},
   "outputs": [],
   "source": [
    "session = boto3.Session()"
   ]
  },
  {
   "cell_type": "code",
   "execution_count": 21,
   "id": "785caef1-1462-4974-b394-85ceb8c991f6",
   "metadata": {},
   "outputs": [
    {
     "data": {
      "text/plain": [
       "<rasterio.env.Env at 0x11304b890>"
      ]
     },
     "execution_count": 21,
     "metadata": {},
     "output_type": "execute_result"
    }
   ],
   "source": [
    "rio_env = rio.Env(AWSSession(session, requester_pays=True), \n",
    "                  AWS_NO_SIGN_REQUEST='NO',\n",
    "                  GDAL_DISABLE_READDIR_ON_OPEN='TRUE')\n",
    "rio_env.__enter__()"
   ]
  },
  {
   "cell_type": "code",
   "execution_count": 22,
   "id": "7446ea95-d1bc-42e6-adc5-0d4c6ec5018b",
   "metadata": {},
   "outputs": [],
   "source": [
    "s3_url = 's3://usgs-landsat-level-3/collection02/SNOW/2020/CU/003/009/LE07_CU_003009_20200312_20210504_02_SNOW/LE07_CU_003009_20200312_20210504_02_GROUND_SNOW.TIF'"
   ]
  },
  {
   "cell_type": "markdown",
   "id": "8c8e7ca5-01d8-44d1-865e-fe0cc5d0b226",
   "metadata": {},
   "source": [
    "Read S3 asset as xarray datarray "
   ]
  },
  {
   "cell_type": "code",
   "execution_count": 23,
   "id": "09f0bcdf-2369-4c9a-ae9b-3c05f83d0d86",
   "metadata": {},
   "outputs": [
    {
     "ename": "RasterioIOError",
     "evalue": "The AWS Access Key Id you provided does not exist in our records.",
     "output_type": "error",
     "traceback": [
      "\u001b[0;31m---------------------------------------------------------------------------\u001b[0m",
      "\u001b[0;31mKeyError\u001b[0m                                  Traceback (most recent call last)",
      "File \u001b[0;32m~/miniconda3/envs/stac/lib/python3.11/site-packages/xarray/backends/file_manager.py:209\u001b[0m, in \u001b[0;36mCachingFileManager._acquire_with_cache_info\u001b[0;34m(self, needs_lock)\u001b[0m\n\u001b[1;32m    208\u001b[0m \u001b[38;5;28;01mtry\u001b[39;00m:\n\u001b[0;32m--> 209\u001b[0m     file \u001b[38;5;241m=\u001b[39m \u001b[38;5;28;43mself\u001b[39;49m\u001b[38;5;241;43m.\u001b[39;49m\u001b[43m_cache\u001b[49m\u001b[43m[\u001b[49m\u001b[38;5;28;43mself\u001b[39;49m\u001b[38;5;241;43m.\u001b[39;49m\u001b[43m_key\u001b[49m\u001b[43m]\u001b[49m\n\u001b[1;32m    210\u001b[0m \u001b[38;5;28;01mexcept\u001b[39;00m \u001b[38;5;167;01mKeyError\u001b[39;00m:\n",
      "File \u001b[0;32m~/miniconda3/envs/stac/lib/python3.11/site-packages/xarray/backends/lru_cache.py:55\u001b[0m, in \u001b[0;36mLRUCache.__getitem__\u001b[0;34m(self, key)\u001b[0m\n\u001b[1;32m     54\u001b[0m \u001b[38;5;28;01mwith\u001b[39;00m \u001b[38;5;28mself\u001b[39m\u001b[38;5;241m.\u001b[39m_lock:\n\u001b[0;32m---> 55\u001b[0m     value \u001b[38;5;241m=\u001b[39m \u001b[38;5;28;43mself\u001b[39;49m\u001b[38;5;241;43m.\u001b[39;49m\u001b[43m_cache\u001b[49m\u001b[43m[\u001b[49m\u001b[43mkey\u001b[49m\u001b[43m]\u001b[49m\n\u001b[1;32m     56\u001b[0m     \u001b[38;5;28mself\u001b[39m\u001b[38;5;241m.\u001b[39m_cache\u001b[38;5;241m.\u001b[39mmove_to_end(key)\n",
      "\u001b[0;31mKeyError\u001b[0m: [<function open at 0x10ce66980>, ('s3://usgs-landsat-level-3/collection02/SNOW/2020/CU/003/009/LE07_CU_003009_20200312_20210504_02_SNOW/LE07_CU_003009_20200312_20210504_02_GROUND_SNOW.TIF',), 'r', (('sharing', False),), 'ea758573-07d8-459a-8f32-eb9d8cd6775c']",
      "\nDuring handling of the above exception, another exception occurred:\n",
      "\u001b[0;31mCPLE_AWSError\u001b[0m                             Traceback (most recent call last)",
      "File \u001b[0;32mrasterio/_base.pyx:302\u001b[0m, in \u001b[0;36mrasterio._base.DatasetBase.__init__\u001b[0;34m()\u001b[0m\n",
      "File \u001b[0;32mrasterio/_base.pyx:213\u001b[0m, in \u001b[0;36mrasterio._base.open_dataset\u001b[0;34m()\u001b[0m\n",
      "File \u001b[0;32mrasterio/_err.pyx:217\u001b[0m, in \u001b[0;36mrasterio._err.exc_wrap_pointer\u001b[0;34m()\u001b[0m\n",
      "\u001b[0;31mCPLE_AWSError\u001b[0m: The AWS Access Key Id you provided does not exist in our records.",
      "\nDuring handling of the above exception, another exception occurred:\n",
      "\u001b[0;31mRasterioIOError\u001b[0m                           Traceback (most recent call last)",
      "Cell \u001b[0;32mIn [23], line 1\u001b[0m\n\u001b[0;32m----> 1\u001b[0m da \u001b[38;5;241m=\u001b[39m \u001b[43mrioxarray\u001b[49m\u001b[38;5;241;43m.\u001b[39;49m\u001b[43mopen_rasterio\u001b[49m\u001b[43m(\u001b[49m\u001b[43ms3_url\u001b[49m\u001b[43m,\u001b[49m\u001b[43m \u001b[49m\u001b[43mchunks\u001b[49m\u001b[38;5;241;43m=\u001b[39;49m\u001b[38;5;124;43m'\u001b[39;49m\u001b[38;5;124;43mauto\u001b[39;49m\u001b[38;5;124;43m'\u001b[39;49m\u001b[43m)\u001b[49m\u001b[38;5;241m.\u001b[39msqueeze(\u001b[38;5;124m'\u001b[39m\u001b[38;5;124mband\u001b[39m\u001b[38;5;124m'\u001b[39m, drop\u001b[38;5;241m=\u001b[39m\u001b[38;5;28;01mTrue\u001b[39;00m)\n",
      "File \u001b[0;32m~/miniconda3/envs/stac/lib/python3.11/site-packages/rioxarray/_io.py:1087\u001b[0m, in \u001b[0;36mopen_rasterio\u001b[0;34m(filename, parse_coordinates, chunks, cache, lock, masked, mask_and_scale, variable, group, default_name, decode_times, decode_timedelta, band_as_variable, **open_kwargs)\u001b[0m\n\u001b[1;32m   1085\u001b[0m     \u001b[38;5;28;01melse\u001b[39;00m:\n\u001b[1;32m   1086\u001b[0m         manager \u001b[38;5;241m=\u001b[39m URIManager(file_opener, filename, mode\u001b[38;5;241m=\u001b[39m\u001b[38;5;124m\"\u001b[39m\u001b[38;5;124mr\u001b[39m\u001b[38;5;124m\"\u001b[39m, kwargs\u001b[38;5;241m=\u001b[39mopen_kwargs)\n\u001b[0;32m-> 1087\u001b[0m     riods \u001b[38;5;241m=\u001b[39m \u001b[43mmanager\u001b[49m\u001b[38;5;241;43m.\u001b[39;49m\u001b[43macquire\u001b[49m\u001b[43m(\u001b[49m\u001b[43m)\u001b[49m\n\u001b[1;32m   1088\u001b[0m     captured_warnings \u001b[38;5;241m=\u001b[39m rio_warnings\u001b[38;5;241m.\u001b[39mcopy()\n\u001b[1;32m   1090\u001b[0m \u001b[38;5;28;01mif\u001b[39;00m band_as_variable:\n",
      "File \u001b[0;32m~/miniconda3/envs/stac/lib/python3.11/site-packages/xarray/backends/file_manager.py:191\u001b[0m, in \u001b[0;36mCachingFileManager.acquire\u001b[0;34m(self, needs_lock)\u001b[0m\n\u001b[1;32m    176\u001b[0m \u001b[38;5;28;01mdef\u001b[39;00m \u001b[38;5;21macquire\u001b[39m(\u001b[38;5;28mself\u001b[39m, needs_lock\u001b[38;5;241m=\u001b[39m\u001b[38;5;28;01mTrue\u001b[39;00m):\n\u001b[1;32m    177\u001b[0m     \u001b[38;5;124;03m\"\"\"Acquire a file object from the manager.\u001b[39;00m\n\u001b[1;32m    178\u001b[0m \n\u001b[1;32m    179\u001b[0m \u001b[38;5;124;03m    A new file is only opened if it has expired from the\u001b[39;00m\n\u001b[0;32m   (...)\u001b[0m\n\u001b[1;32m    189\u001b[0m \u001b[38;5;124;03m        An open file object, as returned by ``opener(*args, **kwargs)``.\u001b[39;00m\n\u001b[1;32m    190\u001b[0m \u001b[38;5;124;03m    \"\"\"\u001b[39;00m\n\u001b[0;32m--> 191\u001b[0m     file, _ \u001b[38;5;241m=\u001b[39m \u001b[38;5;28;43mself\u001b[39;49m\u001b[38;5;241;43m.\u001b[39;49m\u001b[43m_acquire_with_cache_info\u001b[49m\u001b[43m(\u001b[49m\u001b[43mneeds_lock\u001b[49m\u001b[43m)\u001b[49m\n\u001b[1;32m    192\u001b[0m     \u001b[38;5;28;01mreturn\u001b[39;00m file\n",
      "File \u001b[0;32m~/miniconda3/envs/stac/lib/python3.11/site-packages/xarray/backends/file_manager.py:215\u001b[0m, in \u001b[0;36mCachingFileManager._acquire_with_cache_info\u001b[0;34m(self, needs_lock)\u001b[0m\n\u001b[1;32m    213\u001b[0m     kwargs \u001b[38;5;241m=\u001b[39m kwargs\u001b[38;5;241m.\u001b[39mcopy()\n\u001b[1;32m    214\u001b[0m     kwargs[\u001b[38;5;124m\"\u001b[39m\u001b[38;5;124mmode\u001b[39m\u001b[38;5;124m\"\u001b[39m] \u001b[38;5;241m=\u001b[39m \u001b[38;5;28mself\u001b[39m\u001b[38;5;241m.\u001b[39m_mode\n\u001b[0;32m--> 215\u001b[0m file \u001b[38;5;241m=\u001b[39m \u001b[38;5;28;43mself\u001b[39;49m\u001b[38;5;241;43m.\u001b[39;49m\u001b[43m_opener\u001b[49m\u001b[43m(\u001b[49m\u001b[38;5;241;43m*\u001b[39;49m\u001b[38;5;28;43mself\u001b[39;49m\u001b[38;5;241;43m.\u001b[39;49m\u001b[43m_args\u001b[49m\u001b[43m,\u001b[49m\u001b[43m \u001b[49m\u001b[38;5;241;43m*\u001b[39;49m\u001b[38;5;241;43m*\u001b[39;49m\u001b[43mkwargs\u001b[49m\u001b[43m)\u001b[49m\n\u001b[1;32m    216\u001b[0m \u001b[38;5;28;01mif\u001b[39;00m \u001b[38;5;28mself\u001b[39m\u001b[38;5;241m.\u001b[39m_mode \u001b[38;5;241m==\u001b[39m \u001b[38;5;124m\"\u001b[39m\u001b[38;5;124mw\u001b[39m\u001b[38;5;124m\"\u001b[39m:\n\u001b[1;32m    217\u001b[0m     \u001b[38;5;66;03m# ensure file doesn't get overridden when opened again\u001b[39;00m\n\u001b[1;32m    218\u001b[0m     \u001b[38;5;28mself\u001b[39m\u001b[38;5;241m.\u001b[39m_mode \u001b[38;5;241m=\u001b[39m \u001b[38;5;124m\"\u001b[39m\u001b[38;5;124ma\u001b[39m\u001b[38;5;124m\"\u001b[39m\n",
      "File \u001b[0;32m~/miniconda3/envs/stac/lib/python3.11/site-packages/rasterio/env.py:444\u001b[0m, in \u001b[0;36mensure_env_with_credentials.<locals>.wrapper\u001b[0;34m(*args, **kwds)\u001b[0m\n\u001b[1;32m    441\u001b[0m     session \u001b[38;5;241m=\u001b[39m DummySession()\n\u001b[1;32m    443\u001b[0m \u001b[38;5;28;01mwith\u001b[39;00m env_ctor(session\u001b[38;5;241m=\u001b[39msession):\n\u001b[0;32m--> 444\u001b[0m     \u001b[38;5;28;01mreturn\u001b[39;00m \u001b[43mf\u001b[49m\u001b[43m(\u001b[49m\u001b[38;5;241;43m*\u001b[39;49m\u001b[43margs\u001b[49m\u001b[43m,\u001b[49m\u001b[43m \u001b[49m\u001b[38;5;241;43m*\u001b[39;49m\u001b[38;5;241;43m*\u001b[39;49m\u001b[43mkwds\u001b[49m\u001b[43m)\u001b[49m\n",
      "File \u001b[0;32m~/miniconda3/envs/stac/lib/python3.11/site-packages/rasterio/__init__.py:304\u001b[0m, in \u001b[0;36mopen\u001b[0;34m(fp, mode, driver, width, height, count, crs, transform, dtype, nodata, sharing, **kwargs)\u001b[0m\n\u001b[1;32m    301\u001b[0m path \u001b[38;5;241m=\u001b[39m _parse_path(raw_dataset_path)\n\u001b[1;32m    303\u001b[0m \u001b[38;5;28;01mif\u001b[39;00m mode \u001b[38;5;241m==\u001b[39m \u001b[38;5;124m\"\u001b[39m\u001b[38;5;124mr\u001b[39m\u001b[38;5;124m\"\u001b[39m:\n\u001b[0;32m--> 304\u001b[0m     dataset \u001b[38;5;241m=\u001b[39m \u001b[43mDatasetReader\u001b[49m\u001b[43m(\u001b[49m\u001b[43mpath\u001b[49m\u001b[43m,\u001b[49m\u001b[43m \u001b[49m\u001b[43mdriver\u001b[49m\u001b[38;5;241;43m=\u001b[39;49m\u001b[43mdriver\u001b[49m\u001b[43m,\u001b[49m\u001b[43m \u001b[49m\u001b[43msharing\u001b[49m\u001b[38;5;241;43m=\u001b[39;49m\u001b[43msharing\u001b[49m\u001b[43m,\u001b[49m\u001b[43m \u001b[49m\u001b[38;5;241;43m*\u001b[39;49m\u001b[38;5;241;43m*\u001b[39;49m\u001b[43mkwargs\u001b[49m\u001b[43m)\u001b[49m\n\u001b[1;32m    305\u001b[0m \u001b[38;5;28;01melif\u001b[39;00m mode \u001b[38;5;241m==\u001b[39m \u001b[38;5;124m\"\u001b[39m\u001b[38;5;124mr+\u001b[39m\u001b[38;5;124m\"\u001b[39m:\n\u001b[1;32m    306\u001b[0m     dataset \u001b[38;5;241m=\u001b[39m get_writer_for_path(path, driver\u001b[38;5;241m=\u001b[39mdriver)(\n\u001b[1;32m    307\u001b[0m         path, mode, driver\u001b[38;5;241m=\u001b[39mdriver, sharing\u001b[38;5;241m=\u001b[39msharing, \u001b[38;5;241m*\u001b[39m\u001b[38;5;241m*\u001b[39mkwargs\n\u001b[1;32m    308\u001b[0m     )\n",
      "File \u001b[0;32mrasterio/_base.pyx:304\u001b[0m, in \u001b[0;36mrasterio._base.DatasetBase.__init__\u001b[0;34m()\u001b[0m\n",
      "\u001b[0;31mRasterioIOError\u001b[0m: The AWS Access Key Id you provided does not exist in our records."
     ]
    }
   ],
   "source": [
    "da = rioxarray.open_rasterio(s3_url, chunks='auto').squeeze('band', drop=True)"
   ]
  },
  {
   "cell_type": "code",
   "execution_count": 24,
   "id": "5bf097a9-bbc2-4e96-a3af-103a958af0db",
   "metadata": {},
   "outputs": [
    {
     "ename": "NameError",
     "evalue": "name 'da' is not defined",
     "output_type": "error",
     "traceback": [
      "\u001b[0;31m---------------------------------------------------------------------------\u001b[0m",
      "\u001b[0;31mNameError\u001b[0m                                 Traceback (most recent call last)",
      "Cell \u001b[0;32mIn [24], line 1\u001b[0m\n\u001b[0;32m----> 1\u001b[0m \u001b[43mda\u001b[49m\n",
      "\u001b[0;31mNameError\u001b[0m: name 'da' is not defined"
     ]
    }
   ],
   "source": [
    "da"
   ]
  },
  {
   "cell_type": "code",
   "execution_count": null,
   "id": "3e963d4e-3f8c-40d2-af08-387b2f707245",
   "metadata": {},
   "outputs": [],
   "source": [
    "da.plot()"
   ]
  },
  {
   "cell_type": "markdown",
   "id": "3fe8ad44-9cb9-4959-b634-073e04238faa",
   "metadata": {},
   "source": [
    "Plot scene"
   ]
  },
  {
   "cell_type": "code",
   "execution_count": null,
   "id": "72625a16-d616-4f79-88cd-ef2e86299c18",
   "metadata": {},
   "outputs": [],
   "source": [
    "#da.hvplot(x='x', y='y', crs='epsg:32617', rasterize=True, width=800, height=600, tiles = 'ESRI') # TODO: how to exclude fill values\n",
    "da.hvplot(x='x', y='y', crs='epsg:4326', rasterize=True, width=800, height=600)"
   ]
  },
  {
   "cell_type": "markdown",
   "id": "0868b6fd-ce21-4a15-bcef-7b5f119fdb8a",
   "metadata": {},
   "source": [
    "---"
   ]
  },
  {
   "cell_type": "markdown",
   "id": "4d498576-d67a-467d-a7fc-e4a172f624b6",
   "metadata": {},
   "source": [
    "## AWS CLI"
   ]
  },
  {
   "cell_type": "markdown",
   "id": "bcd9f6ac-b9d9-4583-9567-1c0a47b6a772",
   "metadata": {},
   "source": [
    "List content in bucket"
   ]
  },
  {
   "cell_type": "code",
   "execution_count": null,
   "id": "68109ced-f145-421c-892d-bb8b52a47dfc",
   "metadata": {},
   "outputs": [],
   "source": [
    "! aws s3 ls s3://usgs-landsat/collection02/level-1/standard/oli-tirs/2021/016/042/LC08_L1TP_016042_20211027_20211104_02_T1/ --request-payer requester"
   ]
  },
  {
   "cell_type": "markdown",
   "id": "01381761-0a61-469c-95aa-6eae3f32f640",
   "metadata": {},
   "source": [
    "Download content in bucket to local"
   ]
  },
  {
   "cell_type": "code",
   "execution_count": null,
   "id": "48761ac9-6ffd-469d-967d-ca30ab060a03",
   "metadata": {},
   "outputs": [],
   "source": [
    "! aws s3 cp s3://usgs-landsat/collection02/level-1/standard/oli-tirs/2021/016/042/LC08_L1TP_016042_20211027_20211104_02_T1/ . --recursive --request-payer "
   ]
  },
  {
   "cell_type": "code",
   "execution_count": null,
   "id": "dead3b1a-5079-4b74-8f1b-0accbfbb78c2",
   "metadata": {},
   "outputs": [],
   "source": []
  }
 ],
 "metadata": {
  "kernelspec": {
   "display_name": "stac_v2",
   "language": "python",
   "name": "stac"
  },
  "language_info": {
   "codemirror_mode": {
    "name": "ipython",
    "version": 3
   },
   "file_extension": ".py",
   "mimetype": "text/x-python",
   "name": "python",
   "nbconvert_exporter": "python",
   "pygments_lexer": "ipython3",
   "version": "3.11.0"
  }
 },
 "nbformat": 4,
 "nbformat_minor": 5
}
